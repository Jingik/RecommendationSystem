{
 "cells": [
  {
   "cell_type": "code",
   "execution_count": 1,
   "id": "5260f980",
   "metadata": {},
   "outputs": [],
   "source": [
    "path = 'C:/Users/gch05/data_sc/RecommendationSystem/Preprocessing/preprocess/'"
   ]
  },
  {
   "cell_type": "code",
   "execution_count": 2,
   "id": "83441380",
   "metadata": {},
   "outputs": [
    {
     "name": "stderr",
     "output_type": "stream",
     "text": [
      "C:\\Users\\gch05\\AppData\\Local\\Temp\\ipykernel_21024\\1332297163.py:30: SettingWithCopyWarning: \n",
      "A value is trying to be set on a copy of a slice from a DataFrame.\n",
      "Try using .loc[row_indexer,col_indexer] = value instead\n",
      "\n",
      "See the caveats in the documentation: https://pandas.pydata.org/pandas-docs/stable/user_guide/indexing.html#returning-a-view-versus-a-copy\n",
      "  filtered_ratings['movieIndex'] = filtered_ratings['movieId'].apply(lambda x: movie_id_to_index[x])\n"
     ]
    }
   ],
   "source": [
    "from sklearn.metrics.pairwise import cosine_similarity\n",
    "import pandas as pd\n",
    "import numpy as np\n",
    "\n",
    "# 영화 데이터 로드\n",
    "data = pd.read_csv(path+'sample_data.csv')\n",
    "\n",
    "# 'story' 열을 NumPy 배열로 변환\n",
    "def convert_to_array(s):\n",
    "    try:\n",
    "        return np.fromstring(s[1:-1], sep=' ')\n",
    "    except:\n",
    "        return np.nan\n",
    "\n",
    "data['story'] = data['story'].apply(convert_to_array)\n",
    "data = data.dropna(subset=['story'])\n",
    "story_array = np.vstack(data['story'].values)\n",
    "\n",
    "# 코사인 유사도 행렬 계산\n",
    "cosine_sim_story = cosine_similarity(story_array, story_array)\n",
    "\n",
    "# 평점 데이터 로드\n",
    "ratings_data  = pd.read_csv(path + \"../../dataset/ratings_refined.csv\", usecols=['userId', 'movieId', 'rating']) # 사용할 컬럼만 적용\n",
    "\n",
    "# 영화 ID를 인덱스로 매핑\n",
    "movie_id_to_index = {movie_id: index for index, movie_id in enumerate(data['movieId'])}\n",
    "\n",
    "# 평점 데이터에서 코사인 유사도 행렬에 있는 영화만 필터링\n",
    "filtered_ratings = ratings_data[ratings_data['movieId'].isin(movie_id_to_index.keys())]\n",
    "filtered_ratings['movieIndex'] = filtered_ratings['movieId'].apply(lambda x: movie_id_to_index[x])\n",
    "\n",
    "# 평점 데이터를 피벗 테이블로 변환\n",
    "ratings_matrix = filtered_ratings.pivot_table(index='userId', columns='movieIndex', values='rating')\n",
    "ratings_matrix = ratings_matrix.fillna(0)\n",
    "\n",
    "# 필터링된 코사인 유사도 행렬\n",
    "common_movie_indices = [movie_id_to_index[movie_id] for movie_id in filtered_ratings['movieId'].unique()]\n",
    "filtered_cosine_sim = cosine_sim_story[common_movie_indices, :][:, common_movie_indices]\n",
    "\n",
    "# # 점수 예측\n",
    "# predicted_ratings = np.dot(filtered_cosine_sim, ratings_matrix.T)\n",
    "# predicted_ratings = predicted_ratings.T\n",
    "\n",
    "# # 결과 출력\n",
    "# predicted_ratings\n"
   ]
  },
  {
   "cell_type": "code",
   "execution_count": 4,
   "id": "5d6c24aa",
   "metadata": {},
   "outputs": [
    {
     "data": {
      "application/vnd.jupyter.widget-view+json": {
       "model_id": "97f9cc72af514c3594aa023b4c4ee00a",
       "version_major": 2,
       "version_minor": 0
      },
      "text/plain": [
       "  0%|          | 0/610 [00:00<?, ?it/s]"
      ]
     },
     "metadata": {},
     "output_type": "display_data"
    },
    {
     "data": {
      "text/html": [
       "<div>\n",
       "<style scoped>\n",
       "    .dataframe tbody tr th:only-of-type {\n",
       "        vertical-align: middle;\n",
       "    }\n",
       "\n",
       "    .dataframe tbody tr th {\n",
       "        vertical-align: top;\n",
       "    }\n",
       "\n",
       "    .dataframe thead th {\n",
       "        text-align: right;\n",
       "    }\n",
       "</style>\n",
       "<table border=\"1\" class=\"dataframe\">\n",
       "  <thead>\n",
       "    <tr style=\"text-align: right;\">\n",
       "      <th></th>\n",
       "      <th>title</th>\n",
       "      <th>userId</th>\n",
       "      <th>pred_rating</th>\n",
       "    </tr>\n",
       "  </thead>\n",
       "  <tbody>\n",
       "    <tr>\n",
       "      <th>0</th>\n",
       "      <td>Toy Story</td>\n",
       "      <td>1</td>\n",
       "      <td>9.928277</td>\n",
       "    </tr>\n",
       "    <tr>\n",
       "      <th>1</th>\n",
       "      <td>Grumpier Old Men</td>\n",
       "      <td>1</td>\n",
       "      <td>-12.997760</td>\n",
       "    </tr>\n",
       "    <tr>\n",
       "      <th>2</th>\n",
       "      <td>Seven (a.k.a. Se7en)</td>\n",
       "      <td>1</td>\n",
       "      <td>2.618573</td>\n",
       "    </tr>\n",
       "    <tr>\n",
       "      <th>3</th>\n",
       "      <td>Usual Suspects, The</td>\n",
       "      <td>1</td>\n",
       "      <td>2.337160</td>\n",
       "    </tr>\n",
       "    <tr>\n",
       "      <th>4</th>\n",
       "      <td>Bottle Rocket</td>\n",
       "      <td>1</td>\n",
       "      <td>4.074539</td>\n",
       "    </tr>\n",
       "  </tbody>\n",
       "</table>\n",
       "</div>"
      ],
      "text/plain": [
       "                  title  userId  pred_rating\n",
       "0             Toy Story       1     9.928277\n",
       "1      Grumpier Old Men       1   -12.997760\n",
       "2  Seven (a.k.a. Se7en)       1     2.618573\n",
       "3   Usual Suspects, The       1     2.337160\n",
       "4         Bottle Rocket       1     4.074539"
      ]
     },
     "execution_count": 4,
     "metadata": {},
     "output_type": "execute_result"
    }
   ],
   "source": [
    "from tqdm.notebook import tqdm\n",
    "\n",
    "def modeling_item_story_title(cosine_sim, ratings_data, movie_id_to_index, common_movie_indices, movie_id_to_title):\n",
    "    # 필터링된 코사인 유사도 행렬을 DataFrame으로 변환\n",
    "    movie_ids = [movie_id for movie_id, idx in movie_id_to_index.items() if idx in common_movie_indices]\n",
    "    similarity_matrix = pd.DataFrame(cosine_sim, index=movie_ids, columns=movie_ids)\n",
    "\n",
    "    # 예측 평점을 저장할 DataFrame 초기화\n",
    "    df_pred_all = pd.DataFrame()\n",
    "    all_users = sorted(ratings_data['userId'].unique())\n",
    "\n",
    "    for user_id in tqdm(all_users):\n",
    "        user_data = ratings_data[ratings_data['userId'] == user_id]\n",
    "\n",
    "        # 사용자가 시청한 영화의 유사도 가져오기\n",
    "        watched_movies = user_data['movieId'].tolist()\n",
    "        watched_movies_indices = [movie_id for movie_id in watched_movies if movie_id in movie_ids]\n",
    "        watched_movies_titles = [movie_id_to_title[movie_id] for movie_id in watched_movies_indices]\n",
    "        sub_sim_mat = similarity_matrix.loc[watched_movies_indices, watched_movies_indices].to_numpy()\n",
    "\n",
    "        # 유사도 정규화\n",
    "        sim_N = np.sum(sub_sim_mat, axis=1) + 1\n",
    "\n",
    "        # 평점 예측\n",
    "        watched_movie_ratings = user_data['rating'].tolist()\n",
    "        pred_ratings = np.matmul(sub_sim_mat, watched_movie_ratings) / sim_N\n",
    "\n",
    "        # 제목을 포함한 결과 DataFrame 생성\n",
    "        user_list = [user_id] * len(watched_movies_titles)\n",
    "        cur_pred = pd.DataFrame(list(zip(watched_movies_titles, user_list, pred_ratings)),\n",
    "                                columns=['title', 'userId', 'pred_rating'])\n",
    "        df_pred_all = pd.concat([df_pred_all, cur_pred], axis=0)\n",
    "\n",
    "    return df_pred_all\n",
    "\n",
    "# movieId에서 title로의 매핑 생성\n",
    "movie_id_to_title = dict(zip(data['movieId'], data['title']))\n",
    "\n",
    "# 모델 실행\n",
    "df_pred_all = modeling_item_story_title(filtered_cosine_sim, filtered_ratings, movie_id_to_index, common_movie_indices, movie_id_to_title)\n",
    "\n",
    "# 결과의 첫 부분 출력\n",
    "df_pred_all.head()\n"
   ]
  },
  {
   "cell_type": "code",
   "execution_count": null,
   "id": "f3acc581",
   "metadata": {},
   "outputs": [],
   "source": []
  }
 ],
 "metadata": {
  "kernelspec": {
   "display_name": "Python 3 (ipykernel)",
   "language": "python",
   "name": "python3"
  },
  "language_info": {
   "codemirror_mode": {
    "name": "ipython",
    "version": 3
   },
   "file_extension": ".py",
   "mimetype": "text/x-python",
   "name": "python",
   "nbconvert_exporter": "python",
   "pygments_lexer": "ipython3",
   "version": "3.11.5"
  }
 },
 "nbformat": 4,
 "nbformat_minor": 5
}
