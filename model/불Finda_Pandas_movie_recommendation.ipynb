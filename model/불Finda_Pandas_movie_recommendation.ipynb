{
  "nbformat": 4,
  "nbformat_minor": 0,
  "metadata": {
    "colab": {
      "provenance": [],
      "toc_visible": true
    },
    "kernelspec": {
      "name": "python3",
      "display_name": "Python 3"
    },
    "language_info": {
      "name": "python"
    },
    "widgets": {
      "application/vnd.jupyter.widget-state+json": {
        "e2590b30f73840c7bf41838cc3310d8b": {
          "model_module": "@jupyter-widgets/controls",
          "model_name": "HBoxModel",
          "model_module_version": "1.5.0",
          "state": {
            "_dom_classes": [],
            "_model_module": "@jupyter-widgets/controls",
            "_model_module_version": "1.5.0",
            "_model_name": "HBoxModel",
            "_view_count": null,
            "_view_module": "@jupyter-widgets/controls",
            "_view_module_version": "1.5.0",
            "_view_name": "HBoxView",
            "box_style": "",
            "children": [
              "IPY_MODEL_1569a6ae592640eeb2dfd74dca12cf04",
              "IPY_MODEL_f16cb84e1b934194ae4eaae87027623e",
              "IPY_MODEL_187569daef19415faa29b430c285045d"
            ],
            "layout": "IPY_MODEL_80582c778f9e4433a779bf85277a88fc"
          }
        },
        "1569a6ae592640eeb2dfd74dca12cf04": {
          "model_module": "@jupyter-widgets/controls",
          "model_name": "HTMLModel",
          "model_module_version": "1.5.0",
          "state": {
            "_dom_classes": [],
            "_model_module": "@jupyter-widgets/controls",
            "_model_module_version": "1.5.0",
            "_model_name": "HTMLModel",
            "_view_count": null,
            "_view_module": "@jupyter-widgets/controls",
            "_view_module_version": "1.5.0",
            "_view_name": "HTMLView",
            "description": "",
            "description_tooltip": null,
            "layout": "IPY_MODEL_fc4f4773040a4d6588388f57a67b46fd",
            "placeholder": "​",
            "style": "IPY_MODEL_cca6c2285c614c79abaf35fe249090d1",
            "value": "100%"
          }
        },
        "f16cb84e1b934194ae4eaae87027623e": {
          "model_module": "@jupyter-widgets/controls",
          "model_name": "FloatProgressModel",
          "model_module_version": "1.5.0",
          "state": {
            "_dom_classes": [],
            "_model_module": "@jupyter-widgets/controls",
            "_model_module_version": "1.5.0",
            "_model_name": "FloatProgressModel",
            "_view_count": null,
            "_view_module": "@jupyter-widgets/controls",
            "_view_module_version": "1.5.0",
            "_view_name": "ProgressView",
            "bar_style": "success",
            "description": "",
            "description_tooltip": null,
            "layout": "IPY_MODEL_03a510e6e70043a791107858ec318790",
            "max": 609,
            "min": 0,
            "orientation": "horizontal",
            "style": "IPY_MODEL_e8f11a24cee445d3a1e85a407b3af89c",
            "value": 609
          }
        },
        "187569daef19415faa29b430c285045d": {
          "model_module": "@jupyter-widgets/controls",
          "model_name": "HTMLModel",
          "model_module_version": "1.5.0",
          "state": {
            "_dom_classes": [],
            "_model_module": "@jupyter-widgets/controls",
            "_model_module_version": "1.5.0",
            "_model_name": "HTMLModel",
            "_view_count": null,
            "_view_module": "@jupyter-widgets/controls",
            "_view_module_version": "1.5.0",
            "_view_name": "HTMLView",
            "description": "",
            "description_tooltip": null,
            "layout": "IPY_MODEL_ca32bc206c7e451dbf9064effbe2bbfb",
            "placeholder": "​",
            "style": "IPY_MODEL_c2246caaa3e3483eb4094cc9f04dcc6e",
            "value": " 609/609 [00:11&lt;00:00, 38.60it/s]"
          }
        },
        "80582c778f9e4433a779bf85277a88fc": {
          "model_module": "@jupyter-widgets/base",
          "model_name": "LayoutModel",
          "model_module_version": "1.2.0",
          "state": {
            "_model_module": "@jupyter-widgets/base",
            "_model_module_version": "1.2.0",
            "_model_name": "LayoutModel",
            "_view_count": null,
            "_view_module": "@jupyter-widgets/base",
            "_view_module_version": "1.2.0",
            "_view_name": "LayoutView",
            "align_content": null,
            "align_items": null,
            "align_self": null,
            "border": null,
            "bottom": null,
            "display": null,
            "flex": null,
            "flex_flow": null,
            "grid_area": null,
            "grid_auto_columns": null,
            "grid_auto_flow": null,
            "grid_auto_rows": null,
            "grid_column": null,
            "grid_gap": null,
            "grid_row": null,
            "grid_template_areas": null,
            "grid_template_columns": null,
            "grid_template_rows": null,
            "height": null,
            "justify_content": null,
            "justify_items": null,
            "left": null,
            "margin": null,
            "max_height": null,
            "max_width": null,
            "min_height": null,
            "min_width": null,
            "object_fit": null,
            "object_position": null,
            "order": null,
            "overflow": null,
            "overflow_x": null,
            "overflow_y": null,
            "padding": null,
            "right": null,
            "top": null,
            "visibility": null,
            "width": null
          }
        },
        "fc4f4773040a4d6588388f57a67b46fd": {
          "model_module": "@jupyter-widgets/base",
          "model_name": "LayoutModel",
          "model_module_version": "1.2.0",
          "state": {
            "_model_module": "@jupyter-widgets/base",
            "_model_module_version": "1.2.0",
            "_model_name": "LayoutModel",
            "_view_count": null,
            "_view_module": "@jupyter-widgets/base",
            "_view_module_version": "1.2.0",
            "_view_name": "LayoutView",
            "align_content": null,
            "align_items": null,
            "align_self": null,
            "border": null,
            "bottom": null,
            "display": null,
            "flex": null,
            "flex_flow": null,
            "grid_area": null,
            "grid_auto_columns": null,
            "grid_auto_flow": null,
            "grid_auto_rows": null,
            "grid_column": null,
            "grid_gap": null,
            "grid_row": null,
            "grid_template_areas": null,
            "grid_template_columns": null,
            "grid_template_rows": null,
            "height": null,
            "justify_content": null,
            "justify_items": null,
            "left": null,
            "margin": null,
            "max_height": null,
            "max_width": null,
            "min_height": null,
            "min_width": null,
            "object_fit": null,
            "object_position": null,
            "order": null,
            "overflow": null,
            "overflow_x": null,
            "overflow_y": null,
            "padding": null,
            "right": null,
            "top": null,
            "visibility": null,
            "width": null
          }
        },
        "cca6c2285c614c79abaf35fe249090d1": {
          "model_module": "@jupyter-widgets/controls",
          "model_name": "DescriptionStyleModel",
          "model_module_version": "1.5.0",
          "state": {
            "_model_module": "@jupyter-widgets/controls",
            "_model_module_version": "1.5.0",
            "_model_name": "DescriptionStyleModel",
            "_view_count": null,
            "_view_module": "@jupyter-widgets/base",
            "_view_module_version": "1.2.0",
            "_view_name": "StyleView",
            "description_width": ""
          }
        },
        "03a510e6e70043a791107858ec318790": {
          "model_module": "@jupyter-widgets/base",
          "model_name": "LayoutModel",
          "model_module_version": "1.2.0",
          "state": {
            "_model_module": "@jupyter-widgets/base",
            "_model_module_version": "1.2.0",
            "_model_name": "LayoutModel",
            "_view_count": null,
            "_view_module": "@jupyter-widgets/base",
            "_view_module_version": "1.2.0",
            "_view_name": "LayoutView",
            "align_content": null,
            "align_items": null,
            "align_self": null,
            "border": null,
            "bottom": null,
            "display": null,
            "flex": null,
            "flex_flow": null,
            "grid_area": null,
            "grid_auto_columns": null,
            "grid_auto_flow": null,
            "grid_auto_rows": null,
            "grid_column": null,
            "grid_gap": null,
            "grid_row": null,
            "grid_template_areas": null,
            "grid_template_columns": null,
            "grid_template_rows": null,
            "height": null,
            "justify_content": null,
            "justify_items": null,
            "left": null,
            "margin": null,
            "max_height": null,
            "max_width": null,
            "min_height": null,
            "min_width": null,
            "object_fit": null,
            "object_position": null,
            "order": null,
            "overflow": null,
            "overflow_x": null,
            "overflow_y": null,
            "padding": null,
            "right": null,
            "top": null,
            "visibility": null,
            "width": null
          }
        },
        "e8f11a24cee445d3a1e85a407b3af89c": {
          "model_module": "@jupyter-widgets/controls",
          "model_name": "ProgressStyleModel",
          "model_module_version": "1.5.0",
          "state": {
            "_model_module": "@jupyter-widgets/controls",
            "_model_module_version": "1.5.0",
            "_model_name": "ProgressStyleModel",
            "_view_count": null,
            "_view_module": "@jupyter-widgets/base",
            "_view_module_version": "1.2.0",
            "_view_name": "StyleView",
            "bar_color": null,
            "description_width": ""
          }
        },
        "ca32bc206c7e451dbf9064effbe2bbfb": {
          "model_module": "@jupyter-widgets/base",
          "model_name": "LayoutModel",
          "model_module_version": "1.2.0",
          "state": {
            "_model_module": "@jupyter-widgets/base",
            "_model_module_version": "1.2.0",
            "_model_name": "LayoutModel",
            "_view_count": null,
            "_view_module": "@jupyter-widgets/base",
            "_view_module_version": "1.2.0",
            "_view_name": "LayoutView",
            "align_content": null,
            "align_items": null,
            "align_self": null,
            "border": null,
            "bottom": null,
            "display": null,
            "flex": null,
            "flex_flow": null,
            "grid_area": null,
            "grid_auto_columns": null,
            "grid_auto_flow": null,
            "grid_auto_rows": null,
            "grid_column": null,
            "grid_gap": null,
            "grid_row": null,
            "grid_template_areas": null,
            "grid_template_columns": null,
            "grid_template_rows": null,
            "height": null,
            "justify_content": null,
            "justify_items": null,
            "left": null,
            "margin": null,
            "max_height": null,
            "max_width": null,
            "min_height": null,
            "min_width": null,
            "object_fit": null,
            "object_position": null,
            "order": null,
            "overflow": null,
            "overflow_x": null,
            "overflow_y": null,
            "padding": null,
            "right": null,
            "top": null,
            "visibility": null,
            "width": null
          }
        },
        "c2246caaa3e3483eb4094cc9f04dcc6e": {
          "model_module": "@jupyter-widgets/controls",
          "model_name": "DescriptionStyleModel",
          "model_module_version": "1.5.0",
          "state": {
            "_model_module": "@jupyter-widgets/controls",
            "_model_module_version": "1.5.0",
            "_model_name": "DescriptionStyleModel",
            "_view_count": null,
            "_view_module": "@jupyter-widgets/base",
            "_view_module_version": "1.2.0",
            "_view_name": "StyleView",
            "description_width": ""
          }
        },
        "91d22fcb7b184050b8a23803d7bdba57": {
          "model_module": "@jupyter-widgets/controls",
          "model_name": "HBoxModel",
          "model_module_version": "1.5.0",
          "state": {
            "_dom_classes": [],
            "_model_module": "@jupyter-widgets/controls",
            "_model_module_version": "1.5.0",
            "_model_name": "HBoxModel",
            "_view_count": null,
            "_view_module": "@jupyter-widgets/controls",
            "_view_module_version": "1.5.0",
            "_view_name": "HBoxView",
            "box_style": "",
            "children": [
              "IPY_MODEL_07bc092537e8409f82cc6ec97241d653",
              "IPY_MODEL_b0d883192f774c59ac7d3a361f18d822",
              "IPY_MODEL_38130621b92640d6896e2cbd34052021"
            ],
            "layout": "IPY_MODEL_fc0e63a1fd874b9c8aef56162f5d581f"
          }
        },
        "07bc092537e8409f82cc6ec97241d653": {
          "model_module": "@jupyter-widgets/controls",
          "model_name": "HTMLModel",
          "model_module_version": "1.5.0",
          "state": {
            "_dom_classes": [],
            "_model_module": "@jupyter-widgets/controls",
            "_model_module_version": "1.5.0",
            "_model_name": "HTMLModel",
            "_view_count": null,
            "_view_module": "@jupyter-widgets/controls",
            "_view_module_version": "1.5.0",
            "_view_name": "HTMLView",
            "description": "",
            "description_tooltip": null,
            "layout": "IPY_MODEL_a94a2707257645de910c8ff8d39d6c8c",
            "placeholder": "​",
            "style": "IPY_MODEL_e240bda5be2f4e21abea872c4a5a7249",
            "value": "100%"
          }
        },
        "b0d883192f774c59ac7d3a361f18d822": {
          "model_module": "@jupyter-widgets/controls",
          "model_name": "FloatProgressModel",
          "model_module_version": "1.5.0",
          "state": {
            "_dom_classes": [],
            "_model_module": "@jupyter-widgets/controls",
            "_model_module_version": "1.5.0",
            "_model_name": "FloatProgressModel",
            "_view_count": null,
            "_view_module": "@jupyter-widgets/controls",
            "_view_module_version": "1.5.0",
            "_view_name": "ProgressView",
            "bar_style": "success",
            "description": "",
            "description_tooltip": null,
            "layout": "IPY_MODEL_ddb36dea3d4e4bb9b212b92b8a192bfd",
            "max": 609,
            "min": 0,
            "orientation": "horizontal",
            "style": "IPY_MODEL_ffd2867ff3e4487cb8435dcd52d4c678",
            "value": 609
          }
        },
        "38130621b92640d6896e2cbd34052021": {
          "model_module": "@jupyter-widgets/controls",
          "model_name": "HTMLModel",
          "model_module_version": "1.5.0",
          "state": {
            "_dom_classes": [],
            "_model_module": "@jupyter-widgets/controls",
            "_model_module_version": "1.5.0",
            "_model_name": "HTMLModel",
            "_view_count": null,
            "_view_module": "@jupyter-widgets/controls",
            "_view_module_version": "1.5.0",
            "_view_name": "HTMLView",
            "description": "",
            "description_tooltip": null,
            "layout": "IPY_MODEL_2c9ce867884643f5bbaf028b9452db5c",
            "placeholder": "​",
            "style": "IPY_MODEL_07d6aab1f1b84cfd954e6c4f2ae174e6",
            "value": " 609/609 [00:09&lt;00:00, 55.21it/s]"
          }
        },
        "fc0e63a1fd874b9c8aef56162f5d581f": {
          "model_module": "@jupyter-widgets/base",
          "model_name": "LayoutModel",
          "model_module_version": "1.2.0",
          "state": {
            "_model_module": "@jupyter-widgets/base",
            "_model_module_version": "1.2.0",
            "_model_name": "LayoutModel",
            "_view_count": null,
            "_view_module": "@jupyter-widgets/base",
            "_view_module_version": "1.2.0",
            "_view_name": "LayoutView",
            "align_content": null,
            "align_items": null,
            "align_self": null,
            "border": null,
            "bottom": null,
            "display": null,
            "flex": null,
            "flex_flow": null,
            "grid_area": null,
            "grid_auto_columns": null,
            "grid_auto_flow": null,
            "grid_auto_rows": null,
            "grid_column": null,
            "grid_gap": null,
            "grid_row": null,
            "grid_template_areas": null,
            "grid_template_columns": null,
            "grid_template_rows": null,
            "height": null,
            "justify_content": null,
            "justify_items": null,
            "left": null,
            "margin": null,
            "max_height": null,
            "max_width": null,
            "min_height": null,
            "min_width": null,
            "object_fit": null,
            "object_position": null,
            "order": null,
            "overflow": null,
            "overflow_x": null,
            "overflow_y": null,
            "padding": null,
            "right": null,
            "top": null,
            "visibility": null,
            "width": null
          }
        },
        "a94a2707257645de910c8ff8d39d6c8c": {
          "model_module": "@jupyter-widgets/base",
          "model_name": "LayoutModel",
          "model_module_version": "1.2.0",
          "state": {
            "_model_module": "@jupyter-widgets/base",
            "_model_module_version": "1.2.0",
            "_model_name": "LayoutModel",
            "_view_count": null,
            "_view_module": "@jupyter-widgets/base",
            "_view_module_version": "1.2.0",
            "_view_name": "LayoutView",
            "align_content": null,
            "align_items": null,
            "align_self": null,
            "border": null,
            "bottom": null,
            "display": null,
            "flex": null,
            "flex_flow": null,
            "grid_area": null,
            "grid_auto_columns": null,
            "grid_auto_flow": null,
            "grid_auto_rows": null,
            "grid_column": null,
            "grid_gap": null,
            "grid_row": null,
            "grid_template_areas": null,
            "grid_template_columns": null,
            "grid_template_rows": null,
            "height": null,
            "justify_content": null,
            "justify_items": null,
            "left": null,
            "margin": null,
            "max_height": null,
            "max_width": null,
            "min_height": null,
            "min_width": null,
            "object_fit": null,
            "object_position": null,
            "order": null,
            "overflow": null,
            "overflow_x": null,
            "overflow_y": null,
            "padding": null,
            "right": null,
            "top": null,
            "visibility": null,
            "width": null
          }
        },
        "e240bda5be2f4e21abea872c4a5a7249": {
          "model_module": "@jupyter-widgets/controls",
          "model_name": "DescriptionStyleModel",
          "model_module_version": "1.5.0",
          "state": {
            "_model_module": "@jupyter-widgets/controls",
            "_model_module_version": "1.5.0",
            "_model_name": "DescriptionStyleModel",
            "_view_count": null,
            "_view_module": "@jupyter-widgets/base",
            "_view_module_version": "1.2.0",
            "_view_name": "StyleView",
            "description_width": ""
          }
        },
        "ddb36dea3d4e4bb9b212b92b8a192bfd": {
          "model_module": "@jupyter-widgets/base",
          "model_name": "LayoutModel",
          "model_module_version": "1.2.0",
          "state": {
            "_model_module": "@jupyter-widgets/base",
            "_model_module_version": "1.2.0",
            "_model_name": "LayoutModel",
            "_view_count": null,
            "_view_module": "@jupyter-widgets/base",
            "_view_module_version": "1.2.0",
            "_view_name": "LayoutView",
            "align_content": null,
            "align_items": null,
            "align_self": null,
            "border": null,
            "bottom": null,
            "display": null,
            "flex": null,
            "flex_flow": null,
            "grid_area": null,
            "grid_auto_columns": null,
            "grid_auto_flow": null,
            "grid_auto_rows": null,
            "grid_column": null,
            "grid_gap": null,
            "grid_row": null,
            "grid_template_areas": null,
            "grid_template_columns": null,
            "grid_template_rows": null,
            "height": null,
            "justify_content": null,
            "justify_items": null,
            "left": null,
            "margin": null,
            "max_height": null,
            "max_width": null,
            "min_height": null,
            "min_width": null,
            "object_fit": null,
            "object_position": null,
            "order": null,
            "overflow": null,
            "overflow_x": null,
            "overflow_y": null,
            "padding": null,
            "right": null,
            "top": null,
            "visibility": null,
            "width": null
          }
        },
        "ffd2867ff3e4487cb8435dcd52d4c678": {
          "model_module": "@jupyter-widgets/controls",
          "model_name": "ProgressStyleModel",
          "model_module_version": "1.5.0",
          "state": {
            "_model_module": "@jupyter-widgets/controls",
            "_model_module_version": "1.5.0",
            "_model_name": "ProgressStyleModel",
            "_view_count": null,
            "_view_module": "@jupyter-widgets/base",
            "_view_module_version": "1.2.0",
            "_view_name": "StyleView",
            "bar_color": null,
            "description_width": ""
          }
        },
        "2c9ce867884643f5bbaf028b9452db5c": {
          "model_module": "@jupyter-widgets/base",
          "model_name": "LayoutModel",
          "model_module_version": "1.2.0",
          "state": {
            "_model_module": "@jupyter-widgets/base",
            "_model_module_version": "1.2.0",
            "_model_name": "LayoutModel",
            "_view_count": null,
            "_view_module": "@jupyter-widgets/base",
            "_view_module_version": "1.2.0",
            "_view_name": "LayoutView",
            "align_content": null,
            "align_items": null,
            "align_self": null,
            "border": null,
            "bottom": null,
            "display": null,
            "flex": null,
            "flex_flow": null,
            "grid_area": null,
            "grid_auto_columns": null,
            "grid_auto_flow": null,
            "grid_auto_rows": null,
            "grid_column": null,
            "grid_gap": null,
            "grid_row": null,
            "grid_template_areas": null,
            "grid_template_columns": null,
            "grid_template_rows": null,
            "height": null,
            "justify_content": null,
            "justify_items": null,
            "left": null,
            "margin": null,
            "max_height": null,
            "max_width": null,
            "min_height": null,
            "min_width": null,
            "object_fit": null,
            "object_position": null,
            "order": null,
            "overflow": null,
            "overflow_x": null,
            "overflow_y": null,
            "padding": null,
            "right": null,
            "top": null,
            "visibility": null,
            "width": null
          }
        },
        "07d6aab1f1b84cfd954e6c4f2ae174e6": {
          "model_module": "@jupyter-widgets/controls",
          "model_name": "DescriptionStyleModel",
          "model_module_version": "1.5.0",
          "state": {
            "_model_module": "@jupyter-widgets/controls",
            "_model_module_version": "1.5.0",
            "_model_name": "DescriptionStyleModel",
            "_view_count": null,
            "_view_module": "@jupyter-widgets/base",
            "_view_module_version": "1.2.0",
            "_view_name": "StyleView",
            "description_width": ""
          }
        },
        "ea47379a806448898243cab6ab03c701": {
          "model_module": "@jupyter-widgets/controls",
          "model_name": "HBoxModel",
          "model_module_version": "1.5.0",
          "state": {
            "_dom_classes": [],
            "_model_module": "@jupyter-widgets/controls",
            "_model_module_version": "1.5.0",
            "_model_name": "HBoxModel",
            "_view_count": null,
            "_view_module": "@jupyter-widgets/controls",
            "_view_module_version": "1.5.0",
            "_view_name": "HBoxView",
            "box_style": "",
            "children": [
              "IPY_MODEL_54268d8560cf448982ac9d46fc987858",
              "IPY_MODEL_29d7b7bddf1a48bbbf7d475459bfe47f",
              "IPY_MODEL_b77c1ba15b544d1c95a35619b2eef920"
            ],
            "layout": "IPY_MODEL_37d13e0b90274403a91d548a579046d7"
          }
        },
        "54268d8560cf448982ac9d46fc987858": {
          "model_module": "@jupyter-widgets/controls",
          "model_name": "HTMLModel",
          "model_module_version": "1.5.0",
          "state": {
            "_dom_classes": [],
            "_model_module": "@jupyter-widgets/controls",
            "_model_module_version": "1.5.0",
            "_model_name": "HTMLModel",
            "_view_count": null,
            "_view_module": "@jupyter-widgets/controls",
            "_view_module_version": "1.5.0",
            "_view_name": "HTMLView",
            "description": "",
            "description_tooltip": null,
            "layout": "IPY_MODEL_42489aa3c850463eb21fb0578da54669",
            "placeholder": "​",
            "style": "IPY_MODEL_c804e96727394ee5b3c59e4f1a9b78c2",
            "value": "100%"
          }
        },
        "29d7b7bddf1a48bbbf7d475459bfe47f": {
          "model_module": "@jupyter-widgets/controls",
          "model_name": "FloatProgressModel",
          "model_module_version": "1.5.0",
          "state": {
            "_dom_classes": [],
            "_model_module": "@jupyter-widgets/controls",
            "_model_module_version": "1.5.0",
            "_model_name": "FloatProgressModel",
            "_view_count": null,
            "_view_module": "@jupyter-widgets/controls",
            "_view_module_version": "1.5.0",
            "_view_name": "ProgressView",
            "bar_style": "success",
            "description": "",
            "description_tooltip": null,
            "layout": "IPY_MODEL_a9926a4687574de8bc4221d8034e0996",
            "max": 609,
            "min": 0,
            "orientation": "horizontal",
            "style": "IPY_MODEL_f006932a75a84e79abc606ec50fee0e8",
            "value": 609
          }
        },
        "b77c1ba15b544d1c95a35619b2eef920": {
          "model_module": "@jupyter-widgets/controls",
          "model_name": "HTMLModel",
          "model_module_version": "1.5.0",
          "state": {
            "_dom_classes": [],
            "_model_module": "@jupyter-widgets/controls",
            "_model_module_version": "1.5.0",
            "_model_name": "HTMLModel",
            "_view_count": null,
            "_view_module": "@jupyter-widgets/controls",
            "_view_module_version": "1.5.0",
            "_view_name": "HTMLView",
            "description": "",
            "description_tooltip": null,
            "layout": "IPY_MODEL_9ddd1dab3cde453a90e00b9f42336bf5",
            "placeholder": "​",
            "style": "IPY_MODEL_5d45f4f23dea466aa2c0884168a5f969",
            "value": " 609/609 [00:12&lt;00:00, 50.94it/s]"
          }
        },
        "37d13e0b90274403a91d548a579046d7": {
          "model_module": "@jupyter-widgets/base",
          "model_name": "LayoutModel",
          "model_module_version": "1.2.0",
          "state": {
            "_model_module": "@jupyter-widgets/base",
            "_model_module_version": "1.2.0",
            "_model_name": "LayoutModel",
            "_view_count": null,
            "_view_module": "@jupyter-widgets/base",
            "_view_module_version": "1.2.0",
            "_view_name": "LayoutView",
            "align_content": null,
            "align_items": null,
            "align_self": null,
            "border": null,
            "bottom": null,
            "display": null,
            "flex": null,
            "flex_flow": null,
            "grid_area": null,
            "grid_auto_columns": null,
            "grid_auto_flow": null,
            "grid_auto_rows": null,
            "grid_column": null,
            "grid_gap": null,
            "grid_row": null,
            "grid_template_areas": null,
            "grid_template_columns": null,
            "grid_template_rows": null,
            "height": null,
            "justify_content": null,
            "justify_items": null,
            "left": null,
            "margin": null,
            "max_height": null,
            "max_width": null,
            "min_height": null,
            "min_width": null,
            "object_fit": null,
            "object_position": null,
            "order": null,
            "overflow": null,
            "overflow_x": null,
            "overflow_y": null,
            "padding": null,
            "right": null,
            "top": null,
            "visibility": null,
            "width": null
          }
        },
        "42489aa3c850463eb21fb0578da54669": {
          "model_module": "@jupyter-widgets/base",
          "model_name": "LayoutModel",
          "model_module_version": "1.2.0",
          "state": {
            "_model_module": "@jupyter-widgets/base",
            "_model_module_version": "1.2.0",
            "_model_name": "LayoutModel",
            "_view_count": null,
            "_view_module": "@jupyter-widgets/base",
            "_view_module_version": "1.2.0",
            "_view_name": "LayoutView",
            "align_content": null,
            "align_items": null,
            "align_self": null,
            "border": null,
            "bottom": null,
            "display": null,
            "flex": null,
            "flex_flow": null,
            "grid_area": null,
            "grid_auto_columns": null,
            "grid_auto_flow": null,
            "grid_auto_rows": null,
            "grid_column": null,
            "grid_gap": null,
            "grid_row": null,
            "grid_template_areas": null,
            "grid_template_columns": null,
            "grid_template_rows": null,
            "height": null,
            "justify_content": null,
            "justify_items": null,
            "left": null,
            "margin": null,
            "max_height": null,
            "max_width": null,
            "min_height": null,
            "min_width": null,
            "object_fit": null,
            "object_position": null,
            "order": null,
            "overflow": null,
            "overflow_x": null,
            "overflow_y": null,
            "padding": null,
            "right": null,
            "top": null,
            "visibility": null,
            "width": null
          }
        },
        "c804e96727394ee5b3c59e4f1a9b78c2": {
          "model_module": "@jupyter-widgets/controls",
          "model_name": "DescriptionStyleModel",
          "model_module_version": "1.5.0",
          "state": {
            "_model_module": "@jupyter-widgets/controls",
            "_model_module_version": "1.5.0",
            "_model_name": "DescriptionStyleModel",
            "_view_count": null,
            "_view_module": "@jupyter-widgets/base",
            "_view_module_version": "1.2.0",
            "_view_name": "StyleView",
            "description_width": ""
          }
        },
        "a9926a4687574de8bc4221d8034e0996": {
          "model_module": "@jupyter-widgets/base",
          "model_name": "LayoutModel",
          "model_module_version": "1.2.0",
          "state": {
            "_model_module": "@jupyter-widgets/base",
            "_model_module_version": "1.2.0",
            "_model_name": "LayoutModel",
            "_view_count": null,
            "_view_module": "@jupyter-widgets/base",
            "_view_module_version": "1.2.0",
            "_view_name": "LayoutView",
            "align_content": null,
            "align_items": null,
            "align_self": null,
            "border": null,
            "bottom": null,
            "display": null,
            "flex": null,
            "flex_flow": null,
            "grid_area": null,
            "grid_auto_columns": null,
            "grid_auto_flow": null,
            "grid_auto_rows": null,
            "grid_column": null,
            "grid_gap": null,
            "grid_row": null,
            "grid_template_areas": null,
            "grid_template_columns": null,
            "grid_template_rows": null,
            "height": null,
            "justify_content": null,
            "justify_items": null,
            "left": null,
            "margin": null,
            "max_height": null,
            "max_width": null,
            "min_height": null,
            "min_width": null,
            "object_fit": null,
            "object_position": null,
            "order": null,
            "overflow": null,
            "overflow_x": null,
            "overflow_y": null,
            "padding": null,
            "right": null,
            "top": null,
            "visibility": null,
            "width": null
          }
        },
        "f006932a75a84e79abc606ec50fee0e8": {
          "model_module": "@jupyter-widgets/controls",
          "model_name": "ProgressStyleModel",
          "model_module_version": "1.5.0",
          "state": {
            "_model_module": "@jupyter-widgets/controls",
            "_model_module_version": "1.5.0",
            "_model_name": "ProgressStyleModel",
            "_view_count": null,
            "_view_module": "@jupyter-widgets/base",
            "_view_module_version": "1.2.0",
            "_view_name": "StyleView",
            "bar_color": null,
            "description_width": ""
          }
        },
        "9ddd1dab3cde453a90e00b9f42336bf5": {
          "model_module": "@jupyter-widgets/base",
          "model_name": "LayoutModel",
          "model_module_version": "1.2.0",
          "state": {
            "_model_module": "@jupyter-widgets/base",
            "_model_module_version": "1.2.0",
            "_model_name": "LayoutModel",
            "_view_count": null,
            "_view_module": "@jupyter-widgets/base",
            "_view_module_version": "1.2.0",
            "_view_name": "LayoutView",
            "align_content": null,
            "align_items": null,
            "align_self": null,
            "border": null,
            "bottom": null,
            "display": null,
            "flex": null,
            "flex_flow": null,
            "grid_area": null,
            "grid_auto_columns": null,
            "grid_auto_flow": null,
            "grid_auto_rows": null,
            "grid_column": null,
            "grid_gap": null,
            "grid_row": null,
            "grid_template_areas": null,
            "grid_template_columns": null,
            "grid_template_rows": null,
            "height": null,
            "justify_content": null,
            "justify_items": null,
            "left": null,
            "margin": null,
            "max_height": null,
            "max_width": null,
            "min_height": null,
            "min_width": null,
            "object_fit": null,
            "object_position": null,
            "order": null,
            "overflow": null,
            "overflow_x": null,
            "overflow_y": null,
            "padding": null,
            "right": null,
            "top": null,
            "visibility": null,
            "width": null
          }
        },
        "5d45f4f23dea466aa2c0884168a5f969": {
          "model_module": "@jupyter-widgets/controls",
          "model_name": "DescriptionStyleModel",
          "model_module_version": "1.5.0",
          "state": {
            "_model_module": "@jupyter-widgets/controls",
            "_model_module_version": "1.5.0",
            "_model_name": "DescriptionStyleModel",
            "_view_count": null,
            "_view_module": "@jupyter-widgets/base",
            "_view_module_version": "1.2.0",
            "_view_name": "StyleView",
            "description_width": ""
          }
        },
        "77dbf8af1d594846906bb5f6bc692a04": {
          "model_module": "@jupyter-widgets/controls",
          "model_name": "HBoxModel",
          "model_module_version": "1.5.0",
          "state": {
            "_dom_classes": [],
            "_model_module": "@jupyter-widgets/controls",
            "_model_module_version": "1.5.0",
            "_model_name": "HBoxModel",
            "_view_count": null,
            "_view_module": "@jupyter-widgets/controls",
            "_view_module_version": "1.5.0",
            "_view_name": "HBoxView",
            "box_style": "",
            "children": [
              "IPY_MODEL_9f58fa1b8027414c99ad9462dc0b8c58",
              "IPY_MODEL_254673075e6842dfb2d22fc0b1d159fe",
              "IPY_MODEL_8982e2736b3f4cd4a9cfa2976d9aa9fc"
            ],
            "layout": "IPY_MODEL_532ada0e5a36477e86b9198228e8c9cf"
          }
        },
        "9f58fa1b8027414c99ad9462dc0b8c58": {
          "model_module": "@jupyter-widgets/controls",
          "model_name": "HTMLModel",
          "model_module_version": "1.5.0",
          "state": {
            "_dom_classes": [],
            "_model_module": "@jupyter-widgets/controls",
            "_model_module_version": "1.5.0",
            "_model_name": "HTMLModel",
            "_view_count": null,
            "_view_module": "@jupyter-widgets/controls",
            "_view_module_version": "1.5.0",
            "_view_name": "HTMLView",
            "description": "",
            "description_tooltip": null,
            "layout": "IPY_MODEL_a5c749d649c0441ab286a4c11e855b40",
            "placeholder": "​",
            "style": "IPY_MODEL_134a5b84269a41088fea4c9aea1f4557",
            "value": "100%"
          }
        },
        "254673075e6842dfb2d22fc0b1d159fe": {
          "model_module": "@jupyter-widgets/controls",
          "model_name": "FloatProgressModel",
          "model_module_version": "1.5.0",
          "state": {
            "_dom_classes": [],
            "_model_module": "@jupyter-widgets/controls",
            "_model_module_version": "1.5.0",
            "_model_name": "FloatProgressModel",
            "_view_count": null,
            "_view_module": "@jupyter-widgets/controls",
            "_view_module_version": "1.5.0",
            "_view_name": "ProgressView",
            "bar_style": "success",
            "description": "",
            "description_tooltip": null,
            "layout": "IPY_MODEL_c1ea8f7150764cf29e4a52ded2d05e56",
            "max": 609,
            "min": 0,
            "orientation": "horizontal",
            "style": "IPY_MODEL_274291532cdc4eb3aa5965b1e41a2c88",
            "value": 609
          }
        },
        "8982e2736b3f4cd4a9cfa2976d9aa9fc": {
          "model_module": "@jupyter-widgets/controls",
          "model_name": "HTMLModel",
          "model_module_version": "1.5.0",
          "state": {
            "_dom_classes": [],
            "_model_module": "@jupyter-widgets/controls",
            "_model_module_version": "1.5.0",
            "_model_name": "HTMLModel",
            "_view_count": null,
            "_view_module": "@jupyter-widgets/controls",
            "_view_module_version": "1.5.0",
            "_view_name": "HTMLView",
            "description": "",
            "description_tooltip": null,
            "layout": "IPY_MODEL_15ecad381f254d5ba70d4fa0942a550b",
            "placeholder": "​",
            "style": "IPY_MODEL_8194aed0e27d4142bffe20a33f04fa3c",
            "value": " 609/609 [00:14&lt;00:00, 31.21it/s]"
          }
        },
        "532ada0e5a36477e86b9198228e8c9cf": {
          "model_module": "@jupyter-widgets/base",
          "model_name": "LayoutModel",
          "model_module_version": "1.2.0",
          "state": {
            "_model_module": "@jupyter-widgets/base",
            "_model_module_version": "1.2.0",
            "_model_name": "LayoutModel",
            "_view_count": null,
            "_view_module": "@jupyter-widgets/base",
            "_view_module_version": "1.2.0",
            "_view_name": "LayoutView",
            "align_content": null,
            "align_items": null,
            "align_self": null,
            "border": null,
            "bottom": null,
            "display": null,
            "flex": null,
            "flex_flow": null,
            "grid_area": null,
            "grid_auto_columns": null,
            "grid_auto_flow": null,
            "grid_auto_rows": null,
            "grid_column": null,
            "grid_gap": null,
            "grid_row": null,
            "grid_template_areas": null,
            "grid_template_columns": null,
            "grid_template_rows": null,
            "height": null,
            "justify_content": null,
            "justify_items": null,
            "left": null,
            "margin": null,
            "max_height": null,
            "max_width": null,
            "min_height": null,
            "min_width": null,
            "object_fit": null,
            "object_position": null,
            "order": null,
            "overflow": null,
            "overflow_x": null,
            "overflow_y": null,
            "padding": null,
            "right": null,
            "top": null,
            "visibility": null,
            "width": null
          }
        },
        "a5c749d649c0441ab286a4c11e855b40": {
          "model_module": "@jupyter-widgets/base",
          "model_name": "LayoutModel",
          "model_module_version": "1.2.0",
          "state": {
            "_model_module": "@jupyter-widgets/base",
            "_model_module_version": "1.2.0",
            "_model_name": "LayoutModel",
            "_view_count": null,
            "_view_module": "@jupyter-widgets/base",
            "_view_module_version": "1.2.0",
            "_view_name": "LayoutView",
            "align_content": null,
            "align_items": null,
            "align_self": null,
            "border": null,
            "bottom": null,
            "display": null,
            "flex": null,
            "flex_flow": null,
            "grid_area": null,
            "grid_auto_columns": null,
            "grid_auto_flow": null,
            "grid_auto_rows": null,
            "grid_column": null,
            "grid_gap": null,
            "grid_row": null,
            "grid_template_areas": null,
            "grid_template_columns": null,
            "grid_template_rows": null,
            "height": null,
            "justify_content": null,
            "justify_items": null,
            "left": null,
            "margin": null,
            "max_height": null,
            "max_width": null,
            "min_height": null,
            "min_width": null,
            "object_fit": null,
            "object_position": null,
            "order": null,
            "overflow": null,
            "overflow_x": null,
            "overflow_y": null,
            "padding": null,
            "right": null,
            "top": null,
            "visibility": null,
            "width": null
          }
        },
        "134a5b84269a41088fea4c9aea1f4557": {
          "model_module": "@jupyter-widgets/controls",
          "model_name": "DescriptionStyleModel",
          "model_module_version": "1.5.0",
          "state": {
            "_model_module": "@jupyter-widgets/controls",
            "_model_module_version": "1.5.0",
            "_model_name": "DescriptionStyleModel",
            "_view_count": null,
            "_view_module": "@jupyter-widgets/base",
            "_view_module_version": "1.2.0",
            "_view_name": "StyleView",
            "description_width": ""
          }
        },
        "c1ea8f7150764cf29e4a52ded2d05e56": {
          "model_module": "@jupyter-widgets/base",
          "model_name": "LayoutModel",
          "model_module_version": "1.2.0",
          "state": {
            "_model_module": "@jupyter-widgets/base",
            "_model_module_version": "1.2.0",
            "_model_name": "LayoutModel",
            "_view_count": null,
            "_view_module": "@jupyter-widgets/base",
            "_view_module_version": "1.2.0",
            "_view_name": "LayoutView",
            "align_content": null,
            "align_items": null,
            "align_self": null,
            "border": null,
            "bottom": null,
            "display": null,
            "flex": null,
            "flex_flow": null,
            "grid_area": null,
            "grid_auto_columns": null,
            "grid_auto_flow": null,
            "grid_auto_rows": null,
            "grid_column": null,
            "grid_gap": null,
            "grid_row": null,
            "grid_template_areas": null,
            "grid_template_columns": null,
            "grid_template_rows": null,
            "height": null,
            "justify_content": null,
            "justify_items": null,
            "left": null,
            "margin": null,
            "max_height": null,
            "max_width": null,
            "min_height": null,
            "min_width": null,
            "object_fit": null,
            "object_position": null,
            "order": null,
            "overflow": null,
            "overflow_x": null,
            "overflow_y": null,
            "padding": null,
            "right": null,
            "top": null,
            "visibility": null,
            "width": null
          }
        },
        "274291532cdc4eb3aa5965b1e41a2c88": {
          "model_module": "@jupyter-widgets/controls",
          "model_name": "ProgressStyleModel",
          "model_module_version": "1.5.0",
          "state": {
            "_model_module": "@jupyter-widgets/controls",
            "_model_module_version": "1.5.0",
            "_model_name": "ProgressStyleModel",
            "_view_count": null,
            "_view_module": "@jupyter-widgets/base",
            "_view_module_version": "1.2.0",
            "_view_name": "StyleView",
            "bar_color": null,
            "description_width": ""
          }
        },
        "15ecad381f254d5ba70d4fa0942a550b": {
          "model_module": "@jupyter-widgets/base",
          "model_name": "LayoutModel",
          "model_module_version": "1.2.0",
          "state": {
            "_model_module": "@jupyter-widgets/base",
            "_model_module_version": "1.2.0",
            "_model_name": "LayoutModel",
            "_view_count": null,
            "_view_module": "@jupyter-widgets/base",
            "_view_module_version": "1.2.0",
            "_view_name": "LayoutView",
            "align_content": null,
            "align_items": null,
            "align_self": null,
            "border": null,
            "bottom": null,
            "display": null,
            "flex": null,
            "flex_flow": null,
            "grid_area": null,
            "grid_auto_columns": null,
            "grid_auto_flow": null,
            "grid_auto_rows": null,
            "grid_column": null,
            "grid_gap": null,
            "grid_row": null,
            "grid_template_areas": null,
            "grid_template_columns": null,
            "grid_template_rows": null,
            "height": null,
            "justify_content": null,
            "justify_items": null,
            "left": null,
            "margin": null,
            "max_height": null,
            "max_width": null,
            "min_height": null,
            "min_width": null,
            "object_fit": null,
            "object_position": null,
            "order": null,
            "overflow": null,
            "overflow_x": null,
            "overflow_y": null,
            "padding": null,
            "right": null,
            "top": null,
            "visibility": null,
            "width": null
          }
        },
        "8194aed0e27d4142bffe20a33f04fa3c": {
          "model_module": "@jupyter-widgets/controls",
          "model_name": "DescriptionStyleModel",
          "model_module_version": "1.5.0",
          "state": {
            "_model_module": "@jupyter-widgets/controls",
            "_model_module_version": "1.5.0",
            "_model_name": "DescriptionStyleModel",
            "_view_count": null,
            "_view_module": "@jupyter-widgets/base",
            "_view_module_version": "1.2.0",
            "_view_name": "StyleView",
            "description_width": ""
          }
        },
        "f8683d13f2974c3d84b853436417e242": {
          "model_module": "@jupyter-widgets/controls",
          "model_name": "HBoxModel",
          "model_module_version": "1.5.0",
          "state": {
            "_dom_classes": [],
            "_model_module": "@jupyter-widgets/controls",
            "_model_module_version": "1.5.0",
            "_model_name": "HBoxModel",
            "_view_count": null,
            "_view_module": "@jupyter-widgets/controls",
            "_view_module_version": "1.5.0",
            "_view_name": "HBoxView",
            "box_style": "",
            "children": [
              "IPY_MODEL_b90c8240c0c547849138d46c9f364f3a",
              "IPY_MODEL_6195969f37994aeda3fbacebae613902",
              "IPY_MODEL_cc98e38ee14847b1ae356438bdc100f0"
            ],
            "layout": "IPY_MODEL_b9b8dbb2c6404ea286135d1ef5403a4c"
          }
        },
        "b90c8240c0c547849138d46c9f364f3a": {
          "model_module": "@jupyter-widgets/controls",
          "model_name": "HTMLModel",
          "model_module_version": "1.5.0",
          "state": {
            "_dom_classes": [],
            "_model_module": "@jupyter-widgets/controls",
            "_model_module_version": "1.5.0",
            "_model_name": "HTMLModel",
            "_view_count": null,
            "_view_module": "@jupyter-widgets/controls",
            "_view_module_version": "1.5.0",
            "_view_name": "HTMLView",
            "description": "",
            "description_tooltip": null,
            "layout": "IPY_MODEL_25a4235f5d4645b7ba4be9a544c4d043",
            "placeholder": "​",
            "style": "IPY_MODEL_f178e505d17e4bf0a3fb2273ef7a8df5",
            "value": "100%"
          }
        },
        "6195969f37994aeda3fbacebae613902": {
          "model_module": "@jupyter-widgets/controls",
          "model_name": "FloatProgressModel",
          "model_module_version": "1.5.0",
          "state": {
            "_dom_classes": [],
            "_model_module": "@jupyter-widgets/controls",
            "_model_module_version": "1.5.0",
            "_model_name": "FloatProgressModel",
            "_view_count": null,
            "_view_module": "@jupyter-widgets/controls",
            "_view_module_version": "1.5.0",
            "_view_name": "ProgressView",
            "bar_style": "success",
            "description": "",
            "description_tooltip": null,
            "layout": "IPY_MODEL_c649f34a802a456194e6711487f6ad9f",
            "max": 609,
            "min": 0,
            "orientation": "horizontal",
            "style": "IPY_MODEL_c0e3e25ca43b4216bf3c9f7b64ff8fdb",
            "value": 609
          }
        },
        "cc98e38ee14847b1ae356438bdc100f0": {
          "model_module": "@jupyter-widgets/controls",
          "model_name": "HTMLModel",
          "model_module_version": "1.5.0",
          "state": {
            "_dom_classes": [],
            "_model_module": "@jupyter-widgets/controls",
            "_model_module_version": "1.5.0",
            "_model_name": "HTMLModel",
            "_view_count": null,
            "_view_module": "@jupyter-widgets/controls",
            "_view_module_version": "1.5.0",
            "_view_name": "HTMLView",
            "description": "",
            "description_tooltip": null,
            "layout": "IPY_MODEL_500d6b64a1d44dda8a7bcf33fed3ca81",
            "placeholder": "​",
            "style": "IPY_MODEL_620687e26da2475ca072d34069f1c869",
            "value": " 609/609 [00:13&lt;00:00, 39.51it/s]"
          }
        },
        "b9b8dbb2c6404ea286135d1ef5403a4c": {
          "model_module": "@jupyter-widgets/base",
          "model_name": "LayoutModel",
          "model_module_version": "1.2.0",
          "state": {
            "_model_module": "@jupyter-widgets/base",
            "_model_module_version": "1.2.0",
            "_model_name": "LayoutModel",
            "_view_count": null,
            "_view_module": "@jupyter-widgets/base",
            "_view_module_version": "1.2.0",
            "_view_name": "LayoutView",
            "align_content": null,
            "align_items": null,
            "align_self": null,
            "border": null,
            "bottom": null,
            "display": null,
            "flex": null,
            "flex_flow": null,
            "grid_area": null,
            "grid_auto_columns": null,
            "grid_auto_flow": null,
            "grid_auto_rows": null,
            "grid_column": null,
            "grid_gap": null,
            "grid_row": null,
            "grid_template_areas": null,
            "grid_template_columns": null,
            "grid_template_rows": null,
            "height": null,
            "justify_content": null,
            "justify_items": null,
            "left": null,
            "margin": null,
            "max_height": null,
            "max_width": null,
            "min_height": null,
            "min_width": null,
            "object_fit": null,
            "object_position": null,
            "order": null,
            "overflow": null,
            "overflow_x": null,
            "overflow_y": null,
            "padding": null,
            "right": null,
            "top": null,
            "visibility": null,
            "width": null
          }
        },
        "25a4235f5d4645b7ba4be9a544c4d043": {
          "model_module": "@jupyter-widgets/base",
          "model_name": "LayoutModel",
          "model_module_version": "1.2.0",
          "state": {
            "_model_module": "@jupyter-widgets/base",
            "_model_module_version": "1.2.0",
            "_model_name": "LayoutModel",
            "_view_count": null,
            "_view_module": "@jupyter-widgets/base",
            "_view_module_version": "1.2.0",
            "_view_name": "LayoutView",
            "align_content": null,
            "align_items": null,
            "align_self": null,
            "border": null,
            "bottom": null,
            "display": null,
            "flex": null,
            "flex_flow": null,
            "grid_area": null,
            "grid_auto_columns": null,
            "grid_auto_flow": null,
            "grid_auto_rows": null,
            "grid_column": null,
            "grid_gap": null,
            "grid_row": null,
            "grid_template_areas": null,
            "grid_template_columns": null,
            "grid_template_rows": null,
            "height": null,
            "justify_content": null,
            "justify_items": null,
            "left": null,
            "margin": null,
            "max_height": null,
            "max_width": null,
            "min_height": null,
            "min_width": null,
            "object_fit": null,
            "object_position": null,
            "order": null,
            "overflow": null,
            "overflow_x": null,
            "overflow_y": null,
            "padding": null,
            "right": null,
            "top": null,
            "visibility": null,
            "width": null
          }
        },
        "f178e505d17e4bf0a3fb2273ef7a8df5": {
          "model_module": "@jupyter-widgets/controls",
          "model_name": "DescriptionStyleModel",
          "model_module_version": "1.5.0",
          "state": {
            "_model_module": "@jupyter-widgets/controls",
            "_model_module_version": "1.5.0",
            "_model_name": "DescriptionStyleModel",
            "_view_count": null,
            "_view_module": "@jupyter-widgets/base",
            "_view_module_version": "1.2.0",
            "_view_name": "StyleView",
            "description_width": ""
          }
        },
        "c649f34a802a456194e6711487f6ad9f": {
          "model_module": "@jupyter-widgets/base",
          "model_name": "LayoutModel",
          "model_module_version": "1.2.0",
          "state": {
            "_model_module": "@jupyter-widgets/base",
            "_model_module_version": "1.2.0",
            "_model_name": "LayoutModel",
            "_view_count": null,
            "_view_module": "@jupyter-widgets/base",
            "_view_module_version": "1.2.0",
            "_view_name": "LayoutView",
            "align_content": null,
            "align_items": null,
            "align_self": null,
            "border": null,
            "bottom": null,
            "display": null,
            "flex": null,
            "flex_flow": null,
            "grid_area": null,
            "grid_auto_columns": null,
            "grid_auto_flow": null,
            "grid_auto_rows": null,
            "grid_column": null,
            "grid_gap": null,
            "grid_row": null,
            "grid_template_areas": null,
            "grid_template_columns": null,
            "grid_template_rows": null,
            "height": null,
            "justify_content": null,
            "justify_items": null,
            "left": null,
            "margin": null,
            "max_height": null,
            "max_width": null,
            "min_height": null,
            "min_width": null,
            "object_fit": null,
            "object_position": null,
            "order": null,
            "overflow": null,
            "overflow_x": null,
            "overflow_y": null,
            "padding": null,
            "right": null,
            "top": null,
            "visibility": null,
            "width": null
          }
        },
        "c0e3e25ca43b4216bf3c9f7b64ff8fdb": {
          "model_module": "@jupyter-widgets/controls",
          "model_name": "ProgressStyleModel",
          "model_module_version": "1.5.0",
          "state": {
            "_model_module": "@jupyter-widgets/controls",
            "_model_module_version": "1.5.0",
            "_model_name": "ProgressStyleModel",
            "_view_count": null,
            "_view_module": "@jupyter-widgets/base",
            "_view_module_version": "1.2.0",
            "_view_name": "StyleView",
            "bar_color": null,
            "description_width": ""
          }
        },
        "500d6b64a1d44dda8a7bcf33fed3ca81": {
          "model_module": "@jupyter-widgets/base",
          "model_name": "LayoutModel",
          "model_module_version": "1.2.0",
          "state": {
            "_model_module": "@jupyter-widgets/base",
            "_model_module_version": "1.2.0",
            "_model_name": "LayoutModel",
            "_view_count": null,
            "_view_module": "@jupyter-widgets/base",
            "_view_module_version": "1.2.0",
            "_view_name": "LayoutView",
            "align_content": null,
            "align_items": null,
            "align_self": null,
            "border": null,
            "bottom": null,
            "display": null,
            "flex": null,
            "flex_flow": null,
            "grid_area": null,
            "grid_auto_columns": null,
            "grid_auto_flow": null,
            "grid_auto_rows": null,
            "grid_column": null,
            "grid_gap": null,
            "grid_row": null,
            "grid_template_areas": null,
            "grid_template_columns": null,
            "grid_template_rows": null,
            "height": null,
            "justify_content": null,
            "justify_items": null,
            "left": null,
            "margin": null,
            "max_height": null,
            "max_width": null,
            "min_height": null,
            "min_width": null,
            "object_fit": null,
            "object_position": null,
            "order": null,
            "overflow": null,
            "overflow_x": null,
            "overflow_y": null,
            "padding": null,
            "right": null,
            "top": null,
            "visibility": null,
            "width": null
          }
        },
        "620687e26da2475ca072d34069f1c869": {
          "model_module": "@jupyter-widgets/controls",
          "model_name": "DescriptionStyleModel",
          "model_module_version": "1.5.0",
          "state": {
            "_model_module": "@jupyter-widgets/controls",
            "_model_module_version": "1.5.0",
            "_model_name": "DescriptionStyleModel",
            "_view_count": null,
            "_view_module": "@jupyter-widgets/base",
            "_view_module_version": "1.2.0",
            "_view_name": "StyleView",
            "description_width": ""
          }
        },
        "498604f89314432d80b519228c322147": {
          "model_module": "@jupyter-widgets/controls",
          "model_name": "HBoxModel",
          "model_module_version": "1.5.0",
          "state": {
            "_dom_classes": [],
            "_model_module": "@jupyter-widgets/controls",
            "_model_module_version": "1.5.0",
            "_model_name": "HBoxModel",
            "_view_count": null,
            "_view_module": "@jupyter-widgets/controls",
            "_view_module_version": "1.5.0",
            "_view_name": "HBoxView",
            "box_style": "",
            "children": [
              "IPY_MODEL_07a3006a5e3c4ca58668783f9f690f4e",
              "IPY_MODEL_edfd0eb5b97043ec9c9142912717431b",
              "IPY_MODEL_2ceb702ece1a45c8988626056ff4f220"
            ],
            "layout": "IPY_MODEL_fc69f42cb5a148c4aa03d8991daed469"
          }
        },
        "07a3006a5e3c4ca58668783f9f690f4e": {
          "model_module": "@jupyter-widgets/controls",
          "model_name": "HTMLModel",
          "model_module_version": "1.5.0",
          "state": {
            "_dom_classes": [],
            "_model_module": "@jupyter-widgets/controls",
            "_model_module_version": "1.5.0",
            "_model_name": "HTMLModel",
            "_view_count": null,
            "_view_module": "@jupyter-widgets/controls",
            "_view_module_version": "1.5.0",
            "_view_name": "HTMLView",
            "description": "",
            "description_tooltip": null,
            "layout": "IPY_MODEL_0efbcc5e2b594653aebd8a6b68804604",
            "placeholder": "​",
            "style": "IPY_MODEL_0b8ea695c76e4a77b7e3c20f6c8d2e12",
            "value": "100%"
          }
        },
        "edfd0eb5b97043ec9c9142912717431b": {
          "model_module": "@jupyter-widgets/controls",
          "model_name": "FloatProgressModel",
          "model_module_version": "1.5.0",
          "state": {
            "_dom_classes": [],
            "_model_module": "@jupyter-widgets/controls",
            "_model_module_version": "1.5.0",
            "_model_name": "FloatProgressModel",
            "_view_count": null,
            "_view_module": "@jupyter-widgets/controls",
            "_view_module_version": "1.5.0",
            "_view_name": "ProgressView",
            "bar_style": "success",
            "description": "",
            "description_tooltip": null,
            "layout": "IPY_MODEL_578ae637f7e547c980fc69d5b98d3c13",
            "max": 609,
            "min": 0,
            "orientation": "horizontal",
            "style": "IPY_MODEL_e8eafb14e8314e7da1c4597a9469efee",
            "value": 609
          }
        },
        "2ceb702ece1a45c8988626056ff4f220": {
          "model_module": "@jupyter-widgets/controls",
          "model_name": "HTMLModel",
          "model_module_version": "1.5.0",
          "state": {
            "_dom_classes": [],
            "_model_module": "@jupyter-widgets/controls",
            "_model_module_version": "1.5.0",
            "_model_name": "HTMLModel",
            "_view_count": null,
            "_view_module": "@jupyter-widgets/controls",
            "_view_module_version": "1.5.0",
            "_view_name": "HTMLView",
            "description": "",
            "description_tooltip": null,
            "layout": "IPY_MODEL_66fb14b18b8d4540925c9955506ab940",
            "placeholder": "​",
            "style": "IPY_MODEL_bc300401e3fb4ec9b8a3b103eecf62b8",
            "value": " 609/609 [00:15&lt;00:00, 35.30it/s]"
          }
        },
        "fc69f42cb5a148c4aa03d8991daed469": {
          "model_module": "@jupyter-widgets/base",
          "model_name": "LayoutModel",
          "model_module_version": "1.2.0",
          "state": {
            "_model_module": "@jupyter-widgets/base",
            "_model_module_version": "1.2.0",
            "_model_name": "LayoutModel",
            "_view_count": null,
            "_view_module": "@jupyter-widgets/base",
            "_view_module_version": "1.2.0",
            "_view_name": "LayoutView",
            "align_content": null,
            "align_items": null,
            "align_self": null,
            "border": null,
            "bottom": null,
            "display": null,
            "flex": null,
            "flex_flow": null,
            "grid_area": null,
            "grid_auto_columns": null,
            "grid_auto_flow": null,
            "grid_auto_rows": null,
            "grid_column": null,
            "grid_gap": null,
            "grid_row": null,
            "grid_template_areas": null,
            "grid_template_columns": null,
            "grid_template_rows": null,
            "height": null,
            "justify_content": null,
            "justify_items": null,
            "left": null,
            "margin": null,
            "max_height": null,
            "max_width": null,
            "min_height": null,
            "min_width": null,
            "object_fit": null,
            "object_position": null,
            "order": null,
            "overflow": null,
            "overflow_x": null,
            "overflow_y": null,
            "padding": null,
            "right": null,
            "top": null,
            "visibility": null,
            "width": null
          }
        },
        "0efbcc5e2b594653aebd8a6b68804604": {
          "model_module": "@jupyter-widgets/base",
          "model_name": "LayoutModel",
          "model_module_version": "1.2.0",
          "state": {
            "_model_module": "@jupyter-widgets/base",
            "_model_module_version": "1.2.0",
            "_model_name": "LayoutModel",
            "_view_count": null,
            "_view_module": "@jupyter-widgets/base",
            "_view_module_version": "1.2.0",
            "_view_name": "LayoutView",
            "align_content": null,
            "align_items": null,
            "align_self": null,
            "border": null,
            "bottom": null,
            "display": null,
            "flex": null,
            "flex_flow": null,
            "grid_area": null,
            "grid_auto_columns": null,
            "grid_auto_flow": null,
            "grid_auto_rows": null,
            "grid_column": null,
            "grid_gap": null,
            "grid_row": null,
            "grid_template_areas": null,
            "grid_template_columns": null,
            "grid_template_rows": null,
            "height": null,
            "justify_content": null,
            "justify_items": null,
            "left": null,
            "margin": null,
            "max_height": null,
            "max_width": null,
            "min_height": null,
            "min_width": null,
            "object_fit": null,
            "object_position": null,
            "order": null,
            "overflow": null,
            "overflow_x": null,
            "overflow_y": null,
            "padding": null,
            "right": null,
            "top": null,
            "visibility": null,
            "width": null
          }
        },
        "0b8ea695c76e4a77b7e3c20f6c8d2e12": {
          "model_module": "@jupyter-widgets/controls",
          "model_name": "DescriptionStyleModel",
          "model_module_version": "1.5.0",
          "state": {
            "_model_module": "@jupyter-widgets/controls",
            "_model_module_version": "1.5.0",
            "_model_name": "DescriptionStyleModel",
            "_view_count": null,
            "_view_module": "@jupyter-widgets/base",
            "_view_module_version": "1.2.0",
            "_view_name": "StyleView",
            "description_width": ""
          }
        },
        "578ae637f7e547c980fc69d5b98d3c13": {
          "model_module": "@jupyter-widgets/base",
          "model_name": "LayoutModel",
          "model_module_version": "1.2.0",
          "state": {
            "_model_module": "@jupyter-widgets/base",
            "_model_module_version": "1.2.0",
            "_model_name": "LayoutModel",
            "_view_count": null,
            "_view_module": "@jupyter-widgets/base",
            "_view_module_version": "1.2.0",
            "_view_name": "LayoutView",
            "align_content": null,
            "align_items": null,
            "align_self": null,
            "border": null,
            "bottom": null,
            "display": null,
            "flex": null,
            "flex_flow": null,
            "grid_area": null,
            "grid_auto_columns": null,
            "grid_auto_flow": null,
            "grid_auto_rows": null,
            "grid_column": null,
            "grid_gap": null,
            "grid_row": null,
            "grid_template_areas": null,
            "grid_template_columns": null,
            "grid_template_rows": null,
            "height": null,
            "justify_content": null,
            "justify_items": null,
            "left": null,
            "margin": null,
            "max_height": null,
            "max_width": null,
            "min_height": null,
            "min_width": null,
            "object_fit": null,
            "object_position": null,
            "order": null,
            "overflow": null,
            "overflow_x": null,
            "overflow_y": null,
            "padding": null,
            "right": null,
            "top": null,
            "visibility": null,
            "width": null
          }
        },
        "e8eafb14e8314e7da1c4597a9469efee": {
          "model_module": "@jupyter-widgets/controls",
          "model_name": "ProgressStyleModel",
          "model_module_version": "1.5.0",
          "state": {
            "_model_module": "@jupyter-widgets/controls",
            "_model_module_version": "1.5.0",
            "_model_name": "ProgressStyleModel",
            "_view_count": null,
            "_view_module": "@jupyter-widgets/base",
            "_view_module_version": "1.2.0",
            "_view_name": "StyleView",
            "bar_color": null,
            "description_width": ""
          }
        },
        "66fb14b18b8d4540925c9955506ab940": {
          "model_module": "@jupyter-widgets/base",
          "model_name": "LayoutModel",
          "model_module_version": "1.2.0",
          "state": {
            "_model_module": "@jupyter-widgets/base",
            "_model_module_version": "1.2.0",
            "_model_name": "LayoutModel",
            "_view_count": null,
            "_view_module": "@jupyter-widgets/base",
            "_view_module_version": "1.2.0",
            "_view_name": "LayoutView",
            "align_content": null,
            "align_items": null,
            "align_self": null,
            "border": null,
            "bottom": null,
            "display": null,
            "flex": null,
            "flex_flow": null,
            "grid_area": null,
            "grid_auto_columns": null,
            "grid_auto_flow": null,
            "grid_auto_rows": null,
            "grid_column": null,
            "grid_gap": null,
            "grid_row": null,
            "grid_template_areas": null,
            "grid_template_columns": null,
            "grid_template_rows": null,
            "height": null,
            "justify_content": null,
            "justify_items": null,
            "left": null,
            "margin": null,
            "max_height": null,
            "max_width": null,
            "min_height": null,
            "min_width": null,
            "object_fit": null,
            "object_position": null,
            "order": null,
            "overflow": null,
            "overflow_x": null,
            "overflow_y": null,
            "padding": null,
            "right": null,
            "top": null,
            "visibility": null,
            "width": null
          }
        },
        "bc300401e3fb4ec9b8a3b103eecf62b8": {
          "model_module": "@jupyter-widgets/controls",
          "model_name": "DescriptionStyleModel",
          "model_module_version": "1.5.0",
          "state": {
            "_model_module": "@jupyter-widgets/controls",
            "_model_module_version": "1.5.0",
            "_model_name": "DescriptionStyleModel",
            "_view_count": null,
            "_view_module": "@jupyter-widgets/base",
            "_view_module_version": "1.2.0",
            "_view_name": "StyleView",
            "description_width": ""
          }
        },
        "6471fce1a5834acfb26c1bfd97e997aa": {
          "model_module": "@jupyter-widgets/controls",
          "model_name": "HBoxModel",
          "model_module_version": "1.5.0",
          "state": {
            "_dom_classes": [],
            "_model_module": "@jupyter-widgets/controls",
            "_model_module_version": "1.5.0",
            "_model_name": "HBoxModel",
            "_view_count": null,
            "_view_module": "@jupyter-widgets/controls",
            "_view_module_version": "1.5.0",
            "_view_name": "HBoxView",
            "box_style": "",
            "children": [
              "IPY_MODEL_faea0349eb3646a08b27649170f3482e",
              "IPY_MODEL_d9d6769c3eb74ca382af124d6849197e",
              "IPY_MODEL_56953e0d57e94f139163efc1f79f59f0"
            ],
            "layout": "IPY_MODEL_0f980266e8e74a45b8c7610e5a2bb8e8"
          }
        },
        "faea0349eb3646a08b27649170f3482e": {
          "model_module": "@jupyter-widgets/controls",
          "model_name": "HTMLModel",
          "model_module_version": "1.5.0",
          "state": {
            "_dom_classes": [],
            "_model_module": "@jupyter-widgets/controls",
            "_model_module_version": "1.5.0",
            "_model_name": "HTMLModel",
            "_view_count": null,
            "_view_module": "@jupyter-widgets/controls",
            "_view_module_version": "1.5.0",
            "_view_name": "HTMLView",
            "description": "",
            "description_tooltip": null,
            "layout": "IPY_MODEL_030fac3309554fcf862bf74c8cb500ea",
            "placeholder": "​",
            "style": "IPY_MODEL_f79e659d8b994677b0d36f3aad97a2c0",
            "value": "100%"
          }
        },
        "d9d6769c3eb74ca382af124d6849197e": {
          "model_module": "@jupyter-widgets/controls",
          "model_name": "FloatProgressModel",
          "model_module_version": "1.5.0",
          "state": {
            "_dom_classes": [],
            "_model_module": "@jupyter-widgets/controls",
            "_model_module_version": "1.5.0",
            "_model_name": "FloatProgressModel",
            "_view_count": null,
            "_view_module": "@jupyter-widgets/controls",
            "_view_module_version": "1.5.0",
            "_view_name": "ProgressView",
            "bar_style": "success",
            "description": "",
            "description_tooltip": null,
            "layout": "IPY_MODEL_1b3c986e95024077a4948948a537943b",
            "max": 609,
            "min": 0,
            "orientation": "horizontal",
            "style": "IPY_MODEL_ee8a4ce15f1747a2aa19e46d7c81f863",
            "value": 609
          }
        },
        "56953e0d57e94f139163efc1f79f59f0": {
          "model_module": "@jupyter-widgets/controls",
          "model_name": "HTMLModel",
          "model_module_version": "1.5.0",
          "state": {
            "_dom_classes": [],
            "_model_module": "@jupyter-widgets/controls",
            "_model_module_version": "1.5.0",
            "_model_name": "HTMLModel",
            "_view_count": null,
            "_view_module": "@jupyter-widgets/controls",
            "_view_module_version": "1.5.0",
            "_view_name": "HTMLView",
            "description": "",
            "description_tooltip": null,
            "layout": "IPY_MODEL_6cdfec93ac564b1fa151eb48bdcb40aa",
            "placeholder": "​",
            "style": "IPY_MODEL_13760a3680f24cf399d6c50f0fd73bfb",
            "value": " 609/609 [00:13&lt;00:00, 52.91it/s]"
          }
        },
        "0f980266e8e74a45b8c7610e5a2bb8e8": {
          "model_module": "@jupyter-widgets/base",
          "model_name": "LayoutModel",
          "model_module_version": "1.2.0",
          "state": {
            "_model_module": "@jupyter-widgets/base",
            "_model_module_version": "1.2.0",
            "_model_name": "LayoutModel",
            "_view_count": null,
            "_view_module": "@jupyter-widgets/base",
            "_view_module_version": "1.2.0",
            "_view_name": "LayoutView",
            "align_content": null,
            "align_items": null,
            "align_self": null,
            "border": null,
            "bottom": null,
            "display": null,
            "flex": null,
            "flex_flow": null,
            "grid_area": null,
            "grid_auto_columns": null,
            "grid_auto_flow": null,
            "grid_auto_rows": null,
            "grid_column": null,
            "grid_gap": null,
            "grid_row": null,
            "grid_template_areas": null,
            "grid_template_columns": null,
            "grid_template_rows": null,
            "height": null,
            "justify_content": null,
            "justify_items": null,
            "left": null,
            "margin": null,
            "max_height": null,
            "max_width": null,
            "min_height": null,
            "min_width": null,
            "object_fit": null,
            "object_position": null,
            "order": null,
            "overflow": null,
            "overflow_x": null,
            "overflow_y": null,
            "padding": null,
            "right": null,
            "top": null,
            "visibility": null,
            "width": null
          }
        },
        "030fac3309554fcf862bf74c8cb500ea": {
          "model_module": "@jupyter-widgets/base",
          "model_name": "LayoutModel",
          "model_module_version": "1.2.0",
          "state": {
            "_model_module": "@jupyter-widgets/base",
            "_model_module_version": "1.2.0",
            "_model_name": "LayoutModel",
            "_view_count": null,
            "_view_module": "@jupyter-widgets/base",
            "_view_module_version": "1.2.0",
            "_view_name": "LayoutView",
            "align_content": null,
            "align_items": null,
            "align_self": null,
            "border": null,
            "bottom": null,
            "display": null,
            "flex": null,
            "flex_flow": null,
            "grid_area": null,
            "grid_auto_columns": null,
            "grid_auto_flow": null,
            "grid_auto_rows": null,
            "grid_column": null,
            "grid_gap": null,
            "grid_row": null,
            "grid_template_areas": null,
            "grid_template_columns": null,
            "grid_template_rows": null,
            "height": null,
            "justify_content": null,
            "justify_items": null,
            "left": null,
            "margin": null,
            "max_height": null,
            "max_width": null,
            "min_height": null,
            "min_width": null,
            "object_fit": null,
            "object_position": null,
            "order": null,
            "overflow": null,
            "overflow_x": null,
            "overflow_y": null,
            "padding": null,
            "right": null,
            "top": null,
            "visibility": null,
            "width": null
          }
        },
        "f79e659d8b994677b0d36f3aad97a2c0": {
          "model_module": "@jupyter-widgets/controls",
          "model_name": "DescriptionStyleModel",
          "model_module_version": "1.5.0",
          "state": {
            "_model_module": "@jupyter-widgets/controls",
            "_model_module_version": "1.5.0",
            "_model_name": "DescriptionStyleModel",
            "_view_count": null,
            "_view_module": "@jupyter-widgets/base",
            "_view_module_version": "1.2.0",
            "_view_name": "StyleView",
            "description_width": ""
          }
        },
        "1b3c986e95024077a4948948a537943b": {
          "model_module": "@jupyter-widgets/base",
          "model_name": "LayoutModel",
          "model_module_version": "1.2.0",
          "state": {
            "_model_module": "@jupyter-widgets/base",
            "_model_module_version": "1.2.0",
            "_model_name": "LayoutModel",
            "_view_count": null,
            "_view_module": "@jupyter-widgets/base",
            "_view_module_version": "1.2.0",
            "_view_name": "LayoutView",
            "align_content": null,
            "align_items": null,
            "align_self": null,
            "border": null,
            "bottom": null,
            "display": null,
            "flex": null,
            "flex_flow": null,
            "grid_area": null,
            "grid_auto_columns": null,
            "grid_auto_flow": null,
            "grid_auto_rows": null,
            "grid_column": null,
            "grid_gap": null,
            "grid_row": null,
            "grid_template_areas": null,
            "grid_template_columns": null,
            "grid_template_rows": null,
            "height": null,
            "justify_content": null,
            "justify_items": null,
            "left": null,
            "margin": null,
            "max_height": null,
            "max_width": null,
            "min_height": null,
            "min_width": null,
            "object_fit": null,
            "object_position": null,
            "order": null,
            "overflow": null,
            "overflow_x": null,
            "overflow_y": null,
            "padding": null,
            "right": null,
            "top": null,
            "visibility": null,
            "width": null
          }
        },
        "ee8a4ce15f1747a2aa19e46d7c81f863": {
          "model_module": "@jupyter-widgets/controls",
          "model_name": "ProgressStyleModel",
          "model_module_version": "1.5.0",
          "state": {
            "_model_module": "@jupyter-widgets/controls",
            "_model_module_version": "1.5.0",
            "_model_name": "ProgressStyleModel",
            "_view_count": null,
            "_view_module": "@jupyter-widgets/base",
            "_view_module_version": "1.2.0",
            "_view_name": "StyleView",
            "bar_color": null,
            "description_width": ""
          }
        },
        "6cdfec93ac564b1fa151eb48bdcb40aa": {
          "model_module": "@jupyter-widgets/base",
          "model_name": "LayoutModel",
          "model_module_version": "1.2.0",
          "state": {
            "_model_module": "@jupyter-widgets/base",
            "_model_module_version": "1.2.0",
            "_model_name": "LayoutModel",
            "_view_count": null,
            "_view_module": "@jupyter-widgets/base",
            "_view_module_version": "1.2.0",
            "_view_name": "LayoutView",
            "align_content": null,
            "align_items": null,
            "align_self": null,
            "border": null,
            "bottom": null,
            "display": null,
            "flex": null,
            "flex_flow": null,
            "grid_area": null,
            "grid_auto_columns": null,
            "grid_auto_flow": null,
            "grid_auto_rows": null,
            "grid_column": null,
            "grid_gap": null,
            "grid_row": null,
            "grid_template_areas": null,
            "grid_template_columns": null,
            "grid_template_rows": null,
            "height": null,
            "justify_content": null,
            "justify_items": null,
            "left": null,
            "margin": null,
            "max_height": null,
            "max_width": null,
            "min_height": null,
            "min_width": null,
            "object_fit": null,
            "object_position": null,
            "order": null,
            "overflow": null,
            "overflow_x": null,
            "overflow_y": null,
            "padding": null,
            "right": null,
            "top": null,
            "visibility": null,
            "width": null
          }
        },
        "13760a3680f24cf399d6c50f0fd73bfb": {
          "model_module": "@jupyter-widgets/controls",
          "model_name": "DescriptionStyleModel",
          "model_module_version": "1.5.0",
          "state": {
            "_model_module": "@jupyter-widgets/controls",
            "_model_module_version": "1.5.0",
            "_model_name": "DescriptionStyleModel",
            "_view_count": null,
            "_view_module": "@jupyter-widgets/base",
            "_view_module_version": "1.2.0",
            "_view_name": "StyleView",
            "description_width": ""
          }
        },
        "e7745b7331c54f9d9969eb4052778d72": {
          "model_module": "@jupyter-widgets/controls",
          "model_name": "HBoxModel",
          "model_module_version": "1.5.0",
          "state": {
            "_dom_classes": [],
            "_model_module": "@jupyter-widgets/controls",
            "_model_module_version": "1.5.0",
            "_model_name": "HBoxModel",
            "_view_count": null,
            "_view_module": "@jupyter-widgets/controls",
            "_view_module_version": "1.5.0",
            "_view_name": "HBoxView",
            "box_style": "",
            "children": [
              "IPY_MODEL_443218648882458db895d60cf8125649",
              "IPY_MODEL_85e12c135f2c4743a7d9aca795c0f59d",
              "IPY_MODEL_8c99d634ffa94439a37dfab6f6dd6ffb"
            ],
            "layout": "IPY_MODEL_1b2b9b69dc79483bb70fc95de820aa4d"
          }
        },
        "443218648882458db895d60cf8125649": {
          "model_module": "@jupyter-widgets/controls",
          "model_name": "HTMLModel",
          "model_module_version": "1.5.0",
          "state": {
            "_dom_classes": [],
            "_model_module": "@jupyter-widgets/controls",
            "_model_module_version": "1.5.0",
            "_model_name": "HTMLModel",
            "_view_count": null,
            "_view_module": "@jupyter-widgets/controls",
            "_view_module_version": "1.5.0",
            "_view_name": "HTMLView",
            "description": "",
            "description_tooltip": null,
            "layout": "IPY_MODEL_90a51f90a6ed45b096714f2844d6a10b",
            "placeholder": "​",
            "style": "IPY_MODEL_25ab46535bef4b80aae935ac5276464c",
            "value": "100%"
          }
        },
        "85e12c135f2c4743a7d9aca795c0f59d": {
          "model_module": "@jupyter-widgets/controls",
          "model_name": "FloatProgressModel",
          "model_module_version": "1.5.0",
          "state": {
            "_dom_classes": [],
            "_model_module": "@jupyter-widgets/controls",
            "_model_module_version": "1.5.0",
            "_model_name": "FloatProgressModel",
            "_view_count": null,
            "_view_module": "@jupyter-widgets/controls",
            "_view_module_version": "1.5.0",
            "_view_name": "ProgressView",
            "bar_style": "success",
            "description": "",
            "description_tooltip": null,
            "layout": "IPY_MODEL_e8f367e837a941dea82106485f402e46",
            "max": 609,
            "min": 0,
            "orientation": "horizontal",
            "style": "IPY_MODEL_c954e8be647542bf83c51a343e4593d3",
            "value": 609
          }
        },
        "8c99d634ffa94439a37dfab6f6dd6ffb": {
          "model_module": "@jupyter-widgets/controls",
          "model_name": "HTMLModel",
          "model_module_version": "1.5.0",
          "state": {
            "_dom_classes": [],
            "_model_module": "@jupyter-widgets/controls",
            "_model_module_version": "1.5.0",
            "_model_name": "HTMLModel",
            "_view_count": null,
            "_view_module": "@jupyter-widgets/controls",
            "_view_module_version": "1.5.0",
            "_view_name": "HTMLView",
            "description": "",
            "description_tooltip": null,
            "layout": "IPY_MODEL_bb7550e70a0841c5840f7d1298af4c89",
            "placeholder": "​",
            "style": "IPY_MODEL_21ee37f9140640b5bd0f41783026e6fb",
            "value": " 609/609 [00:13&lt;00:00, 46.59it/s]"
          }
        },
        "1b2b9b69dc79483bb70fc95de820aa4d": {
          "model_module": "@jupyter-widgets/base",
          "model_name": "LayoutModel",
          "model_module_version": "1.2.0",
          "state": {
            "_model_module": "@jupyter-widgets/base",
            "_model_module_version": "1.2.0",
            "_model_name": "LayoutModel",
            "_view_count": null,
            "_view_module": "@jupyter-widgets/base",
            "_view_module_version": "1.2.0",
            "_view_name": "LayoutView",
            "align_content": null,
            "align_items": null,
            "align_self": null,
            "border": null,
            "bottom": null,
            "display": null,
            "flex": null,
            "flex_flow": null,
            "grid_area": null,
            "grid_auto_columns": null,
            "grid_auto_flow": null,
            "grid_auto_rows": null,
            "grid_column": null,
            "grid_gap": null,
            "grid_row": null,
            "grid_template_areas": null,
            "grid_template_columns": null,
            "grid_template_rows": null,
            "height": null,
            "justify_content": null,
            "justify_items": null,
            "left": null,
            "margin": null,
            "max_height": null,
            "max_width": null,
            "min_height": null,
            "min_width": null,
            "object_fit": null,
            "object_position": null,
            "order": null,
            "overflow": null,
            "overflow_x": null,
            "overflow_y": null,
            "padding": null,
            "right": null,
            "top": null,
            "visibility": null,
            "width": null
          }
        },
        "90a51f90a6ed45b096714f2844d6a10b": {
          "model_module": "@jupyter-widgets/base",
          "model_name": "LayoutModel",
          "model_module_version": "1.2.0",
          "state": {
            "_model_module": "@jupyter-widgets/base",
            "_model_module_version": "1.2.0",
            "_model_name": "LayoutModel",
            "_view_count": null,
            "_view_module": "@jupyter-widgets/base",
            "_view_module_version": "1.2.0",
            "_view_name": "LayoutView",
            "align_content": null,
            "align_items": null,
            "align_self": null,
            "border": null,
            "bottom": null,
            "display": null,
            "flex": null,
            "flex_flow": null,
            "grid_area": null,
            "grid_auto_columns": null,
            "grid_auto_flow": null,
            "grid_auto_rows": null,
            "grid_column": null,
            "grid_gap": null,
            "grid_row": null,
            "grid_template_areas": null,
            "grid_template_columns": null,
            "grid_template_rows": null,
            "height": null,
            "justify_content": null,
            "justify_items": null,
            "left": null,
            "margin": null,
            "max_height": null,
            "max_width": null,
            "min_height": null,
            "min_width": null,
            "object_fit": null,
            "object_position": null,
            "order": null,
            "overflow": null,
            "overflow_x": null,
            "overflow_y": null,
            "padding": null,
            "right": null,
            "top": null,
            "visibility": null,
            "width": null
          }
        },
        "25ab46535bef4b80aae935ac5276464c": {
          "model_module": "@jupyter-widgets/controls",
          "model_name": "DescriptionStyleModel",
          "model_module_version": "1.5.0",
          "state": {
            "_model_module": "@jupyter-widgets/controls",
            "_model_module_version": "1.5.0",
            "_model_name": "DescriptionStyleModel",
            "_view_count": null,
            "_view_module": "@jupyter-widgets/base",
            "_view_module_version": "1.2.0",
            "_view_name": "StyleView",
            "description_width": ""
          }
        },
        "e8f367e837a941dea82106485f402e46": {
          "model_module": "@jupyter-widgets/base",
          "model_name": "LayoutModel",
          "model_module_version": "1.2.0",
          "state": {
            "_model_module": "@jupyter-widgets/base",
            "_model_module_version": "1.2.0",
            "_model_name": "LayoutModel",
            "_view_count": null,
            "_view_module": "@jupyter-widgets/base",
            "_view_module_version": "1.2.0",
            "_view_name": "LayoutView",
            "align_content": null,
            "align_items": null,
            "align_self": null,
            "border": null,
            "bottom": null,
            "display": null,
            "flex": null,
            "flex_flow": null,
            "grid_area": null,
            "grid_auto_columns": null,
            "grid_auto_flow": null,
            "grid_auto_rows": null,
            "grid_column": null,
            "grid_gap": null,
            "grid_row": null,
            "grid_template_areas": null,
            "grid_template_columns": null,
            "grid_template_rows": null,
            "height": null,
            "justify_content": null,
            "justify_items": null,
            "left": null,
            "margin": null,
            "max_height": null,
            "max_width": null,
            "min_height": null,
            "min_width": null,
            "object_fit": null,
            "object_position": null,
            "order": null,
            "overflow": null,
            "overflow_x": null,
            "overflow_y": null,
            "padding": null,
            "right": null,
            "top": null,
            "visibility": null,
            "width": null
          }
        },
        "c954e8be647542bf83c51a343e4593d3": {
          "model_module": "@jupyter-widgets/controls",
          "model_name": "ProgressStyleModel",
          "model_module_version": "1.5.0",
          "state": {
            "_model_module": "@jupyter-widgets/controls",
            "_model_module_version": "1.5.0",
            "_model_name": "ProgressStyleModel",
            "_view_count": null,
            "_view_module": "@jupyter-widgets/base",
            "_view_module_version": "1.2.0",
            "_view_name": "StyleView",
            "bar_color": null,
            "description_width": ""
          }
        },
        "bb7550e70a0841c5840f7d1298af4c89": {
          "model_module": "@jupyter-widgets/base",
          "model_name": "LayoutModel",
          "model_module_version": "1.2.0",
          "state": {
            "_model_module": "@jupyter-widgets/base",
            "_model_module_version": "1.2.0",
            "_model_name": "LayoutModel",
            "_view_count": null,
            "_view_module": "@jupyter-widgets/base",
            "_view_module_version": "1.2.0",
            "_view_name": "LayoutView",
            "align_content": null,
            "align_items": null,
            "align_self": null,
            "border": null,
            "bottom": null,
            "display": null,
            "flex": null,
            "flex_flow": null,
            "grid_area": null,
            "grid_auto_columns": null,
            "grid_auto_flow": null,
            "grid_auto_rows": null,
            "grid_column": null,
            "grid_gap": null,
            "grid_row": null,
            "grid_template_areas": null,
            "grid_template_columns": null,
            "grid_template_rows": null,
            "height": null,
            "justify_content": null,
            "justify_items": null,
            "left": null,
            "margin": null,
            "max_height": null,
            "max_width": null,
            "min_height": null,
            "min_width": null,
            "object_fit": null,
            "object_position": null,
            "order": null,
            "overflow": null,
            "overflow_x": null,
            "overflow_y": null,
            "padding": null,
            "right": null,
            "top": null,
            "visibility": null,
            "width": null
          }
        },
        "21ee37f9140640b5bd0f41783026e6fb": {
          "model_module": "@jupyter-widgets/controls",
          "model_name": "DescriptionStyleModel",
          "model_module_version": "1.5.0",
          "state": {
            "_model_module": "@jupyter-widgets/controls",
            "_model_module_version": "1.5.0",
            "_model_name": "DescriptionStyleModel",
            "_view_count": null,
            "_view_module": "@jupyter-widgets/base",
            "_view_module_version": "1.2.0",
            "_view_name": "StyleView",
            "description_width": ""
          }
        },
        "1a36132a0d9d4d3aaaa09eb850fc0c65": {
          "model_module": "@jupyter-widgets/controls",
          "model_name": "HBoxModel",
          "model_module_version": "1.5.0",
          "state": {
            "_dom_classes": [],
            "_model_module": "@jupyter-widgets/controls",
            "_model_module_version": "1.5.0",
            "_model_name": "HBoxModel",
            "_view_count": null,
            "_view_module": "@jupyter-widgets/controls",
            "_view_module_version": "1.5.0",
            "_view_name": "HBoxView",
            "box_style": "",
            "children": [
              "IPY_MODEL_b5a51156dee047c181bffd527861490b",
              "IPY_MODEL_d877a987670e42608585fd9e74cc758e",
              "IPY_MODEL_0edbe93356ae4bd380a1515c17789262"
            ],
            "layout": "IPY_MODEL_343ddcd0f42e429cbad92ed448663783"
          }
        },
        "b5a51156dee047c181bffd527861490b": {
          "model_module": "@jupyter-widgets/controls",
          "model_name": "HTMLModel",
          "model_module_version": "1.5.0",
          "state": {
            "_dom_classes": [],
            "_model_module": "@jupyter-widgets/controls",
            "_model_module_version": "1.5.0",
            "_model_name": "HTMLModel",
            "_view_count": null,
            "_view_module": "@jupyter-widgets/controls",
            "_view_module_version": "1.5.0",
            "_view_name": "HTMLView",
            "description": "",
            "description_tooltip": null,
            "layout": "IPY_MODEL_d0a8ab87f3054f4b819e8d779d2ce418",
            "placeholder": "​",
            "style": "IPY_MODEL_d9c983528d8e43f3904cb256e11cb3c5",
            "value": "100%"
          }
        },
        "d877a987670e42608585fd9e74cc758e": {
          "model_module": "@jupyter-widgets/controls",
          "model_name": "FloatProgressModel",
          "model_module_version": "1.5.0",
          "state": {
            "_dom_classes": [],
            "_model_module": "@jupyter-widgets/controls",
            "_model_module_version": "1.5.0",
            "_model_name": "FloatProgressModel",
            "_view_count": null,
            "_view_module": "@jupyter-widgets/controls",
            "_view_module_version": "1.5.0",
            "_view_name": "ProgressView",
            "bar_style": "success",
            "description": "",
            "description_tooltip": null,
            "layout": "IPY_MODEL_b700f2e6947a41c5aaa9ae587f31b9db",
            "max": 609,
            "min": 0,
            "orientation": "horizontal",
            "style": "IPY_MODEL_03e281fe20284be8a8d274838fd0ea91",
            "value": 609
          }
        },
        "0edbe93356ae4bd380a1515c17789262": {
          "model_module": "@jupyter-widgets/controls",
          "model_name": "HTMLModel",
          "model_module_version": "1.5.0",
          "state": {
            "_dom_classes": [],
            "_model_module": "@jupyter-widgets/controls",
            "_model_module_version": "1.5.0",
            "_model_name": "HTMLModel",
            "_view_count": null,
            "_view_module": "@jupyter-widgets/controls",
            "_view_module_version": "1.5.0",
            "_view_name": "HTMLView",
            "description": "",
            "description_tooltip": null,
            "layout": "IPY_MODEL_8407441d202e44dcbdacb4888b104c05",
            "placeholder": "​",
            "style": "IPY_MODEL_d19c45b5892c4eaf8d9bec764f23aed5",
            "value": " 609/609 [00:10&lt;00:00, 40.81it/s]"
          }
        },
        "343ddcd0f42e429cbad92ed448663783": {
          "model_module": "@jupyter-widgets/base",
          "model_name": "LayoutModel",
          "model_module_version": "1.2.0",
          "state": {
            "_model_module": "@jupyter-widgets/base",
            "_model_module_version": "1.2.0",
            "_model_name": "LayoutModel",
            "_view_count": null,
            "_view_module": "@jupyter-widgets/base",
            "_view_module_version": "1.2.0",
            "_view_name": "LayoutView",
            "align_content": null,
            "align_items": null,
            "align_self": null,
            "border": null,
            "bottom": null,
            "display": null,
            "flex": null,
            "flex_flow": null,
            "grid_area": null,
            "grid_auto_columns": null,
            "grid_auto_flow": null,
            "grid_auto_rows": null,
            "grid_column": null,
            "grid_gap": null,
            "grid_row": null,
            "grid_template_areas": null,
            "grid_template_columns": null,
            "grid_template_rows": null,
            "height": null,
            "justify_content": null,
            "justify_items": null,
            "left": null,
            "margin": null,
            "max_height": null,
            "max_width": null,
            "min_height": null,
            "min_width": null,
            "object_fit": null,
            "object_position": null,
            "order": null,
            "overflow": null,
            "overflow_x": null,
            "overflow_y": null,
            "padding": null,
            "right": null,
            "top": null,
            "visibility": null,
            "width": null
          }
        },
        "d0a8ab87f3054f4b819e8d779d2ce418": {
          "model_module": "@jupyter-widgets/base",
          "model_name": "LayoutModel",
          "model_module_version": "1.2.0",
          "state": {
            "_model_module": "@jupyter-widgets/base",
            "_model_module_version": "1.2.0",
            "_model_name": "LayoutModel",
            "_view_count": null,
            "_view_module": "@jupyter-widgets/base",
            "_view_module_version": "1.2.0",
            "_view_name": "LayoutView",
            "align_content": null,
            "align_items": null,
            "align_self": null,
            "border": null,
            "bottom": null,
            "display": null,
            "flex": null,
            "flex_flow": null,
            "grid_area": null,
            "grid_auto_columns": null,
            "grid_auto_flow": null,
            "grid_auto_rows": null,
            "grid_column": null,
            "grid_gap": null,
            "grid_row": null,
            "grid_template_areas": null,
            "grid_template_columns": null,
            "grid_template_rows": null,
            "height": null,
            "justify_content": null,
            "justify_items": null,
            "left": null,
            "margin": null,
            "max_height": null,
            "max_width": null,
            "min_height": null,
            "min_width": null,
            "object_fit": null,
            "object_position": null,
            "order": null,
            "overflow": null,
            "overflow_x": null,
            "overflow_y": null,
            "padding": null,
            "right": null,
            "top": null,
            "visibility": null,
            "width": null
          }
        },
        "d9c983528d8e43f3904cb256e11cb3c5": {
          "model_module": "@jupyter-widgets/controls",
          "model_name": "DescriptionStyleModel",
          "model_module_version": "1.5.0",
          "state": {
            "_model_module": "@jupyter-widgets/controls",
            "_model_module_version": "1.5.0",
            "_model_name": "DescriptionStyleModel",
            "_view_count": null,
            "_view_module": "@jupyter-widgets/base",
            "_view_module_version": "1.2.0",
            "_view_name": "StyleView",
            "description_width": ""
          }
        },
        "b700f2e6947a41c5aaa9ae587f31b9db": {
          "model_module": "@jupyter-widgets/base",
          "model_name": "LayoutModel",
          "model_module_version": "1.2.0",
          "state": {
            "_model_module": "@jupyter-widgets/base",
            "_model_module_version": "1.2.0",
            "_model_name": "LayoutModel",
            "_view_count": null,
            "_view_module": "@jupyter-widgets/base",
            "_view_module_version": "1.2.0",
            "_view_name": "LayoutView",
            "align_content": null,
            "align_items": null,
            "align_self": null,
            "border": null,
            "bottom": null,
            "display": null,
            "flex": null,
            "flex_flow": null,
            "grid_area": null,
            "grid_auto_columns": null,
            "grid_auto_flow": null,
            "grid_auto_rows": null,
            "grid_column": null,
            "grid_gap": null,
            "grid_row": null,
            "grid_template_areas": null,
            "grid_template_columns": null,
            "grid_template_rows": null,
            "height": null,
            "justify_content": null,
            "justify_items": null,
            "left": null,
            "margin": null,
            "max_height": null,
            "max_width": null,
            "min_height": null,
            "min_width": null,
            "object_fit": null,
            "object_position": null,
            "order": null,
            "overflow": null,
            "overflow_x": null,
            "overflow_y": null,
            "padding": null,
            "right": null,
            "top": null,
            "visibility": null,
            "width": null
          }
        },
        "03e281fe20284be8a8d274838fd0ea91": {
          "model_module": "@jupyter-widgets/controls",
          "model_name": "ProgressStyleModel",
          "model_module_version": "1.5.0",
          "state": {
            "_model_module": "@jupyter-widgets/controls",
            "_model_module_version": "1.5.0",
            "_model_name": "ProgressStyleModel",
            "_view_count": null,
            "_view_module": "@jupyter-widgets/base",
            "_view_module_version": "1.2.0",
            "_view_name": "StyleView",
            "bar_color": null,
            "description_width": ""
          }
        },
        "8407441d202e44dcbdacb4888b104c05": {
          "model_module": "@jupyter-widgets/base",
          "model_name": "LayoutModel",
          "model_module_version": "1.2.0",
          "state": {
            "_model_module": "@jupyter-widgets/base",
            "_model_module_version": "1.2.0",
            "_model_name": "LayoutModel",
            "_view_count": null,
            "_view_module": "@jupyter-widgets/base",
            "_view_module_version": "1.2.0",
            "_view_name": "LayoutView",
            "align_content": null,
            "align_items": null,
            "align_self": null,
            "border": null,
            "bottom": null,
            "display": null,
            "flex": null,
            "flex_flow": null,
            "grid_area": null,
            "grid_auto_columns": null,
            "grid_auto_flow": null,
            "grid_auto_rows": null,
            "grid_column": null,
            "grid_gap": null,
            "grid_row": null,
            "grid_template_areas": null,
            "grid_template_columns": null,
            "grid_template_rows": null,
            "height": null,
            "justify_content": null,
            "justify_items": null,
            "left": null,
            "margin": null,
            "max_height": null,
            "max_width": null,
            "min_height": null,
            "min_width": null,
            "object_fit": null,
            "object_position": null,
            "order": null,
            "overflow": null,
            "overflow_x": null,
            "overflow_y": null,
            "padding": null,
            "right": null,
            "top": null,
            "visibility": null,
            "width": null
          }
        },
        "d19c45b5892c4eaf8d9bec764f23aed5": {
          "model_module": "@jupyter-widgets/controls",
          "model_name": "DescriptionStyleModel",
          "model_module_version": "1.5.0",
          "state": {
            "_model_module": "@jupyter-widgets/controls",
            "_model_module_version": "1.5.0",
            "_model_name": "DescriptionStyleModel",
            "_view_count": null,
            "_view_module": "@jupyter-widgets/base",
            "_view_module_version": "1.2.0",
            "_view_name": "StyleView",
            "description_width": ""
          }
        },
        "1137f851cf3f4761a46288de839540f7": {
          "model_module": "@jupyter-widgets/controls",
          "model_name": "HBoxModel",
          "model_module_version": "1.5.0",
          "state": {
            "_dom_classes": [],
            "_model_module": "@jupyter-widgets/controls",
            "_model_module_version": "1.5.0",
            "_model_name": "HBoxModel",
            "_view_count": null,
            "_view_module": "@jupyter-widgets/controls",
            "_view_module_version": "1.5.0",
            "_view_name": "HBoxView",
            "box_style": "",
            "children": [
              "IPY_MODEL_44d9bfc2ba5a42bb8d16f3f3ee2c59ff",
              "IPY_MODEL_f91d27fe034440d5accb57991abc7318",
              "IPY_MODEL_309cf2f528cc45e38589adea589e851e"
            ],
            "layout": "IPY_MODEL_68687bbaade7472da0f45c5856853767"
          }
        },
        "44d9bfc2ba5a42bb8d16f3f3ee2c59ff": {
          "model_module": "@jupyter-widgets/controls",
          "model_name": "HTMLModel",
          "model_module_version": "1.5.0",
          "state": {
            "_dom_classes": [],
            "_model_module": "@jupyter-widgets/controls",
            "_model_module_version": "1.5.0",
            "_model_name": "HTMLModel",
            "_view_count": null,
            "_view_module": "@jupyter-widgets/controls",
            "_view_module_version": "1.5.0",
            "_view_name": "HTMLView",
            "description": "",
            "description_tooltip": null,
            "layout": "IPY_MODEL_91efdd62c7c842198b8655f64efd0337",
            "placeholder": "​",
            "style": "IPY_MODEL_01e15604c1154c78a4bc21f6fa7b9dce",
            "value": "100%"
          }
        },
        "f91d27fe034440d5accb57991abc7318": {
          "model_module": "@jupyter-widgets/controls",
          "model_name": "FloatProgressModel",
          "model_module_version": "1.5.0",
          "state": {
            "_dom_classes": [],
            "_model_module": "@jupyter-widgets/controls",
            "_model_module_version": "1.5.0",
            "_model_name": "FloatProgressModel",
            "_view_count": null,
            "_view_module": "@jupyter-widgets/controls",
            "_view_module_version": "1.5.0",
            "_view_name": "ProgressView",
            "bar_style": "success",
            "description": "",
            "description_tooltip": null,
            "layout": "IPY_MODEL_4dcdf1b47dd44e0ea3fa1713e03b3156",
            "max": 609,
            "min": 0,
            "orientation": "horizontal",
            "style": "IPY_MODEL_0123eac56cfa4879ad5a259893c4dfb4",
            "value": 609
          }
        },
        "309cf2f528cc45e38589adea589e851e": {
          "model_module": "@jupyter-widgets/controls",
          "model_name": "HTMLModel",
          "model_module_version": "1.5.0",
          "state": {
            "_dom_classes": [],
            "_model_module": "@jupyter-widgets/controls",
            "_model_module_version": "1.5.0",
            "_model_name": "HTMLModel",
            "_view_count": null,
            "_view_module": "@jupyter-widgets/controls",
            "_view_module_version": "1.5.0",
            "_view_name": "HTMLView",
            "description": "",
            "description_tooltip": null,
            "layout": "IPY_MODEL_b4e496eb50674d94b122cdf4c3583b03",
            "placeholder": "​",
            "style": "IPY_MODEL_3ceb6e0a053949df9746da5a611023b3",
            "value": " 609/609 [00:13&lt;00:00, 51.38it/s]"
          }
        },
        "68687bbaade7472da0f45c5856853767": {
          "model_module": "@jupyter-widgets/base",
          "model_name": "LayoutModel",
          "model_module_version": "1.2.0",
          "state": {
            "_model_module": "@jupyter-widgets/base",
            "_model_module_version": "1.2.0",
            "_model_name": "LayoutModel",
            "_view_count": null,
            "_view_module": "@jupyter-widgets/base",
            "_view_module_version": "1.2.0",
            "_view_name": "LayoutView",
            "align_content": null,
            "align_items": null,
            "align_self": null,
            "border": null,
            "bottom": null,
            "display": null,
            "flex": null,
            "flex_flow": null,
            "grid_area": null,
            "grid_auto_columns": null,
            "grid_auto_flow": null,
            "grid_auto_rows": null,
            "grid_column": null,
            "grid_gap": null,
            "grid_row": null,
            "grid_template_areas": null,
            "grid_template_columns": null,
            "grid_template_rows": null,
            "height": null,
            "justify_content": null,
            "justify_items": null,
            "left": null,
            "margin": null,
            "max_height": null,
            "max_width": null,
            "min_height": null,
            "min_width": null,
            "object_fit": null,
            "object_position": null,
            "order": null,
            "overflow": null,
            "overflow_x": null,
            "overflow_y": null,
            "padding": null,
            "right": null,
            "top": null,
            "visibility": null,
            "width": null
          }
        },
        "91efdd62c7c842198b8655f64efd0337": {
          "model_module": "@jupyter-widgets/base",
          "model_name": "LayoutModel",
          "model_module_version": "1.2.0",
          "state": {
            "_model_module": "@jupyter-widgets/base",
            "_model_module_version": "1.2.0",
            "_model_name": "LayoutModel",
            "_view_count": null,
            "_view_module": "@jupyter-widgets/base",
            "_view_module_version": "1.2.0",
            "_view_name": "LayoutView",
            "align_content": null,
            "align_items": null,
            "align_self": null,
            "border": null,
            "bottom": null,
            "display": null,
            "flex": null,
            "flex_flow": null,
            "grid_area": null,
            "grid_auto_columns": null,
            "grid_auto_flow": null,
            "grid_auto_rows": null,
            "grid_column": null,
            "grid_gap": null,
            "grid_row": null,
            "grid_template_areas": null,
            "grid_template_columns": null,
            "grid_template_rows": null,
            "height": null,
            "justify_content": null,
            "justify_items": null,
            "left": null,
            "margin": null,
            "max_height": null,
            "max_width": null,
            "min_height": null,
            "min_width": null,
            "object_fit": null,
            "object_position": null,
            "order": null,
            "overflow": null,
            "overflow_x": null,
            "overflow_y": null,
            "padding": null,
            "right": null,
            "top": null,
            "visibility": null,
            "width": null
          }
        },
        "01e15604c1154c78a4bc21f6fa7b9dce": {
          "model_module": "@jupyter-widgets/controls",
          "model_name": "DescriptionStyleModel",
          "model_module_version": "1.5.0",
          "state": {
            "_model_module": "@jupyter-widgets/controls",
            "_model_module_version": "1.5.0",
            "_model_name": "DescriptionStyleModel",
            "_view_count": null,
            "_view_module": "@jupyter-widgets/base",
            "_view_module_version": "1.2.0",
            "_view_name": "StyleView",
            "description_width": ""
          }
        },
        "4dcdf1b47dd44e0ea3fa1713e03b3156": {
          "model_module": "@jupyter-widgets/base",
          "model_name": "LayoutModel",
          "model_module_version": "1.2.0",
          "state": {
            "_model_module": "@jupyter-widgets/base",
            "_model_module_version": "1.2.0",
            "_model_name": "LayoutModel",
            "_view_count": null,
            "_view_module": "@jupyter-widgets/base",
            "_view_module_version": "1.2.0",
            "_view_name": "LayoutView",
            "align_content": null,
            "align_items": null,
            "align_self": null,
            "border": null,
            "bottom": null,
            "display": null,
            "flex": null,
            "flex_flow": null,
            "grid_area": null,
            "grid_auto_columns": null,
            "grid_auto_flow": null,
            "grid_auto_rows": null,
            "grid_column": null,
            "grid_gap": null,
            "grid_row": null,
            "grid_template_areas": null,
            "grid_template_columns": null,
            "grid_template_rows": null,
            "height": null,
            "justify_content": null,
            "justify_items": null,
            "left": null,
            "margin": null,
            "max_height": null,
            "max_width": null,
            "min_height": null,
            "min_width": null,
            "object_fit": null,
            "object_position": null,
            "order": null,
            "overflow": null,
            "overflow_x": null,
            "overflow_y": null,
            "padding": null,
            "right": null,
            "top": null,
            "visibility": null,
            "width": null
          }
        },
        "0123eac56cfa4879ad5a259893c4dfb4": {
          "model_module": "@jupyter-widgets/controls",
          "model_name": "ProgressStyleModel",
          "model_module_version": "1.5.0",
          "state": {
            "_model_module": "@jupyter-widgets/controls",
            "_model_module_version": "1.5.0",
            "_model_name": "ProgressStyleModel",
            "_view_count": null,
            "_view_module": "@jupyter-widgets/base",
            "_view_module_version": "1.2.0",
            "_view_name": "StyleView",
            "bar_color": null,
            "description_width": ""
          }
        },
        "b4e496eb50674d94b122cdf4c3583b03": {
          "model_module": "@jupyter-widgets/base",
          "model_name": "LayoutModel",
          "model_module_version": "1.2.0",
          "state": {
            "_model_module": "@jupyter-widgets/base",
            "_model_module_version": "1.2.0",
            "_model_name": "LayoutModel",
            "_view_count": null,
            "_view_module": "@jupyter-widgets/base",
            "_view_module_version": "1.2.0",
            "_view_name": "LayoutView",
            "align_content": null,
            "align_items": null,
            "align_self": null,
            "border": null,
            "bottom": null,
            "display": null,
            "flex": null,
            "flex_flow": null,
            "grid_area": null,
            "grid_auto_columns": null,
            "grid_auto_flow": null,
            "grid_auto_rows": null,
            "grid_column": null,
            "grid_gap": null,
            "grid_row": null,
            "grid_template_areas": null,
            "grid_template_columns": null,
            "grid_template_rows": null,
            "height": null,
            "justify_content": null,
            "justify_items": null,
            "left": null,
            "margin": null,
            "max_height": null,
            "max_width": null,
            "min_height": null,
            "min_width": null,
            "object_fit": null,
            "object_position": null,
            "order": null,
            "overflow": null,
            "overflow_x": null,
            "overflow_y": null,
            "padding": null,
            "right": null,
            "top": null,
            "visibility": null,
            "width": null
          }
        },
        "3ceb6e0a053949df9746da5a611023b3": {
          "model_module": "@jupyter-widgets/controls",
          "model_name": "DescriptionStyleModel",
          "model_module_version": "1.5.0",
          "state": {
            "_model_module": "@jupyter-widgets/controls",
            "_model_module_version": "1.5.0",
            "_model_name": "DescriptionStyleModel",
            "_view_count": null,
            "_view_module": "@jupyter-widgets/base",
            "_view_module_version": "1.2.0",
            "_view_name": "StyleView",
            "description_width": ""
          }
        }
      }
    }
  },
  "cells": [
    {
      "cell_type": "markdown",
      "source": [
        "##드라이브 연결"
      ],
      "metadata": {
        "id": "hoTD6O1j4LcX"
      }
    },
    {
      "cell_type": "code",
      "source": [
        "import pandas as pd"
      ],
      "metadata": {
        "id": "h_PHL84qsORi"
      },
      "execution_count": 146,
      "outputs": []
    },
    {
      "cell_type": "code",
      "execution_count": 147,
      "metadata": {
        "colab": {
          "base_uri": "https://localhost:8080/"
        },
        "id": "BNuFPooPrjUn",
        "outputId": "ac88b35d-0b47-4683-88ec-b6343a16598d"
      },
      "outputs": [
        {
          "output_type": "stream",
          "name": "stdout",
          "text": [
            "Drive already mounted at /content/gdrive; to attempt to forcibly remount, call drive.mount(\"/content/gdrive\", force_remount=True).\n"
          ]
        },
        {
          "output_type": "execute_result",
          "data": {
            "text/plain": [
              "['movies.csv',\n",
              " 'ratings.csv',\n",
              " 'tags.csv',\n",
              " 'links.csv',\n",
              " 'movies_refined.csv',\n",
              " 'ratings_refined.csv',\n",
              " 'user_based_cf_prediction.csv',\n",
              " '1207 sample_data_pp.csv',\n",
              " '1208 CosSim_Genres.csv',\n",
              " '1208 CosSim_All.csv',\n",
              " '1208 CosSim_Story.csv',\n",
              " '1208 CosSim_Title.csv',\n",
              " '1208 CosSim_Tag.csv',\n",
              " '1208 EucSim_Title.csv',\n",
              " '1208 EucSim_Tag.csv',\n",
              " '1208 EucSim_Story.csv',\n",
              " '1208 EucSim_Genres.csv',\n",
              " '1208 EucSim_All.csv']"
            ]
          },
          "metadata": {},
          "execution_count": 147
        }
      ],
      "source": [
        "import os\n",
        "from google.colab import drive\n",
        "drive.mount('/content/gdrive')\n",
        "\n",
        "path = \"gdrive/MyDrive/ML/Recommendation/Data/Movielens/\"\n",
        "os.listdir(path)"
      ]
    },
    {
      "cell_type": "code",
      "source": [
        "cosSim_All = pd.read_csv(path + '1208 CosSim_All.csv')\n",
        "cosSim_Genres =pd.read_csv(path + '1208 CosSim_Genres.csv')\n",
        "cosSim_Title =pd.read_csv(path + '1208 CosSim_Title.csv')\n",
        "cosSim_Tag =pd.read_csv(path + '1208 CosSim_Tag.csv')\n",
        "cosSim_Story =pd.read_csv(path + '1208 CosSim_Story.csv')"
      ],
      "metadata": {
        "id": "FR8QC0DQsRzS"
      },
      "execution_count": 148,
      "outputs": []
    },
    {
      "cell_type": "code",
      "source": [
        "EucSim_All =  pd.read_csv(path + '1208 EucSim_All.csv')\n",
        "EucSim_Genres = pd.read_csv(path + '1208 EucSim_Genres.csv')\n",
        "EucSim_Title = pd.read_csv(path + '1208 EucSim_Title.csv')\n",
        "EucSim_Tag = pd.read_csv(path + '1208 EucSim_Tag.csv')\n",
        "EucSim_Story = pd.read_csv(path + '1208 EucSim_Story.csv')"
      ],
      "metadata": {
        "id": "iXW95_mn5C_X"
      },
      "execution_count": 149,
      "outputs": []
    },
    {
      "cell_type": "code",
      "source": [
        "k = pd.read_csv(path + \"1207 sample_data_pp.csv\")\n",
        "movie = pd.read_csv(path + \"movies_refined.csv\")\n",
        "rating = pd.read_csv(path + 'ratings.csv')"
      ],
      "metadata": {
        "id": "p-QehPEws6Xn"
      },
      "execution_count": 150,
      "outputs": []
    },
    {
      "cell_type": "markdown",
      "source": [
        "##파일 병합 및 전 처리"
      ],
      "metadata": {
        "id": "OHpltVYz4bhR"
      }
    },
    {
      "cell_type": "code",
      "source": [
        "new_data = pd.merge(movie, k, on='movieId', how='right')"
      ],
      "metadata": {
        "id": "diuaEJwgta6m"
      },
      "execution_count": 151,
      "outputs": []
    },
    {
      "cell_type": "code",
      "source": [
        "new_df = pd.merge(movie, k, on='movieId', how='left')"
      ],
      "metadata": {
        "id": "xMYtrHmBzPo3"
      },
      "execution_count": 152,
      "outputs": []
    },
    {
      "cell_type": "code",
      "source": [
        "new_ratings = pd.merge(rating, k, on='movieId', how='left')"
      ],
      "metadata": {
        "id": "XikIz-hIv2Ku"
      },
      "execution_count": 153,
      "outputs": []
    },
    {
      "cell_type": "code",
      "source": [
        "title_list = new_data['title_x'].tolist()"
      ],
      "metadata": {
        "id": "6x8QWXNIsWbR"
      },
      "execution_count": 154,
      "outputs": []
    },
    {
      "cell_type": "code",
      "source": [
        "movie_id_list = new_data['movieId'].tolist()"
      ],
      "metadata": {
        "id": "E99MzOTfxN-2"
      },
      "execution_count": 155,
      "outputs": []
    },
    {
      "cell_type": "markdown",
      "source": [
        "###유클리디안 행렬 인덱스 설정"
      ],
      "metadata": {
        "id": "Ump1Z33B5r2Z"
      }
    },
    {
      "cell_type": "code",
      "source": [
        "EucSim_All_id   =EucSim_All.set_index(pd.Index(movie_id_list)).rename(columns=dict(zip(EucSim_All.columns, movie_id_list)))\n",
        "EucSim_Genres_id=EucSim_Genres.set_index(pd.Index(movie_id_list)).rename(columns=dict(zip(EucSim_Genres.columns, movie_id_list)))\n",
        "EucSim_Title_id =EucSim_Title.set_index(pd.Index(movie_id_list)).rename(columns=dict(zip(EucSim_Title.columns, movie_id_list)))\n",
        "EucSim_Tag_id   =EucSim_Tag.set_index(pd.Index(movie_id_list)).rename(columns=dict(zip(EucSim_Tag.columns, movie_id_list)))\n",
        "EucSim_Story_id =EucSim_Story.set_index(pd.Index(movie_id_list)).rename(columns=dict(zip(EucSim_Story.columns, movie_id_list)))"
      ],
      "metadata": {
        "id": "YNcWpVDDxCi6"
      },
      "execution_count": 156,
      "outputs": []
    },
    {
      "cell_type": "code",
      "source": [
        "EucSim_All   = EucSim_All.set_index(pd.Index(title_list)).rename(columns=dict(zip(EucSim_All.columns, title_list)))\n",
        "EucSim_Genres= EucSim_Genres.set_index(pd.Index(title_list)).rename(columns=dict(zip(EucSim_Genres.columns, title_list)))\n",
        "EucSim_Title = EucSim_Title.set_index(pd.Index(title_list)).rename(columns=dict(zip(EucSim_Title.columns, title_list)))\n",
        "EucSim_Tag   = EucSim_Tag.set_index(pd.Index(title_list)).rename(columns=dict(zip(EucSim_Tag.columns, title_list)))\n",
        "EucSim_Story = EucSim_Story.set_index(pd.Index(title_list)).rename(columns=dict(zip(EucSim_Story.columns, title_list)))"
      ],
      "metadata": {
        "id": "BHpz9UMEvny9"
      },
      "execution_count": 157,
      "outputs": []
    },
    {
      "cell_type": "markdown",
      "source": [
        "###코사인 행렬 인덱스 설정"
      ],
      "metadata": {
        "id": "OXFZfAvF4eEj"
      }
    },
    {
      "cell_type": "code",
      "source": [
        "cosSim_All_id   =cosSim_All.set_index(pd.Index(movie_id_list)).rename(columns=dict(zip(cosSim_All.columns, movie_id_list)))\n",
        "cosSim_Genres_id=cosSim_Genres.set_index(pd.Index(movie_id_list)).rename(columns=dict(zip(cosSim_Genres.columns, movie_id_list)))\n",
        "cosSim_Title_id =cosSim_Title.set_index(pd.Index(movie_id_list)).rename(columns=dict(zip(cosSim_Title.columns, movie_id_list)))\n",
        "cosSim_Tag_id   =cosSim_Tag.set_index(pd.Index(movie_id_list)).rename(columns=dict(zip(cosSim_Tag.columns, movie_id_list)))\n",
        "cosSim_Story_id =cosSim_Story.set_index(pd.Index(movie_id_list)).rename(columns=dict(zip(cosSim_Story.columns, movie_id_list)))"
      ],
      "metadata": {
        "id": "nFs8-BUZ5vBG"
      },
      "execution_count": 158,
      "outputs": []
    },
    {
      "cell_type": "code",
      "source": [
        "cosSim_All_id   =cosSim_All.set_index(pd.Index(movie_id_list)).rename(columns=dict(zip(cosSim_All.columns, movie_id_list)))\n",
        "cosSim_Genres_id=cosSim_Genres.set_index(pd.Index(movie_id_list)).rename(columns=dict(zip(cosSim_Genres.columns, movie_id_list)))\n",
        "cosSim_Title_id =cosSim_Title.set_index(pd.Index(movie_id_list)).rename(columns=dict(zip(cosSim_Title.columns, movie_id_list)))\n",
        "cosSim_Tag_id   =cosSim_Tag.set_index(pd.Index(movie_id_list)).rename(columns=dict(zip(cosSim_Tag.columns, movie_id_list)))\n",
        "cosSim_Story_id =cosSim_Story.set_index(pd.Index(movie_id_list)).rename(columns=dict(zip(cosSim_Story.columns, movie_id_list)))"
      ],
      "metadata": {
        "id": "JXHAo_aK5vDu"
      },
      "execution_count": 159,
      "outputs": []
    },
    {
      "cell_type": "markdown",
      "source": [
        "###레이팅 전처리"
      ],
      "metadata": {
        "id": "gwQtncfQ4kq0"
      }
    },
    {
      "cell_type": "code",
      "source": [
        "new_ratings_refined = rating[rating['movieId'].isin(movie_id_list)]"
      ],
      "metadata": {
        "id": "u_AxRQHrx5EB"
      },
      "execution_count": 160,
      "outputs": []
    },
    {
      "cell_type": "code",
      "source": [
        "new_ratings_refined = new_ratings_refined[['userId', 'movieId', 'rating']]"
      ],
      "metadata": {
        "id": "Wbgucp721eEO"
      },
      "execution_count": 161,
      "outputs": []
    },
    {
      "cell_type": "markdown",
      "source": [
        "##모델링"
      ],
      "metadata": {
        "id": "x90thr3P4mqk"
      }
    },
    {
      "cell_type": "code",
      "source": [
        "from tqdm.notebook import tqdm\n",
        "import numpy as np\n",
        "def modeling(similarity_matrix, data):\n",
        "    df_pred_all = pd.DataFrame()\n",
        "    titles = title_list\n",
        "    all_users = sorted(data['userId'].unique())\n",
        "    n_titles = len(titles)\n",
        "\n",
        "    for user in tqdm(all_users):\n",
        "        idx = data[data['userId'] == user].index\n",
        "\n",
        "        # 유사도\n",
        "        watched_movies = data.loc[idx, 'movieId'].tolist()\n",
        "        sub_sim_mat = similarity_matrix.loc[watched_movies]\n",
        "        sub_sim_mat = sub_sim_mat.T.to_numpy()\n",
        "        sim_N = np.sum(sub_sim_mat, axis=1) + 1\n",
        "\n",
        "\n",
        "        # 평점 예측\n",
        "        watched_movies_y = data.loc[idx, 'rating']\n",
        "        watched_movies_y = np.array(watched_movies_y.tolist()).reshape(-1, 1)\n",
        "\n",
        "        pred_y = np.matmul(sub_sim_mat, watched_movies_y).flatten() / sim_N\n",
        "\n",
        "        users_list = [user] * n_titles\n",
        "        cur_pred = pd.DataFrame(zip(users_list, titles, pred_y),\n",
        "                                columns=['userId', 'title', 'pred_rating'])\n",
        "\n",
        "        # 결과 기록\n",
        "        df_pred_all = pd.concat([df_pred_all, cur_pred], axis=0)\n",
        "    return df_pred_all"
      ],
      "metadata": {
        "id": "DbEk4J2LwAQA"
      },
      "execution_count": 162,
      "outputs": []
    },
    {
      "cell_type": "markdown",
      "source": [
        "##평점 예측"
      ],
      "metadata": {
        "id": "zaWEi2m74oRp"
      }
    },
    {
      "cell_type": "markdown",
      "source": [
        "###코사인 유사도 기반"
      ],
      "metadata": {
        "id": "KJwVFz4s6jES"
      }
    },
    {
      "cell_type": "markdown",
      "source": [
        "####all"
      ],
      "metadata": {
        "id": "KkgaMeqs4qej"
      }
    },
    {
      "cell_type": "code",
      "source": [
        "cosSim_All_id"
      ],
      "metadata": {
        "colab": {
          "base_uri": "https://localhost:8080/",
          "height": 424
        },
        "id": "QGSsmxqSAw1M",
        "outputId": "5ba17ccb-8236-4188-baca-8c2430ce2321"
      },
      "execution_count": 163,
      "outputs": [
        {
          "output_type": "execute_result",
          "data": {
            "text/plain": [
              "          1         2         3         4         5         6         7     \\\n",
              "1     1.000000  0.785750  0.650031  0.466738  0.814383  0.516607  0.344824   \n",
              "2     0.787437  1.000000  0.573271  0.584012  0.678320  0.536172  0.471093   \n",
              "3     0.662085  0.584697  1.000000  0.540845  0.707638  0.491259  0.520871   \n",
              "4     0.375624  0.483880  0.426860  1.000000  0.449428  0.714500  0.720298   \n",
              "5     0.811703  0.671085  0.692837  0.535496  1.000000  0.450501  0.361283   \n",
              "...        ...       ...       ...       ...       ...       ...       ...   \n",
              "3329  0.350219  0.449968  0.360308  0.470957  0.404736  0.209354  0.341255   \n",
              "3330  0.236992  0.333691  0.250880  0.827166  0.296669  0.562795  0.550913   \n",
              "3331  0.459067  0.563123  0.419234  0.551629  0.507848  0.324801  0.290043   \n",
              "3334  0.395931  0.486651  0.512486  0.389149  0.427777  0.352176  0.327433   \n",
              "3338  0.528854  0.437120  0.458281  0.351804  0.547725  0.325460  0.173937   \n",
              "\n",
              "          8         9         10    ...      3324      3325      3326  \\\n",
              "1     0.797125  0.457293  0.322287  ...  0.658534  0.375459  0.536232   \n",
              "2     0.907093  0.615181  0.506260  ...  0.502899  0.400609  0.576293   \n",
              "3     0.566345  0.450563  0.417607  ...  0.671176  0.470040  0.519406   \n",
              "4     0.505553  0.830274  0.641777  ...  0.355610  0.729016  0.453677   \n",
              "5     0.742262  0.453223  0.281668  ...  0.746989  0.454780  0.605773   \n",
              "...        ...       ...       ...  ...       ...       ...       ...   \n",
              "3329  0.521785  0.348985  0.294301  ...  0.435488  0.423753  0.532692   \n",
              "3330  0.403572  0.691501  0.504742  ...  0.310480  0.720575  0.432158   \n",
              "3331  0.627823  0.456842  0.296992  ...  0.555462  0.531025  0.639620   \n",
              "3334  0.482711  0.375292  0.364689  ...  0.473721  0.486808  0.500513   \n",
              "3338  0.504589  0.336208  0.171081  ...  0.584522  0.383066  0.525046   \n",
              "\n",
              "          3327      3328      3329      3330      3331      3334      3338  \n",
              "1     0.674771  0.343047  0.398148  0.378806  0.491020  0.436336  0.596340  \n",
              "2     0.773003  0.344911  0.494552  0.476329  0.619066  0.545249  0.497770  \n",
              "3     0.644680  0.364602  0.427901  0.416773  0.467399  0.589594  0.537724  \n",
              "4     0.581487  0.707574  0.425422  0.841649  0.488473  0.327588  0.299039  \n",
              "5     0.712820  0.393027  0.440683  0.426178  0.540661  0.463441  0.610274  \n",
              "...        ...       ...       ...       ...       ...       ...       ...  \n",
              "3329  0.605304  0.376089  1.000000  0.557459  0.806546  0.468986  0.580812  \n",
              "3330  0.480618  0.616005  0.466254  1.000000  0.531742  0.469920  0.328877  \n",
              "3331  0.721214  0.394097  0.744318  0.623948  1.000000  0.616581  0.696556  \n",
              "3334  0.573645  0.279730  0.466801  0.558801  0.602622  1.000000  0.484922  \n",
              "3338  0.712075  0.260598  0.550869  0.431398  0.679873  0.475693  1.000000  \n",
              "\n",
              "[1792 rows x 1792 columns]"
            ],
            "text/html": [
              "\n",
              "  <div id=\"df-62463c9b-75a1-4a3e-abef-5e79a4bb975e\" class=\"colab-df-container\">\n",
              "    <div>\n",
              "<style scoped>\n",
              "    .dataframe tbody tr th:only-of-type {\n",
              "        vertical-align: middle;\n",
              "    }\n",
              "\n",
              "    .dataframe tbody tr th {\n",
              "        vertical-align: top;\n",
              "    }\n",
              "\n",
              "    .dataframe thead th {\n",
              "        text-align: right;\n",
              "    }\n",
              "</style>\n",
              "<table border=\"1\" class=\"dataframe\">\n",
              "  <thead>\n",
              "    <tr style=\"text-align: right;\">\n",
              "      <th></th>\n",
              "      <th>1</th>\n",
              "      <th>2</th>\n",
              "      <th>3</th>\n",
              "      <th>4</th>\n",
              "      <th>5</th>\n",
              "      <th>6</th>\n",
              "      <th>7</th>\n",
              "      <th>8</th>\n",
              "      <th>9</th>\n",
              "      <th>10</th>\n",
              "      <th>...</th>\n",
              "      <th>3324</th>\n",
              "      <th>3325</th>\n",
              "      <th>3326</th>\n",
              "      <th>3327</th>\n",
              "      <th>3328</th>\n",
              "      <th>3329</th>\n",
              "      <th>3330</th>\n",
              "      <th>3331</th>\n",
              "      <th>3334</th>\n",
              "      <th>3338</th>\n",
              "    </tr>\n",
              "  </thead>\n",
              "  <tbody>\n",
              "    <tr>\n",
              "      <th>1</th>\n",
              "      <td>1.000000</td>\n",
              "      <td>0.785750</td>\n",
              "      <td>0.650031</td>\n",
              "      <td>0.466738</td>\n",
              "      <td>0.814383</td>\n",
              "      <td>0.516607</td>\n",
              "      <td>0.344824</td>\n",
              "      <td>0.797125</td>\n",
              "      <td>0.457293</td>\n",
              "      <td>0.322287</td>\n",
              "      <td>...</td>\n",
              "      <td>0.658534</td>\n",
              "      <td>0.375459</td>\n",
              "      <td>0.536232</td>\n",
              "      <td>0.674771</td>\n",
              "      <td>0.343047</td>\n",
              "      <td>0.398148</td>\n",
              "      <td>0.378806</td>\n",
              "      <td>0.491020</td>\n",
              "      <td>0.436336</td>\n",
              "      <td>0.596340</td>\n",
              "    </tr>\n",
              "    <tr>\n",
              "      <th>2</th>\n",
              "      <td>0.787437</td>\n",
              "      <td>1.000000</td>\n",
              "      <td>0.573271</td>\n",
              "      <td>0.584012</td>\n",
              "      <td>0.678320</td>\n",
              "      <td>0.536172</td>\n",
              "      <td>0.471093</td>\n",
              "      <td>0.907093</td>\n",
              "      <td>0.615181</td>\n",
              "      <td>0.506260</td>\n",
              "      <td>...</td>\n",
              "      <td>0.502899</td>\n",
              "      <td>0.400609</td>\n",
              "      <td>0.576293</td>\n",
              "      <td>0.773003</td>\n",
              "      <td>0.344911</td>\n",
              "      <td>0.494552</td>\n",
              "      <td>0.476329</td>\n",
              "      <td>0.619066</td>\n",
              "      <td>0.545249</td>\n",
              "      <td>0.497770</td>\n",
              "    </tr>\n",
              "    <tr>\n",
              "      <th>3</th>\n",
              "      <td>0.662085</td>\n",
              "      <td>0.584697</td>\n",
              "      <td>1.000000</td>\n",
              "      <td>0.540845</td>\n",
              "      <td>0.707638</td>\n",
              "      <td>0.491259</td>\n",
              "      <td>0.520871</td>\n",
              "      <td>0.566345</td>\n",
              "      <td>0.450563</td>\n",
              "      <td>0.417607</td>\n",
              "      <td>...</td>\n",
              "      <td>0.671176</td>\n",
              "      <td>0.470040</td>\n",
              "      <td>0.519406</td>\n",
              "      <td>0.644680</td>\n",
              "      <td>0.364602</td>\n",
              "      <td>0.427901</td>\n",
              "      <td>0.416773</td>\n",
              "      <td>0.467399</td>\n",
              "      <td>0.589594</td>\n",
              "      <td>0.537724</td>\n",
              "    </tr>\n",
              "    <tr>\n",
              "      <th>4</th>\n",
              "      <td>0.375624</td>\n",
              "      <td>0.483880</td>\n",
              "      <td>0.426860</td>\n",
              "      <td>1.000000</td>\n",
              "      <td>0.449428</td>\n",
              "      <td>0.714500</td>\n",
              "      <td>0.720298</td>\n",
              "      <td>0.505553</td>\n",
              "      <td>0.830274</td>\n",
              "      <td>0.641777</td>\n",
              "      <td>...</td>\n",
              "      <td>0.355610</td>\n",
              "      <td>0.729016</td>\n",
              "      <td>0.453677</td>\n",
              "      <td>0.581487</td>\n",
              "      <td>0.707574</td>\n",
              "      <td>0.425422</td>\n",
              "      <td>0.841649</td>\n",
              "      <td>0.488473</td>\n",
              "      <td>0.327588</td>\n",
              "      <td>0.299039</td>\n",
              "    </tr>\n",
              "    <tr>\n",
              "      <th>5</th>\n",
              "      <td>0.811703</td>\n",
              "      <td>0.671085</td>\n",
              "      <td>0.692837</td>\n",
              "      <td>0.535496</td>\n",
              "      <td>1.000000</td>\n",
              "      <td>0.450501</td>\n",
              "      <td>0.361283</td>\n",
              "      <td>0.742262</td>\n",
              "      <td>0.453223</td>\n",
              "      <td>0.281668</td>\n",
              "      <td>...</td>\n",
              "      <td>0.746989</td>\n",
              "      <td>0.454780</td>\n",
              "      <td>0.605773</td>\n",
              "      <td>0.712820</td>\n",
              "      <td>0.393027</td>\n",
              "      <td>0.440683</td>\n",
              "      <td>0.426178</td>\n",
              "      <td>0.540661</td>\n",
              "      <td>0.463441</td>\n",
              "      <td>0.610274</td>\n",
              "    </tr>\n",
              "    <tr>\n",
              "      <th>...</th>\n",
              "      <td>...</td>\n",
              "      <td>...</td>\n",
              "      <td>...</td>\n",
              "      <td>...</td>\n",
              "      <td>...</td>\n",
              "      <td>...</td>\n",
              "      <td>...</td>\n",
              "      <td>...</td>\n",
              "      <td>...</td>\n",
              "      <td>...</td>\n",
              "      <td>...</td>\n",
              "      <td>...</td>\n",
              "      <td>...</td>\n",
              "      <td>...</td>\n",
              "      <td>...</td>\n",
              "      <td>...</td>\n",
              "      <td>...</td>\n",
              "      <td>...</td>\n",
              "      <td>...</td>\n",
              "      <td>...</td>\n",
              "      <td>...</td>\n",
              "    </tr>\n",
              "    <tr>\n",
              "      <th>3329</th>\n",
              "      <td>0.350219</td>\n",
              "      <td>0.449968</td>\n",
              "      <td>0.360308</td>\n",
              "      <td>0.470957</td>\n",
              "      <td>0.404736</td>\n",
              "      <td>0.209354</td>\n",
              "      <td>0.341255</td>\n",
              "      <td>0.521785</td>\n",
              "      <td>0.348985</td>\n",
              "      <td>0.294301</td>\n",
              "      <td>...</td>\n",
              "      <td>0.435488</td>\n",
              "      <td>0.423753</td>\n",
              "      <td>0.532692</td>\n",
              "      <td>0.605304</td>\n",
              "      <td>0.376089</td>\n",
              "      <td>1.000000</td>\n",
              "      <td>0.557459</td>\n",
              "      <td>0.806546</td>\n",
              "      <td>0.468986</td>\n",
              "      <td>0.580812</td>\n",
              "    </tr>\n",
              "    <tr>\n",
              "      <th>3330</th>\n",
              "      <td>0.236992</td>\n",
              "      <td>0.333691</td>\n",
              "      <td>0.250880</td>\n",
              "      <td>0.827166</td>\n",
              "      <td>0.296669</td>\n",
              "      <td>0.562795</td>\n",
              "      <td>0.550913</td>\n",
              "      <td>0.403572</td>\n",
              "      <td>0.691501</td>\n",
              "      <td>0.504742</td>\n",
              "      <td>...</td>\n",
              "      <td>0.310480</td>\n",
              "      <td>0.720575</td>\n",
              "      <td>0.432158</td>\n",
              "      <td>0.480618</td>\n",
              "      <td>0.616005</td>\n",
              "      <td>0.466254</td>\n",
              "      <td>1.000000</td>\n",
              "      <td>0.531742</td>\n",
              "      <td>0.469920</td>\n",
              "      <td>0.328877</td>\n",
              "    </tr>\n",
              "    <tr>\n",
              "      <th>3331</th>\n",
              "      <td>0.459067</td>\n",
              "      <td>0.563123</td>\n",
              "      <td>0.419234</td>\n",
              "      <td>0.551629</td>\n",
              "      <td>0.507848</td>\n",
              "      <td>0.324801</td>\n",
              "      <td>0.290043</td>\n",
              "      <td>0.627823</td>\n",
              "      <td>0.456842</td>\n",
              "      <td>0.296992</td>\n",
              "      <td>...</td>\n",
              "      <td>0.555462</td>\n",
              "      <td>0.531025</td>\n",
              "      <td>0.639620</td>\n",
              "      <td>0.721214</td>\n",
              "      <td>0.394097</td>\n",
              "      <td>0.744318</td>\n",
              "      <td>0.623948</td>\n",
              "      <td>1.000000</td>\n",
              "      <td>0.616581</td>\n",
              "      <td>0.696556</td>\n",
              "    </tr>\n",
              "    <tr>\n",
              "      <th>3334</th>\n",
              "      <td>0.395931</td>\n",
              "      <td>0.486651</td>\n",
              "      <td>0.512486</td>\n",
              "      <td>0.389149</td>\n",
              "      <td>0.427777</td>\n",
              "      <td>0.352176</td>\n",
              "      <td>0.327433</td>\n",
              "      <td>0.482711</td>\n",
              "      <td>0.375292</td>\n",
              "      <td>0.364689</td>\n",
              "      <td>...</td>\n",
              "      <td>0.473721</td>\n",
              "      <td>0.486808</td>\n",
              "      <td>0.500513</td>\n",
              "      <td>0.573645</td>\n",
              "      <td>0.279730</td>\n",
              "      <td>0.466801</td>\n",
              "      <td>0.558801</td>\n",
              "      <td>0.602622</td>\n",
              "      <td>1.000000</td>\n",
              "      <td>0.484922</td>\n",
              "    </tr>\n",
              "    <tr>\n",
              "      <th>3338</th>\n",
              "      <td>0.528854</td>\n",
              "      <td>0.437120</td>\n",
              "      <td>0.458281</td>\n",
              "      <td>0.351804</td>\n",
              "      <td>0.547725</td>\n",
              "      <td>0.325460</td>\n",
              "      <td>0.173937</td>\n",
              "      <td>0.504589</td>\n",
              "      <td>0.336208</td>\n",
              "      <td>0.171081</td>\n",
              "      <td>...</td>\n",
              "      <td>0.584522</td>\n",
              "      <td>0.383066</td>\n",
              "      <td>0.525046</td>\n",
              "      <td>0.712075</td>\n",
              "      <td>0.260598</td>\n",
              "      <td>0.550869</td>\n",
              "      <td>0.431398</td>\n",
              "      <td>0.679873</td>\n",
              "      <td>0.475693</td>\n",
              "      <td>1.000000</td>\n",
              "    </tr>\n",
              "  </tbody>\n",
              "</table>\n",
              "<p>1792 rows × 1792 columns</p>\n",
              "</div>\n",
              "    <div class=\"colab-df-buttons\">\n",
              "\n",
              "  <div class=\"colab-df-container\">\n",
              "    <button class=\"colab-df-convert\" onclick=\"convertToInteractive('df-62463c9b-75a1-4a3e-abef-5e79a4bb975e')\"\n",
              "            title=\"Convert this dataframe to an interactive table.\"\n",
              "            style=\"display:none;\">\n",
              "\n",
              "  <svg xmlns=\"http://www.w3.org/2000/svg\" height=\"24px\" viewBox=\"0 -960 960 960\">\n",
              "    <path d=\"M120-120v-720h720v720H120Zm60-500h600v-160H180v160Zm220 220h160v-160H400v160Zm0 220h160v-160H400v160ZM180-400h160v-160H180v160Zm440 0h160v-160H620v160ZM180-180h160v-160H180v160Zm440 0h160v-160H620v160Z\"/>\n",
              "  </svg>\n",
              "    </button>\n",
              "\n",
              "  <style>\n",
              "    .colab-df-container {\n",
              "      display:flex;\n",
              "      gap: 12px;\n",
              "    }\n",
              "\n",
              "    .colab-df-convert {\n",
              "      background-color: #E8F0FE;\n",
              "      border: none;\n",
              "      border-radius: 50%;\n",
              "      cursor: pointer;\n",
              "      display: none;\n",
              "      fill: #1967D2;\n",
              "      height: 32px;\n",
              "      padding: 0 0 0 0;\n",
              "      width: 32px;\n",
              "    }\n",
              "\n",
              "    .colab-df-convert:hover {\n",
              "      background-color: #E2EBFA;\n",
              "      box-shadow: 0px 1px 2px rgba(60, 64, 67, 0.3), 0px 1px 3px 1px rgba(60, 64, 67, 0.15);\n",
              "      fill: #174EA6;\n",
              "    }\n",
              "\n",
              "    .colab-df-buttons div {\n",
              "      margin-bottom: 4px;\n",
              "    }\n",
              "\n",
              "    [theme=dark] .colab-df-convert {\n",
              "      background-color: #3B4455;\n",
              "      fill: #D2E3FC;\n",
              "    }\n",
              "\n",
              "    [theme=dark] .colab-df-convert:hover {\n",
              "      background-color: #434B5C;\n",
              "      box-shadow: 0px 1px 3px 1px rgba(0, 0, 0, 0.15);\n",
              "      filter: drop-shadow(0px 1px 2px rgba(0, 0, 0, 0.3));\n",
              "      fill: #FFFFFF;\n",
              "    }\n",
              "  </style>\n",
              "\n",
              "    <script>\n",
              "      const buttonEl =\n",
              "        document.querySelector('#df-62463c9b-75a1-4a3e-abef-5e79a4bb975e button.colab-df-convert');\n",
              "      buttonEl.style.display =\n",
              "        google.colab.kernel.accessAllowed ? 'block' : 'none';\n",
              "\n",
              "      async function convertToInteractive(key) {\n",
              "        const element = document.querySelector('#df-62463c9b-75a1-4a3e-abef-5e79a4bb975e');\n",
              "        const dataTable =\n",
              "          await google.colab.kernel.invokeFunction('convertToInteractive',\n",
              "                                                    [key], {});\n",
              "        if (!dataTable) return;\n",
              "\n",
              "        const docLinkHtml = 'Like what you see? Visit the ' +\n",
              "          '<a target=\"_blank\" href=https://colab.research.google.com/notebooks/data_table.ipynb>data table notebook</a>'\n",
              "          + ' to learn more about interactive tables.';\n",
              "        element.innerHTML = '';\n",
              "        dataTable['output_type'] = 'display_data';\n",
              "        await google.colab.output.renderOutput(dataTable, element);\n",
              "        const docLink = document.createElement('div');\n",
              "        docLink.innerHTML = docLinkHtml;\n",
              "        element.appendChild(docLink);\n",
              "      }\n",
              "    </script>\n",
              "  </div>\n",
              "\n",
              "\n",
              "<div id=\"df-78e3cd11-bd56-459d-a74a-e5c9e019634e\">\n",
              "  <button class=\"colab-df-quickchart\" onclick=\"quickchart('df-78e3cd11-bd56-459d-a74a-e5c9e019634e')\"\n",
              "            title=\"Suggest charts\"\n",
              "            style=\"display:none;\">\n",
              "\n",
              "<svg xmlns=\"http://www.w3.org/2000/svg\" height=\"24px\"viewBox=\"0 0 24 24\"\n",
              "     width=\"24px\">\n",
              "    <g>\n",
              "        <path d=\"M19 3H5c-1.1 0-2 .9-2 2v14c0 1.1.9 2 2 2h14c1.1 0 2-.9 2-2V5c0-1.1-.9-2-2-2zM9 17H7v-7h2v7zm4 0h-2V7h2v10zm4 0h-2v-4h2v4z\"/>\n",
              "    </g>\n",
              "</svg>\n",
              "  </button>\n",
              "\n",
              "<style>\n",
              "  .colab-df-quickchart {\n",
              "      --bg-color: #E8F0FE;\n",
              "      --fill-color: #1967D2;\n",
              "      --hover-bg-color: #E2EBFA;\n",
              "      --hover-fill-color: #174EA6;\n",
              "      --disabled-fill-color: #AAA;\n",
              "      --disabled-bg-color: #DDD;\n",
              "  }\n",
              "\n",
              "  [theme=dark] .colab-df-quickchart {\n",
              "      --bg-color: #3B4455;\n",
              "      --fill-color: #D2E3FC;\n",
              "      --hover-bg-color: #434B5C;\n",
              "      --hover-fill-color: #FFFFFF;\n",
              "      --disabled-bg-color: #3B4455;\n",
              "      --disabled-fill-color: #666;\n",
              "  }\n",
              "\n",
              "  .colab-df-quickchart {\n",
              "    background-color: var(--bg-color);\n",
              "    border: none;\n",
              "    border-radius: 50%;\n",
              "    cursor: pointer;\n",
              "    display: none;\n",
              "    fill: var(--fill-color);\n",
              "    height: 32px;\n",
              "    padding: 0;\n",
              "    width: 32px;\n",
              "  }\n",
              "\n",
              "  .colab-df-quickchart:hover {\n",
              "    background-color: var(--hover-bg-color);\n",
              "    box-shadow: 0 1px 2px rgba(60, 64, 67, 0.3), 0 1px 3px 1px rgba(60, 64, 67, 0.15);\n",
              "    fill: var(--button-hover-fill-color);\n",
              "  }\n",
              "\n",
              "  .colab-df-quickchart-complete:disabled,\n",
              "  .colab-df-quickchart-complete:disabled:hover {\n",
              "    background-color: var(--disabled-bg-color);\n",
              "    fill: var(--disabled-fill-color);\n",
              "    box-shadow: none;\n",
              "  }\n",
              "\n",
              "  .colab-df-spinner {\n",
              "    border: 2px solid var(--fill-color);\n",
              "    border-color: transparent;\n",
              "    border-bottom-color: var(--fill-color);\n",
              "    animation:\n",
              "      spin 1s steps(1) infinite;\n",
              "  }\n",
              "\n",
              "  @keyframes spin {\n",
              "    0% {\n",
              "      border-color: transparent;\n",
              "      border-bottom-color: var(--fill-color);\n",
              "      border-left-color: var(--fill-color);\n",
              "    }\n",
              "    20% {\n",
              "      border-color: transparent;\n",
              "      border-left-color: var(--fill-color);\n",
              "      border-top-color: var(--fill-color);\n",
              "    }\n",
              "    30% {\n",
              "      border-color: transparent;\n",
              "      border-left-color: var(--fill-color);\n",
              "      border-top-color: var(--fill-color);\n",
              "      border-right-color: var(--fill-color);\n",
              "    }\n",
              "    40% {\n",
              "      border-color: transparent;\n",
              "      border-right-color: var(--fill-color);\n",
              "      border-top-color: var(--fill-color);\n",
              "    }\n",
              "    60% {\n",
              "      border-color: transparent;\n",
              "      border-right-color: var(--fill-color);\n",
              "    }\n",
              "    80% {\n",
              "      border-color: transparent;\n",
              "      border-right-color: var(--fill-color);\n",
              "      border-bottom-color: var(--fill-color);\n",
              "    }\n",
              "    90% {\n",
              "      border-color: transparent;\n",
              "      border-bottom-color: var(--fill-color);\n",
              "    }\n",
              "  }\n",
              "</style>\n",
              "\n",
              "  <script>\n",
              "    async function quickchart(key) {\n",
              "      const quickchartButtonEl =\n",
              "        document.querySelector('#' + key + ' button');\n",
              "      quickchartButtonEl.disabled = true;  // To prevent multiple clicks.\n",
              "      quickchartButtonEl.classList.add('colab-df-spinner');\n",
              "      try {\n",
              "        const charts = await google.colab.kernel.invokeFunction(\n",
              "            'suggestCharts', [key], {});\n",
              "      } catch (error) {\n",
              "        console.error('Error during call to suggestCharts:', error);\n",
              "      }\n",
              "      quickchartButtonEl.classList.remove('colab-df-spinner');\n",
              "      quickchartButtonEl.classList.add('colab-df-quickchart-complete');\n",
              "    }\n",
              "    (() => {\n",
              "      let quickchartButtonEl =\n",
              "        document.querySelector('#df-78e3cd11-bd56-459d-a74a-e5c9e019634e button');\n",
              "      quickchartButtonEl.style.display =\n",
              "        google.colab.kernel.accessAllowed ? 'block' : 'none';\n",
              "    })();\n",
              "  </script>\n",
              "</div>\n",
              "    </div>\n",
              "  </div>\n"
            ]
          },
          "metadata": {},
          "execution_count": 163
        }
      ]
    },
    {
      "cell_type": "code",
      "source": [
        "df_pred_cos_all= modeling(cosSim_All_id,new_ratings_refined)"
      ],
      "metadata": {
        "colab": {
          "base_uri": "https://localhost:8080/",
          "height": 49,
          "referenced_widgets": [
            "e2590b30f73840c7bf41838cc3310d8b",
            "1569a6ae592640eeb2dfd74dca12cf04",
            "f16cb84e1b934194ae4eaae87027623e",
            "187569daef19415faa29b430c285045d",
            "80582c778f9e4433a779bf85277a88fc",
            "fc4f4773040a4d6588388f57a67b46fd",
            "cca6c2285c614c79abaf35fe249090d1",
            "03a510e6e70043a791107858ec318790",
            "e8f11a24cee445d3a1e85a407b3af89c",
            "ca32bc206c7e451dbf9064effbe2bbfb",
            "c2246caaa3e3483eb4094cc9f04dcc6e"
          ]
        },
        "id": "_UiGNT7N2m2v",
        "outputId": "9940fb50-a2f3-4482-b683-9c105978f109"
      },
      "execution_count": 164,
      "outputs": [
        {
          "output_type": "display_data",
          "data": {
            "text/plain": [
              "  0%|          | 0/609 [00:00<?, ?it/s]"
            ],
            "application/vnd.jupyter.widget-view+json": {
              "version_major": 2,
              "version_minor": 0,
              "model_id": "e2590b30f73840c7bf41838cc3310d8b"
            }
          },
          "metadata": {}
        }
      ]
    },
    {
      "cell_type": "markdown",
      "source": [
        "####스토리"
      ],
      "metadata": {
        "id": "QZfR3REc4sI8"
      }
    },
    {
      "cell_type": "code",
      "source": [
        "df_pred_cos_story=modeling(cosSim_Story_id,new_ratings_refined)"
      ],
      "metadata": {
        "colab": {
          "base_uri": "https://localhost:8080/",
          "height": 49,
          "referenced_widgets": [
            "91d22fcb7b184050b8a23803d7bdba57",
            "07bc092537e8409f82cc6ec97241d653",
            "b0d883192f774c59ac7d3a361f18d822",
            "38130621b92640d6896e2cbd34052021",
            "fc0e63a1fd874b9c8aef56162f5d581f",
            "a94a2707257645de910c8ff8d39d6c8c",
            "e240bda5be2f4e21abea872c4a5a7249",
            "ddb36dea3d4e4bb9b212b92b8a192bfd",
            "ffd2867ff3e4487cb8435dcd52d4c678",
            "2c9ce867884643f5bbaf028b9452db5c",
            "07d6aab1f1b84cfd954e6c4f2ae174e6"
          ]
        },
        "id": "gqUs722938VI",
        "outputId": "7fa9937c-70fc-41b1-db81-5d54ca735b7f"
      },
      "execution_count": 165,
      "outputs": [
        {
          "output_type": "display_data",
          "data": {
            "text/plain": [
              "  0%|          | 0/609 [00:00<?, ?it/s]"
            ],
            "application/vnd.jupyter.widget-view+json": {
              "version_major": 2,
              "version_minor": 0,
              "model_id": "91d22fcb7b184050b8a23803d7bdba57"
            }
          },
          "metadata": {}
        }
      ]
    },
    {
      "cell_type": "markdown",
      "source": [
        "####장르"
      ],
      "metadata": {
        "id": "iqsUBnT74t75"
      }
    },
    {
      "cell_type": "code",
      "source": [
        "df_pred_cos_genre=modeling(cosSim_Genres_id,new_ratings_refined)"
      ],
      "metadata": {
        "colab": {
          "base_uri": "https://localhost:8080/",
          "height": 49,
          "referenced_widgets": [
            "ea47379a806448898243cab6ab03c701",
            "54268d8560cf448982ac9d46fc987858",
            "29d7b7bddf1a48bbbf7d475459bfe47f",
            "b77c1ba15b544d1c95a35619b2eef920",
            "37d13e0b90274403a91d548a579046d7",
            "42489aa3c850463eb21fb0578da54669",
            "c804e96727394ee5b3c59e4f1a9b78c2",
            "a9926a4687574de8bc4221d8034e0996",
            "f006932a75a84e79abc606ec50fee0e8",
            "9ddd1dab3cde453a90e00b9f42336bf5",
            "5d45f4f23dea466aa2c0884168a5f969"
          ]
        },
        "id": "_0eer6en4BF8",
        "outputId": "3a5121b0-75bb-40a8-e40d-392426e5d9b6"
      },
      "execution_count": 166,
      "outputs": [
        {
          "output_type": "display_data",
          "data": {
            "text/plain": [
              "  0%|          | 0/609 [00:00<?, ?it/s]"
            ],
            "application/vnd.jupyter.widget-view+json": {
              "version_major": 2,
              "version_minor": 0,
              "model_id": "ea47379a806448898243cab6ab03c701"
            }
          },
          "metadata": {}
        }
      ]
    },
    {
      "cell_type": "markdown",
      "source": [
        "####타이틀"
      ],
      "metadata": {
        "id": "Unh_cP4H4v9E"
      }
    },
    {
      "cell_type": "code",
      "source": [
        "df_pred_cos_title=modeling(cosSim_Title_id,new_ratings_refined)"
      ],
      "metadata": {
        "colab": {
          "base_uri": "https://localhost:8080/",
          "height": 49,
          "referenced_widgets": [
            "77dbf8af1d594846906bb5f6bc692a04",
            "9f58fa1b8027414c99ad9462dc0b8c58",
            "254673075e6842dfb2d22fc0b1d159fe",
            "8982e2736b3f4cd4a9cfa2976d9aa9fc",
            "532ada0e5a36477e86b9198228e8c9cf",
            "a5c749d649c0441ab286a4c11e855b40",
            "134a5b84269a41088fea4c9aea1f4557",
            "c1ea8f7150764cf29e4a52ded2d05e56",
            "274291532cdc4eb3aa5965b1e41a2c88",
            "15ecad381f254d5ba70d4fa0942a550b",
            "8194aed0e27d4142bffe20a33f04fa3c"
          ]
        },
        "id": "z19lj0zI4Bko",
        "outputId": "571316f4-3604-4431-9e09-db580e79bcf5"
      },
      "execution_count": 167,
      "outputs": [
        {
          "output_type": "display_data",
          "data": {
            "text/plain": [
              "  0%|          | 0/609 [00:00<?, ?it/s]"
            ],
            "application/vnd.jupyter.widget-view+json": {
              "version_major": 2,
              "version_minor": 0,
              "model_id": "77dbf8af1d594846906bb5f6bc692a04"
            }
          },
          "metadata": {}
        }
      ]
    },
    {
      "cell_type": "markdown",
      "source": [
        "####태그"
      ],
      "metadata": {
        "id": "yreMn61t43I-"
      }
    },
    {
      "cell_type": "code",
      "source": [
        "df_pred_cos_tag=modeling(cosSim_Tag_id,new_ratings_refined)"
      ],
      "metadata": {
        "colab": {
          "base_uri": "https://localhost:8080/",
          "height": 49,
          "referenced_widgets": [
            "f8683d13f2974c3d84b853436417e242",
            "b90c8240c0c547849138d46c9f364f3a",
            "6195969f37994aeda3fbacebae613902",
            "cc98e38ee14847b1ae356438bdc100f0",
            "b9b8dbb2c6404ea286135d1ef5403a4c",
            "25a4235f5d4645b7ba4be9a544c4d043",
            "f178e505d17e4bf0a3fb2273ef7a8df5",
            "c649f34a802a456194e6711487f6ad9f",
            "c0e3e25ca43b4216bf3c9f7b64ff8fdb",
            "500d6b64a1d44dda8a7bcf33fed3ca81",
            "620687e26da2475ca072d34069f1c869"
          ]
        },
        "id": "fucVLpG44B6E",
        "outputId": "7d3ff89f-8af8-4502-ec8a-f9ec68e43e39"
      },
      "execution_count": 168,
      "outputs": [
        {
          "output_type": "display_data",
          "data": {
            "text/plain": [
              "  0%|          | 0/609 [00:00<?, ?it/s]"
            ],
            "application/vnd.jupyter.widget-view+json": {
              "version_major": 2,
              "version_minor": 0,
              "model_id": "f8683d13f2974c3d84b853436417e242"
            }
          },
          "metadata": {}
        }
      ]
    },
    {
      "cell_type": "markdown",
      "source": [
        "####스토리 * 장르"
      ],
      "metadata": {
        "id": "rOrL7hpn76YA"
      }
    },
    {
      "cell_type": "markdown",
      "source": [
        "####스토리 * 타이틀"
      ],
      "metadata": {
        "id": "WpEjIH148DDd"
      }
    },
    {
      "cell_type": "markdown",
      "source": [
        "####스토리 * 태그"
      ],
      "metadata": {
        "id": "TngNv2Oi8DN3"
      }
    },
    {
      "cell_type": "markdown",
      "source": [
        "####장르 * 타이틀"
      ],
      "metadata": {
        "id": "74o21L1M8F0o"
      }
    },
    {
      "cell_type": "markdown",
      "source": [
        "####장르 * 태그"
      ],
      "metadata": {
        "id": "GFAbsuiM8Gcu"
      }
    },
    {
      "cell_type": "markdown",
      "source": [
        "####타이틀 * 태그"
      ],
      "metadata": {
        "id": "2qhxj6VK8TPb"
      }
    },
    {
      "cell_type": "markdown",
      "source": [
        "####스토리 * 타이틀 * 장르 * 태그"
      ],
      "metadata": {
        "id": "c5sG5jWkAcqc"
      }
    },
    {
      "cell_type": "markdown",
      "source": [
        "###유클리디안 기반"
      ],
      "metadata": {
        "id": "jXhfIzeS6u87"
      }
    },
    {
      "cell_type": "markdown",
      "source": [
        "####All"
      ],
      "metadata": {
        "id": "xYsUvxDC6xV6"
      }
    },
    {
      "cell_type": "code",
      "source": [
        "df_pred_euc_all=modeling(EucSim_All_id,new_ratings_refined)"
      ],
      "metadata": {
        "colab": {
          "base_uri": "https://localhost:8080/",
          "height": 49,
          "referenced_widgets": [
            "498604f89314432d80b519228c322147",
            "07a3006a5e3c4ca58668783f9f690f4e",
            "edfd0eb5b97043ec9c9142912717431b",
            "2ceb702ece1a45c8988626056ff4f220",
            "fc69f42cb5a148c4aa03d8991daed469",
            "0efbcc5e2b594653aebd8a6b68804604",
            "0b8ea695c76e4a77b7e3c20f6c8d2e12",
            "578ae637f7e547c980fc69d5b98d3c13",
            "e8eafb14e8314e7da1c4597a9469efee",
            "66fb14b18b8d4540925c9955506ab940",
            "bc300401e3fb4ec9b8a3b103eecf62b8"
          ]
        },
        "id": "g_sSCyTk6K5e",
        "outputId": "94272003-f2a8-4b9d-ffbd-234691daee5e"
      },
      "execution_count": 169,
      "outputs": [
        {
          "output_type": "display_data",
          "data": {
            "text/plain": [
              "  0%|          | 0/609 [00:00<?, ?it/s]"
            ],
            "application/vnd.jupyter.widget-view+json": {
              "version_major": 2,
              "version_minor": 0,
              "model_id": "498604f89314432d80b519228c322147"
            }
          },
          "metadata": {}
        }
      ]
    },
    {
      "cell_type": "markdown",
      "source": [
        "####스토리"
      ],
      "metadata": {
        "id": "bkuN7obM6ztE"
      }
    },
    {
      "cell_type": "code",
      "source": [
        "df_pred_euc_story=modeling(EucSim_Story_id,new_ratings_refined)"
      ],
      "metadata": {
        "colab": {
          "base_uri": "https://localhost:8080/",
          "height": 49,
          "referenced_widgets": [
            "6471fce1a5834acfb26c1bfd97e997aa",
            "faea0349eb3646a08b27649170f3482e",
            "d9d6769c3eb74ca382af124d6849197e",
            "56953e0d57e94f139163efc1f79f59f0",
            "0f980266e8e74a45b8c7610e5a2bb8e8",
            "030fac3309554fcf862bf74c8cb500ea",
            "f79e659d8b994677b0d36f3aad97a2c0",
            "1b3c986e95024077a4948948a537943b",
            "ee8a4ce15f1747a2aa19e46d7c81f863",
            "6cdfec93ac564b1fa151eb48bdcb40aa",
            "13760a3680f24cf399d6c50f0fd73bfb"
          ]
        },
        "id": "D_5XVwrW6LXZ",
        "outputId": "9442d3d6-444f-4182-abef-5cde2b1140b8"
      },
      "execution_count": 170,
      "outputs": [
        {
          "output_type": "display_data",
          "data": {
            "text/plain": [
              "  0%|          | 0/609 [00:00<?, ?it/s]"
            ],
            "application/vnd.jupyter.widget-view+json": {
              "version_major": 2,
              "version_minor": 0,
              "model_id": "6471fce1a5834acfb26c1bfd97e997aa"
            }
          },
          "metadata": {}
        }
      ]
    },
    {
      "cell_type": "markdown",
      "source": [
        "####장르"
      ],
      "metadata": {
        "id": "c4Aupp4r62Ob"
      }
    },
    {
      "cell_type": "code",
      "source": [
        "df_pred_euc_genere=modeling(EucSim_Genres_id,new_ratings_refined)"
      ],
      "metadata": {
        "colab": {
          "base_uri": "https://localhost:8080/",
          "height": 49,
          "referenced_widgets": [
            "e7745b7331c54f9d9969eb4052778d72",
            "443218648882458db895d60cf8125649",
            "85e12c135f2c4743a7d9aca795c0f59d",
            "8c99d634ffa94439a37dfab6f6dd6ffb",
            "1b2b9b69dc79483bb70fc95de820aa4d",
            "90a51f90a6ed45b096714f2844d6a10b",
            "25ab46535bef4b80aae935ac5276464c",
            "e8f367e837a941dea82106485f402e46",
            "c954e8be647542bf83c51a343e4593d3",
            "bb7550e70a0841c5840f7d1298af4c89",
            "21ee37f9140640b5bd0f41783026e6fb"
          ]
        },
        "id": "hwlqEoCr6L5n",
        "outputId": "ebc3e8e8-2f49-4979-dbc3-c479f54787f2"
      },
      "execution_count": 171,
      "outputs": [
        {
          "output_type": "display_data",
          "data": {
            "text/plain": [
              "  0%|          | 0/609 [00:00<?, ?it/s]"
            ],
            "application/vnd.jupyter.widget-view+json": {
              "version_major": 2,
              "version_minor": 0,
              "model_id": "e7745b7331c54f9d9969eb4052778d72"
            }
          },
          "metadata": {}
        }
      ]
    },
    {
      "cell_type": "markdown",
      "source": [
        "####타이틀"
      ],
      "metadata": {
        "id": "SpcVykqh633f"
      }
    },
    {
      "cell_type": "code",
      "source": [
        "df_pred_euc_title=modeling(EucSim_Title_id,new_ratings_refined)"
      ],
      "metadata": {
        "colab": {
          "base_uri": "https://localhost:8080/",
          "height": 49,
          "referenced_widgets": [
            "1a36132a0d9d4d3aaaa09eb850fc0c65",
            "b5a51156dee047c181bffd527861490b",
            "d877a987670e42608585fd9e74cc758e",
            "0edbe93356ae4bd380a1515c17789262",
            "343ddcd0f42e429cbad92ed448663783",
            "d0a8ab87f3054f4b819e8d779d2ce418",
            "d9c983528d8e43f3904cb256e11cb3c5",
            "b700f2e6947a41c5aaa9ae587f31b9db",
            "03e281fe20284be8a8d274838fd0ea91",
            "8407441d202e44dcbdacb4888b104c05",
            "d19c45b5892c4eaf8d9bec764f23aed5"
          ]
        },
        "id": "4pfLlh356MHE",
        "outputId": "6b23bd2b-a96a-4995-bc81-efac11daeadc"
      },
      "execution_count": 172,
      "outputs": [
        {
          "output_type": "display_data",
          "data": {
            "text/plain": [
              "  0%|          | 0/609 [00:00<?, ?it/s]"
            ],
            "application/vnd.jupyter.widget-view+json": {
              "version_major": 2,
              "version_minor": 0,
              "model_id": "1a36132a0d9d4d3aaaa09eb850fc0c65"
            }
          },
          "metadata": {}
        }
      ]
    },
    {
      "cell_type": "markdown",
      "source": [
        "####태그"
      ],
      "metadata": {
        "id": "PyTy4oY566La"
      }
    },
    {
      "cell_type": "code",
      "source": [
        "df_pred_euc_tag=modeling(EucSim_Tag_id,new_ratings_refined)"
      ],
      "metadata": {
        "colab": {
          "base_uri": "https://localhost:8080/",
          "height": 49,
          "referenced_widgets": [
            "1137f851cf3f4761a46288de839540f7",
            "44d9bfc2ba5a42bb8d16f3f3ee2c59ff",
            "f91d27fe034440d5accb57991abc7318",
            "309cf2f528cc45e38589adea589e851e",
            "68687bbaade7472da0f45c5856853767",
            "91efdd62c7c842198b8655f64efd0337",
            "01e15604c1154c78a4bc21f6fa7b9dce",
            "4dcdf1b47dd44e0ea3fa1713e03b3156",
            "0123eac56cfa4879ad5a259893c4dfb4",
            "b4e496eb50674d94b122cdf4c3583b03",
            "3ceb6e0a053949df9746da5a611023b3"
          ]
        },
        "id": "HkahObpI6MSh",
        "outputId": "e7d059b2-6c30-470a-dffb-dffddd363b58"
      },
      "execution_count": 173,
      "outputs": [
        {
          "output_type": "display_data",
          "data": {
            "text/plain": [
              "  0%|          | 0/609 [00:00<?, ?it/s]"
            ],
            "application/vnd.jupyter.widget-view+json": {
              "version_major": 2,
              "version_minor": 0,
              "model_id": "1137f851cf3f4761a46288de839540f7"
            }
          },
          "metadata": {}
        }
      ]
    },
    {
      "cell_type": "markdown",
      "source": [
        "##추천"
      ],
      "metadata": {
        "id": "RPNvthjr7Cxt"
      }
    },
    {
      "cell_type": "markdown",
      "source": [
        "###코사인 기반"
      ],
      "metadata": {
        "id": "ZgRK7j2pFTqZ"
      }
    },
    {
      "cell_type": "markdown",
      "source": [
        "####All"
      ],
      "metadata": {
        "id": "aobfOyPTEmIA"
      }
    },
    {
      "cell_type": "code",
      "source": [
        "# 사용자가 안본 영화 중 예측 평점 높은 10개 추천\n",
        "def get_recomendation_cos_all(user_id):\n",
        "    user_mov = new_ratings_refined[new_ratings_refined['userId'] == user_id]\n",
        "    user_mov_pred = df_pred_cos_all[df_pred_cos_all['userId'] == user_id]\n",
        "    user_mov = pd.merge(user_mov, user_mov_pred, on=['userId', 'title'], how='right')\n",
        "\n",
        "    # 사용자가 아직 안 본 영화\n",
        "    movie_candidate = user_mov[user_mov['movieId'].isnull()]\n",
        "    movie_candidate = movie_candidate.sort_values(by='pred_rating', ascending=False)[:10]\n",
        "\n",
        "    return movie_candidate['title'].tolist()"
      ],
      "metadata": {
        "id": "idmoCn4WENUi"
      },
      "execution_count": 174,
      "outputs": []
    },
    {
      "cell_type": "markdown",
      "source": [
        "####스토리"
      ],
      "metadata": {
        "id": "TaTfFsy_EmIH"
      }
    },
    {
      "cell_type": "code",
      "source": [
        "# 사용자가 안본 영화 중 예측 평점 높은 10개 추천\n",
        "def get_recomendation_cos_story(user_id):\n",
        "    user_mov = new_ratings_refined[new_ratings_refined['userId'] == user_id]\n",
        "    user_mov_pred = df_pred_cos_story[df_pred_cos_story['userId'] == user_id]\n",
        "    user_mov = pd.merge(user_mov, user_mov_pred, on=['userId', 'title'], how='right')\n",
        "\n",
        "    # 사용자가 아직 안 본 영화\n",
        "    movie_candidate = user_mov[user_mov['movieId'].isnull()]\n",
        "    movie_candidate = movie_candidate.sort_values(by='pred_rating', ascending=False)[:10]\n",
        "\n",
        "    return movie_candidate['title'].tolist()"
      ],
      "metadata": {
        "id": "Z27eKLFtEp3s"
      },
      "execution_count": 175,
      "outputs": []
    },
    {
      "cell_type": "markdown",
      "source": [
        "####장르"
      ],
      "metadata": {
        "id": "3MF1ABY8EmIH"
      }
    },
    {
      "cell_type": "code",
      "source": [
        "# 사용자가 안본 영화 중 예측 평점 높은 10개 추천\n",
        "def get_recomendation_cos_genre(user_id):\n",
        "    user_mov = new_ratings_refined[new_ratings_refined['userId'] == user_id]\n",
        "    user_mov_pred = df_pred_cos_genre[df_pred_cos_genre['userId'] == user_id]\n",
        "    user_mov = pd.merge(user_mov, user_mov_pred, on=['userId', 'title'], how='right')\n",
        "\n",
        "    # 사용자가 아직 안 본 영화\n",
        "    movie_candidate = user_mov[user_mov['movieId'].isnull()]\n",
        "    movie_candidate = movie_candidate.sort_values(by='pred_rating', ascending=False)[:10]\n",
        "\n",
        "    return movie_candidate['title'].tolist()"
      ],
      "metadata": {
        "id": "dH1XN3D5EqPg"
      },
      "execution_count": 176,
      "outputs": []
    },
    {
      "cell_type": "markdown",
      "source": [
        "####타이틀"
      ],
      "metadata": {
        "id": "g-TldkmkEmIH"
      }
    },
    {
      "cell_type": "code",
      "source": [
        "# 사용자가 안본 영화 중 예측 평점 높은 10개 추천\n",
        "def get_recomendation_cos_title(user_id):\n",
        "    user_mov = new_ratings_refined[new_ratings_refined['userId'] == user_id]\n",
        "    user_mov_pred = df_pred_cos_title[df_pred_cos_title['userId'] == user_id]\n",
        "    user_mov = pd.merge(user_mov, user_mov_pred, on=['userId', 'title'], how='right')\n",
        "\n",
        "    # 사용자가 아직 안 본 영화\n",
        "    movie_candidate = user_mov[user_mov['movieId'].isnull()]\n",
        "    movie_candidate = movie_candidate.sort_values(by='pred_rating', ascending=False)[:10]\n",
        "\n",
        "    return movie_candidate['title'].tolist()"
      ],
      "metadata": {
        "id": "rmBw8WnyEqoQ"
      },
      "execution_count": 177,
      "outputs": []
    },
    {
      "cell_type": "markdown",
      "source": [
        "####태그"
      ],
      "metadata": {
        "id": "_G58pF40EmIH"
      }
    },
    {
      "cell_type": "code",
      "source": [
        "# 사용자가 안본 영화 중 예측 평점 높은 10개 추천\n",
        "def get_recomendation_cos_tag(user_id):\n",
        "    user_mov = new_ratings_refined[new_ratings_refined['userId'] == user_id]\n",
        "    user_mov_pred = df_pred_cos_tag[df_pred_cos_tag['userId'] == user_id]\n",
        "    user_mov = pd.merge(user_mov, user_mov_pred, on=['userId', 'title'], how='right')\n",
        "\n",
        "    # 사용자가 아직 안 본 영화\n",
        "    movie_candidate = user_mov[user_mov['movieId'].isnull()]\n",
        "    movie_candidate = movie_candidate.sort_values(by='pred_rating', ascending=False)[:10]\n",
        "\n",
        "    return movie_candidate['title'].tolist()"
      ],
      "metadata": {
        "id": "E_OC5XhJEq-k"
      },
      "execution_count": 178,
      "outputs": []
    },
    {
      "cell_type": "markdown",
      "source": [
        "###유클리디안 기반"
      ],
      "metadata": {
        "id": "FHxx3XqKFWln"
      }
    },
    {
      "cell_type": "markdown",
      "source": [
        "####All"
      ],
      "metadata": {
        "id": "35fQrLKiFdRK"
      }
    },
    {
      "cell_type": "code",
      "source": [
        "# 사용자가 안본 영화 중 예측 평점 높은 10개 추천\n",
        "def get_recomendation_euc_all(user_id):\n",
        "    user_mov = new_ratings_refined[new_ratings_refined['userId'] == user_id]\n",
        "    user_mov_pred = df_pred_euc_all[df_pred_euc_all['userId'] == user_id]\n",
        "    user_mov = pd.merge(user_mov, user_mov_pred, on=['userId', 'title'], how='right')\n",
        "\n",
        "    # 사용자가 아직 안 본 영화\n",
        "    movie_candidate = user_mov[user_mov['movieId'].isnull()]\n",
        "    movie_candidate = movie_candidate.sort_values(by='pred_rating', ascending=False)[:10]\n",
        "\n",
        "    return movie_candidate['title'].tolist()"
      ],
      "metadata": {
        "id": "31RtjXdmFdRL"
      },
      "execution_count": 179,
      "outputs": []
    },
    {
      "cell_type": "markdown",
      "source": [
        "####스토리"
      ],
      "metadata": {
        "id": "zTJoHVW9FdRL"
      }
    },
    {
      "cell_type": "code",
      "source": [
        "# 사용자가 안본 영화 중 예측 평점 높은 10개 추천\n",
        "def get_recomendation_euc_story(user_id):\n",
        "    user_mov = new_ratings_refined[new_ratings_refined['userId'] == user_id]\n",
        "    user_mov_pred = df_pred_euc_story[df_pred_euc_story['userId'] == user_id]\n",
        "    user_mov = pd.merge(user_mov, user_mov_pred, on=['userId', 'title'], how='right')\n",
        "\n",
        "    # 사용자가 아직 안 본 영화\n",
        "    movie_candidate = user_mov[user_mov['movieId'].isnull()]\n",
        "    movie_candidate = movie_candidate.sort_values(by='pred_rating', ascending=False)[:10]\n",
        "\n",
        "    return movie_candidate['title'].tolist()"
      ],
      "metadata": {
        "id": "EvFYz-8VFdRL"
      },
      "execution_count": 180,
      "outputs": []
    },
    {
      "cell_type": "markdown",
      "source": [
        "####장르"
      ],
      "metadata": {
        "id": "ejJl-LyLFdRL"
      }
    },
    {
      "cell_type": "code",
      "source": [
        "# 사용자가 안본 영화 중 예측 평점 높은 10개 추천\n",
        "def get_recomendation_euc_genre(user_id):\n",
        "    user_mov = new_ratings_refined[new_ratings_refined['userId'] == user_id]\n",
        "    user_mov_pred = df_pred_euc_genre[df_pred_euc_genre['userId'] == user_id]\n",
        "    user_mov = pd.merge(user_mov, user_mov_pred, on=['userId', 'title'], how='right')\n",
        "\n",
        "    # 사용자가 아직 안 본 영화\n",
        "    movie_candidate = user_mov[user_mov['movieId'].isnull()]\n",
        "    movie_candidate = movie_candidate.sort_values(by='pred_rating', ascending=False)[:10]\n",
        "\n",
        "    return movie_candidate['title'].tolist()"
      ],
      "metadata": {
        "id": "x2DXl4xxFdRL"
      },
      "execution_count": 181,
      "outputs": []
    },
    {
      "cell_type": "markdown",
      "source": [
        "####타이틀"
      ],
      "metadata": {
        "id": "OJB8A7qIFdRL"
      }
    },
    {
      "cell_type": "code",
      "source": [
        "# 사용자가 안본 영화 중 예측 평점 높은 10개 추천\n",
        "def get_recomendation_euc_title(user_id):\n",
        "    user_mov = new_ratings_refined[new_ratings_refined['userId'] == user_id]\n",
        "    user_mov_pred = df_pred_euc_title[df_pred_euc_title['userId'] == user_id]\n",
        "    user_mov = pd.merge(user_mov, user_mov_pred, on=['userId', 'title'], how='right')\n",
        "\n",
        "    # 사용자가 아직 안 본 영화\n",
        "    movie_candidate = user_mov[user_mov['movieId'].isnull()]\n",
        "    movie_candidate = movie_candidate.sort_values(by='pred_rating', ascending=False)[:10]\n",
        "\n",
        "    return movie_candidate['title'].tolist()"
      ],
      "metadata": {
        "id": "dS8HQ6YGFdRL"
      },
      "execution_count": 182,
      "outputs": []
    },
    {
      "cell_type": "markdown",
      "source": [
        "####태그"
      ],
      "metadata": {
        "id": "3e4G_qj_FdRL"
      }
    },
    {
      "cell_type": "code",
      "source": [
        "# 사용자가 안본 영화 중 예측 평점 높은 10개 추천\n",
        "def get_recomendation_euc_tag(user_id):\n",
        "    user_mov = new_ratings_refined[new_ratings_refined['userId'] == user_id]\n",
        "    user_mov_pred = df_pred_euc_tag[df_pred_euc_tag['userId'] == user_id]\n",
        "    user_mov = pd.merge(user_mov, user_mov_pred, on=['userId', 'title'], how='right')\n",
        "\n",
        "    # 사용자가 아직 안 본 영화\n",
        "    movie_candidate = user_mov[user_mov['movieId'].isnull()]\n",
        "    movie_candidate = movie_candidate.sort_values(by='pred_rating', ascending=False)[:10]\n",
        "\n",
        "    return movie_candidate['title'].tolist()"
      ],
      "metadata": {
        "id": "7YGFs-QoFdRM"
      },
      "execution_count": 183,
      "outputs": []
    }
  ]
}