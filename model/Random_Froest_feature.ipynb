{
  "cells": [
    {
      "cell_type": "code",
      "source": [
        "import os\n",
        "from google.colab import drive\n",
        "drive.mount('/content/gdrive')\n",
        "\n",
        "path = \"gdrive/MyDrive/추천시스템/teamproject/data/\"\n",
        "os.listdir(path)"
      ],
      "metadata": {
        "colab": {
          "base_uri": "https://localhost:8080/"
        },
        "id": "N0a0Gf_whvya",
        "outputId": "492ec850-79cf-430d-d3ab-21442bccf86c"
      },
      "id": "N0a0Gf_whvya",
      "execution_count": null,
      "outputs": [
        {
          "output_type": "stream",
          "name": "stdout",
          "text": [
            "Drive already mounted at /content/gdrive; to attempt to forcibly remount, call drive.mount(\"/content/gdrive\", force_remount=True).\n"
          ]
        },
        {
          "output_type": "execute_result",
          "data": {
            "text/plain": [
              "['links.csv',\n",
              " 'tags.csv',\n",
              " 'movies.csv',\n",
              " 'ratings.csv',\n",
              " 'movies_crawling_sample.csv',\n",
              " '1207 sample_data_FI.csv',\n",
              " '1207 sample_data_pp.csv',\n",
              " 'ratings_refined.csv']"
            ]
          },
          "metadata": {},
          "execution_count": 132
        }
      ]
    },
    {
      "cell_type": "code",
      "execution_count": null,
      "id": "801976e0",
      "metadata": {
        "colab": {
          "base_uri": "https://localhost:8080/"
        },
        "id": "801976e0",
        "outputId": "b3316c87-01b3-4882-b577-d4e4c2372734"
      },
      "outputs": [
        {
          "output_type": "stream",
          "name": "stdout",
          "text": [
            "Requirement already satisfied: pyspark in /usr/local/lib/python3.10/dist-packages (3.5.0)\n",
            "Requirement already satisfied: py4j==0.10.9.7 in /usr/local/lib/python3.10/dist-packages (from pyspark) (0.10.9.7)\n"
          ]
        }
      ],
      "source": [
        "!pip install pyspark\n",
        "!apt-get install openjdk-8-jdk-headless -qq"
      ]
    },
    {
      "cell_type": "markdown",
      "source": [
        "## 라이브러리"
      ],
      "metadata": {
        "id": "sF1Xt3M0mmPu"
      },
      "id": "sF1Xt3M0mmPu"
    },
    {
      "cell_type": "code",
      "execution_count": null,
      "id": "8de4ecb2",
      "metadata": {
        "id": "8de4ecb2"
      },
      "outputs": [],
      "source": [
        "import pyspark\n",
        "import numpy as np\n",
        "import pandas as pd\n",
        "import os\n",
        "\n",
        "from pyspark.context import SparkContext\n",
        "from pyspark.ml import Pipeline\n",
        "from pyspark.sql import SparkSession\n",
        "from pyspark.sql.functions import lit, col\n",
        "from pyspark.sql import functions as F\n",
        "from pyspark.ml.classification import RandomForestClassifier\n"
      ]
    },
    {
      "cell_type": "code",
      "execution_count": null,
      "id": "f34bd181",
      "metadata": {
        "id": "f34bd181",
        "colab": {
          "base_uri": "https://localhost:8080/",
          "height": 245
        },
        "outputId": "8b18a729-c040-42fc-e87a-adba68be86f5"
      },
      "outputs": [
        {
          "output_type": "error",
          "ename": "ValueError",
          "evalue": "ignored",
          "traceback": [
            "\u001b[0;31m---------------------------------------------------------------------------\u001b[0m",
            "\u001b[0;31mValueError\u001b[0m                                Traceback (most recent call last)",
            "\u001b[0;32m<ipython-input-135-a9c8b616102a>\u001b[0m in \u001b[0;36m<cell line: 1>\u001b[0;34m()\u001b[0m\n\u001b[0;32m----> 1\u001b[0;31m \u001b[0msc\u001b[0m \u001b[0;34m=\u001b[0m \u001b[0mpyspark\u001b[0m\u001b[0;34m.\u001b[0m\u001b[0mSparkContext\u001b[0m\u001b[0;34m(\u001b[0m\u001b[0;34m)\u001b[0m\u001b[0;34m\u001b[0m\u001b[0;34m\u001b[0m\u001b[0m\n\u001b[0m\u001b[1;32m      2\u001b[0m \u001b[0mspark\u001b[0m \u001b[0;34m=\u001b[0m \u001b[0mSparkSession\u001b[0m\u001b[0;34m.\u001b[0m\u001b[0mbuilder\u001b[0m\u001b[0;34m.\u001b[0m\u001b[0mgetOrCreate\u001b[0m\u001b[0;34m(\u001b[0m\u001b[0;34m)\u001b[0m\u001b[0;34m\u001b[0m\u001b[0;34m\u001b[0m\u001b[0m\n",
            "\u001b[0;32m/usr/local/lib/python3.10/dist-packages/pyspark/context.py\u001b[0m in \u001b[0;36m__init__\u001b[0;34m(self, master, appName, sparkHome, pyFiles, environment, batchSize, serializer, conf, gateway, jsc, profiler_cls, udf_profiler_cls, memory_profiler_cls)\u001b[0m\n\u001b[1;32m    199\u001b[0m             )\n\u001b[1;32m    200\u001b[0m \u001b[0;34m\u001b[0m\u001b[0m\n\u001b[0;32m--> 201\u001b[0;31m         \u001b[0mSparkContext\u001b[0m\u001b[0;34m.\u001b[0m\u001b[0m_ensure_initialized\u001b[0m\u001b[0;34m(\u001b[0m\u001b[0mself\u001b[0m\u001b[0;34m,\u001b[0m \u001b[0mgateway\u001b[0m\u001b[0;34m=\u001b[0m\u001b[0mgateway\u001b[0m\u001b[0;34m,\u001b[0m \u001b[0mconf\u001b[0m\u001b[0;34m=\u001b[0m\u001b[0mconf\u001b[0m\u001b[0;34m)\u001b[0m\u001b[0;34m\u001b[0m\u001b[0;34m\u001b[0m\u001b[0m\n\u001b[0m\u001b[1;32m    202\u001b[0m         \u001b[0;32mtry\u001b[0m\u001b[0;34m:\u001b[0m\u001b[0;34m\u001b[0m\u001b[0;34m\u001b[0m\u001b[0m\n\u001b[1;32m    203\u001b[0m             self._do_init(\n",
            "\u001b[0;32m/usr/local/lib/python3.10/dist-packages/pyspark/context.py\u001b[0m in \u001b[0;36m_ensure_initialized\u001b[0;34m(cls, instance, gateway, conf)\u001b[0m\n\u001b[1;32m    447\u001b[0m \u001b[0;34m\u001b[0m\u001b[0m\n\u001b[1;32m    448\u001b[0m                     \u001b[0;31m# Raise error if there is already a running Spark context\u001b[0m\u001b[0;34m\u001b[0m\u001b[0;34m\u001b[0m\u001b[0m\n\u001b[0;32m--> 449\u001b[0;31m                     raise ValueError(\n\u001b[0m\u001b[1;32m    450\u001b[0m                         \u001b[0;34m\"Cannot run multiple SparkContexts at once; \"\u001b[0m\u001b[0;34m\u001b[0m\u001b[0;34m\u001b[0m\u001b[0m\n\u001b[1;32m    451\u001b[0m                         \u001b[0;34m\"existing SparkContext(app=%s, master=%s)\"\u001b[0m\u001b[0;34m\u001b[0m\u001b[0;34m\u001b[0m\u001b[0m\n",
            "\u001b[0;31mValueError\u001b[0m: Cannot run multiple SparkContexts at once; existing SparkContext(app=pyspark-shell, master=local[*]) created by __init__ at <ipython-input-5-a9c8b616102a>:1 "
          ]
        }
      ],
      "source": [
        "sc = pyspark.SparkContext()\n",
        "spark = SparkSession.builder.getOrCreate()"
      ]
    },
    {
      "cell_type": "markdown",
      "source": [
        "## 데이터"
      ],
      "metadata": {
        "id": "lzMRk370mp37"
      },
      "id": "lzMRk370mp37"
    },
    {
      "cell_type": "code",
      "source": [
        "movies = pd.read_csv(path + \"1207 sample_data_FI.csv\")"
      ],
      "metadata": {
        "id": "Ys2tQ_yRlnok"
      },
      "id": "Ys2tQ_yRlnok",
      "execution_count": null,
      "outputs": []
    },
    {
      "cell_type": "code",
      "source": [
        "ratings = pd.read_csv(path + \"ratings_refined.csv\", usecols=['userId', 'movieId', 'rating'])"
      ],
      "metadata": {
        "id": "5OTelH55l3Zp"
      },
      "id": "5OTelH55l3Zp",
      "execution_count": null,
      "outputs": []
    },
    {
      "cell_type": "code",
      "source": [
        "df = pd.merge(ratings, movies, on='movieId', how='left')"
      ],
      "metadata": {
        "id": "jyn_SVm4lnmk"
      },
      "id": "jyn_SVm4lnmk",
      "execution_count": null,
      "outputs": []
    },
    {
      "cell_type": "code",
      "source": [
        "df.head()"
      ],
      "metadata": {
        "colab": {
          "base_uri": "https://localhost:8080/",
          "height": 206
        },
        "id": "aCPe8vWXlnjr",
        "outputId": "1d04dc64-2e46-4c7c-f5e8-69ec0987d55c"
      },
      "id": "aCPe8vWXlnjr",
      "execution_count": null,
      "outputs": [
        {
          "output_type": "execute_result",
          "data": {
            "text/plain": [
              "   userId  movieId  rating age_rating    era                 runtime continent\n",
              "0       1        1     4.0        All  ['B']   [-1.2915281995335486]       NaN\n",
              "1       1        3     4.0         15  ['B']   [-0.3024393157693134]       NaN\n",
              "2       1        6     4.0         18  ['B']    [3.1099173332172994]       NaN\n",
              "3       1       47     5.0         18  ['B']    [0.9833762331241928]       NaN\n",
              "4       1       50     5.0         18  ['B']  [-0.05516709482825472]       NaN"
            ],
            "text/html": [
              "\n",
              "  <div id=\"df-12ff201e-efd9-4f54-9b42-ffc81560e70f\" class=\"colab-df-container\">\n",
              "    <div>\n",
              "<style scoped>\n",
              "    .dataframe tbody tr th:only-of-type {\n",
              "        vertical-align: middle;\n",
              "    }\n",
              "\n",
              "    .dataframe tbody tr th {\n",
              "        vertical-align: top;\n",
              "    }\n",
              "\n",
              "    .dataframe thead th {\n",
              "        text-align: right;\n",
              "    }\n",
              "</style>\n",
              "<table border=\"1\" class=\"dataframe\">\n",
              "  <thead>\n",
              "    <tr style=\"text-align: right;\">\n",
              "      <th></th>\n",
              "      <th>userId</th>\n",
              "      <th>movieId</th>\n",
              "      <th>rating</th>\n",
              "      <th>age_rating</th>\n",
              "      <th>era</th>\n",
              "      <th>runtime</th>\n",
              "      <th>continent</th>\n",
              "    </tr>\n",
              "  </thead>\n",
              "  <tbody>\n",
              "    <tr>\n",
              "      <th>0</th>\n",
              "      <td>1</td>\n",
              "      <td>1</td>\n",
              "      <td>4.0</td>\n",
              "      <td>All</td>\n",
              "      <td>['B']</td>\n",
              "      <td>[-1.2915281995335486]</td>\n",
              "      <td>NaN</td>\n",
              "    </tr>\n",
              "    <tr>\n",
              "      <th>1</th>\n",
              "      <td>1</td>\n",
              "      <td>3</td>\n",
              "      <td>4.0</td>\n",
              "      <td>15</td>\n",
              "      <td>['B']</td>\n",
              "      <td>[-0.3024393157693134]</td>\n",
              "      <td>NaN</td>\n",
              "    </tr>\n",
              "    <tr>\n",
              "      <th>2</th>\n",
              "      <td>1</td>\n",
              "      <td>6</td>\n",
              "      <td>4.0</td>\n",
              "      <td>18</td>\n",
              "      <td>['B']</td>\n",
              "      <td>[3.1099173332172994]</td>\n",
              "      <td>NaN</td>\n",
              "    </tr>\n",
              "    <tr>\n",
              "      <th>3</th>\n",
              "      <td>1</td>\n",
              "      <td>47</td>\n",
              "      <td>5.0</td>\n",
              "      <td>18</td>\n",
              "      <td>['B']</td>\n",
              "      <td>[0.9833762331241928]</td>\n",
              "      <td>NaN</td>\n",
              "    </tr>\n",
              "    <tr>\n",
              "      <th>4</th>\n",
              "      <td>1</td>\n",
              "      <td>50</td>\n",
              "      <td>5.0</td>\n",
              "      <td>18</td>\n",
              "      <td>['B']</td>\n",
              "      <td>[-0.05516709482825472]</td>\n",
              "      <td>NaN</td>\n",
              "    </tr>\n",
              "  </tbody>\n",
              "</table>\n",
              "</div>\n",
              "    <div class=\"colab-df-buttons\">\n",
              "\n",
              "  <div class=\"colab-df-container\">\n",
              "    <button class=\"colab-df-convert\" onclick=\"convertToInteractive('df-12ff201e-efd9-4f54-9b42-ffc81560e70f')\"\n",
              "            title=\"Convert this dataframe to an interactive table.\"\n",
              "            style=\"display:none;\">\n",
              "\n",
              "  <svg xmlns=\"http://www.w3.org/2000/svg\" height=\"24px\" viewBox=\"0 -960 960 960\">\n",
              "    <path d=\"M120-120v-720h720v720H120Zm60-500h600v-160H180v160Zm220 220h160v-160H400v160Zm0 220h160v-160H400v160ZM180-400h160v-160H180v160Zm440 0h160v-160H620v160ZM180-180h160v-160H180v160Zm440 0h160v-160H620v160Z\"/>\n",
              "  </svg>\n",
              "    </button>\n",
              "\n",
              "  <style>\n",
              "    .colab-df-container {\n",
              "      display:flex;\n",
              "      gap: 12px;\n",
              "    }\n",
              "\n",
              "    .colab-df-convert {\n",
              "      background-color: #E8F0FE;\n",
              "      border: none;\n",
              "      border-radius: 50%;\n",
              "      cursor: pointer;\n",
              "      display: none;\n",
              "      fill: #1967D2;\n",
              "      height: 32px;\n",
              "      padding: 0 0 0 0;\n",
              "      width: 32px;\n",
              "    }\n",
              "\n",
              "    .colab-df-convert:hover {\n",
              "      background-color: #E2EBFA;\n",
              "      box-shadow: 0px 1px 2px rgba(60, 64, 67, 0.3), 0px 1px 3px 1px rgba(60, 64, 67, 0.15);\n",
              "      fill: #174EA6;\n",
              "    }\n",
              "\n",
              "    .colab-df-buttons div {\n",
              "      margin-bottom: 4px;\n",
              "    }\n",
              "\n",
              "    [theme=dark] .colab-df-convert {\n",
              "      background-color: #3B4455;\n",
              "      fill: #D2E3FC;\n",
              "    }\n",
              "\n",
              "    [theme=dark] .colab-df-convert:hover {\n",
              "      background-color: #434B5C;\n",
              "      box-shadow: 0px 1px 3px 1px rgba(0, 0, 0, 0.15);\n",
              "      filter: drop-shadow(0px 1px 2px rgba(0, 0, 0, 0.3));\n",
              "      fill: #FFFFFF;\n",
              "    }\n",
              "  </style>\n",
              "\n",
              "    <script>\n",
              "      const buttonEl =\n",
              "        document.querySelector('#df-12ff201e-efd9-4f54-9b42-ffc81560e70f button.colab-df-convert');\n",
              "      buttonEl.style.display =\n",
              "        google.colab.kernel.accessAllowed ? 'block' : 'none';\n",
              "\n",
              "      async function convertToInteractive(key) {\n",
              "        const element = document.querySelector('#df-12ff201e-efd9-4f54-9b42-ffc81560e70f');\n",
              "        const dataTable =\n",
              "          await google.colab.kernel.invokeFunction('convertToInteractive',\n",
              "                                                    [key], {});\n",
              "        if (!dataTable) return;\n",
              "\n",
              "        const docLinkHtml = 'Like what you see? Visit the ' +\n",
              "          '<a target=\"_blank\" href=https://colab.research.google.com/notebooks/data_table.ipynb>data table notebook</a>'\n",
              "          + ' to learn more about interactive tables.';\n",
              "        element.innerHTML = '';\n",
              "        dataTable['output_type'] = 'display_data';\n",
              "        await google.colab.output.renderOutput(dataTable, element);\n",
              "        const docLink = document.createElement('div');\n",
              "        docLink.innerHTML = docLinkHtml;\n",
              "        element.appendChild(docLink);\n",
              "      }\n",
              "    </script>\n",
              "  </div>\n",
              "\n",
              "\n",
              "<div id=\"df-e7a11a78-e6c5-4af0-b2d9-1fb7f9f1c5cd\">\n",
              "  <button class=\"colab-df-quickchart\" onclick=\"quickchart('df-e7a11a78-e6c5-4af0-b2d9-1fb7f9f1c5cd')\"\n",
              "            title=\"Suggest charts\"\n",
              "            style=\"display:none;\">\n",
              "\n",
              "<svg xmlns=\"http://www.w3.org/2000/svg\" height=\"24px\"viewBox=\"0 0 24 24\"\n",
              "     width=\"24px\">\n",
              "    <g>\n",
              "        <path d=\"M19 3H5c-1.1 0-2 .9-2 2v14c0 1.1.9 2 2 2h14c1.1 0 2-.9 2-2V5c0-1.1-.9-2-2-2zM9 17H7v-7h2v7zm4 0h-2V7h2v10zm4 0h-2v-4h2v4z\"/>\n",
              "    </g>\n",
              "</svg>\n",
              "  </button>\n",
              "\n",
              "<style>\n",
              "  .colab-df-quickchart {\n",
              "      --bg-color: #E8F0FE;\n",
              "      --fill-color: #1967D2;\n",
              "      --hover-bg-color: #E2EBFA;\n",
              "      --hover-fill-color: #174EA6;\n",
              "      --disabled-fill-color: #AAA;\n",
              "      --disabled-bg-color: #DDD;\n",
              "  }\n",
              "\n",
              "  [theme=dark] .colab-df-quickchart {\n",
              "      --bg-color: #3B4455;\n",
              "      --fill-color: #D2E3FC;\n",
              "      --hover-bg-color: #434B5C;\n",
              "      --hover-fill-color: #FFFFFF;\n",
              "      --disabled-bg-color: #3B4455;\n",
              "      --disabled-fill-color: #666;\n",
              "  }\n",
              "\n",
              "  .colab-df-quickchart {\n",
              "    background-color: var(--bg-color);\n",
              "    border: none;\n",
              "    border-radius: 50%;\n",
              "    cursor: pointer;\n",
              "    display: none;\n",
              "    fill: var(--fill-color);\n",
              "    height: 32px;\n",
              "    padding: 0;\n",
              "    width: 32px;\n",
              "  }\n",
              "\n",
              "  .colab-df-quickchart:hover {\n",
              "    background-color: var(--hover-bg-color);\n",
              "    box-shadow: 0 1px 2px rgba(60, 64, 67, 0.3), 0 1px 3px 1px rgba(60, 64, 67, 0.15);\n",
              "    fill: var(--button-hover-fill-color);\n",
              "  }\n",
              "\n",
              "  .colab-df-quickchart-complete:disabled,\n",
              "  .colab-df-quickchart-complete:disabled:hover {\n",
              "    background-color: var(--disabled-bg-color);\n",
              "    fill: var(--disabled-fill-color);\n",
              "    box-shadow: none;\n",
              "  }\n",
              "\n",
              "  .colab-df-spinner {\n",
              "    border: 2px solid var(--fill-color);\n",
              "    border-color: transparent;\n",
              "    border-bottom-color: var(--fill-color);\n",
              "    animation:\n",
              "      spin 1s steps(1) infinite;\n",
              "  }\n",
              "\n",
              "  @keyframes spin {\n",
              "    0% {\n",
              "      border-color: transparent;\n",
              "      border-bottom-color: var(--fill-color);\n",
              "      border-left-color: var(--fill-color);\n",
              "    }\n",
              "    20% {\n",
              "      border-color: transparent;\n",
              "      border-left-color: var(--fill-color);\n",
              "      border-top-color: var(--fill-color);\n",
              "    }\n",
              "    30% {\n",
              "      border-color: transparent;\n",
              "      border-left-color: var(--fill-color);\n",
              "      border-top-color: var(--fill-color);\n",
              "      border-right-color: var(--fill-color);\n",
              "    }\n",
              "    40% {\n",
              "      border-color: transparent;\n",
              "      border-right-color: var(--fill-color);\n",
              "      border-top-color: var(--fill-color);\n",
              "    }\n",
              "    60% {\n",
              "      border-color: transparent;\n",
              "      border-right-color: var(--fill-color);\n",
              "    }\n",
              "    80% {\n",
              "      border-color: transparent;\n",
              "      border-right-color: var(--fill-color);\n",
              "      border-bottom-color: var(--fill-color);\n",
              "    }\n",
              "    90% {\n",
              "      border-color: transparent;\n",
              "      border-bottom-color: var(--fill-color);\n",
              "    }\n",
              "  }\n",
              "</style>\n",
              "\n",
              "  <script>\n",
              "    async function quickchart(key) {\n",
              "      const quickchartButtonEl =\n",
              "        document.querySelector('#' + key + ' button');\n",
              "      quickchartButtonEl.disabled = true;  // To prevent multiple clicks.\n",
              "      quickchartButtonEl.classList.add('colab-df-spinner');\n",
              "      try {\n",
              "        const charts = await google.colab.kernel.invokeFunction(\n",
              "            'suggestCharts', [key], {});\n",
              "      } catch (error) {\n",
              "        console.error('Error during call to suggestCharts:', error);\n",
              "      }\n",
              "      quickchartButtonEl.classList.remove('colab-df-spinner');\n",
              "      quickchartButtonEl.classList.add('colab-df-quickchart-complete');\n",
              "    }\n",
              "    (() => {\n",
              "      let quickchartButtonEl =\n",
              "        document.querySelector('#df-e7a11a78-e6c5-4af0-b2d9-1fb7f9f1c5cd button');\n",
              "      quickchartButtonEl.style.display =\n",
              "        google.colab.kernel.accessAllowed ? 'block' : 'none';\n",
              "    })();\n",
              "  </script>\n",
              "</div>\n",
              "    </div>\n",
              "  </div>\n"
            ]
          },
          "metadata": {},
          "execution_count": 139
        }
      ]
    },
    {
      "cell_type": "code",
      "source": [
        "movies"
      ],
      "metadata": {
        "colab": {
          "base_uri": "https://localhost:8080/",
          "height": 424
        },
        "id": "bc4-B3rXmIbe",
        "outputId": "a2aec1a1-fea7-4e7b-d18c-de6203fe9935"
      },
      "id": "bc4-B3rXmIbe",
      "execution_count": null,
      "outputs": [
        {
          "output_type": "execute_result",
          "data": {
            "text/plain": [
              "      movieId age_rating    era                 runtime continent\n",
              "0           1        All  ['B']   [-1.2915281995335486]       NaN\n",
              "1           2        All  ['B']   [-0.1540759832046779]       NaN\n",
              "2           3         15  ['B']   [-0.3024393157693134]       NaN\n",
              "3           4         18  ['B']     [0.835012900559558]       NaN\n",
              "4           5        All  ['B']  [-0.05516709482825472]       NaN\n",
              "...       ...        ...    ...                     ...       ...\n",
              "1787     3329      PG-13  ['N']   [-0.2035304273928895]        OC\n",
              "1788     3330         12  ['G']     [0.835012900559558]       NaN\n",
              "1789     3331         18  ['N']   [-0.5002570925221604]       NaN\n",
              "1790     3334         15  ['G']  [-0.35189375995752564]       NaN\n",
              "1791     3338  Not Rated  ['N']    [-1.340982643721761]       NaN\n",
              "\n",
              "[1792 rows x 5 columns]"
            ],
            "text/html": [
              "\n",
              "  <div id=\"df-e27cdd68-f43a-407b-8f0c-3e332452523a\" class=\"colab-df-container\">\n",
              "    <div>\n",
              "<style scoped>\n",
              "    .dataframe tbody tr th:only-of-type {\n",
              "        vertical-align: middle;\n",
              "    }\n",
              "\n",
              "    .dataframe tbody tr th {\n",
              "        vertical-align: top;\n",
              "    }\n",
              "\n",
              "    .dataframe thead th {\n",
              "        text-align: right;\n",
              "    }\n",
              "</style>\n",
              "<table border=\"1\" class=\"dataframe\">\n",
              "  <thead>\n",
              "    <tr style=\"text-align: right;\">\n",
              "      <th></th>\n",
              "      <th>movieId</th>\n",
              "      <th>age_rating</th>\n",
              "      <th>era</th>\n",
              "      <th>runtime</th>\n",
              "      <th>continent</th>\n",
              "    </tr>\n",
              "  </thead>\n",
              "  <tbody>\n",
              "    <tr>\n",
              "      <th>0</th>\n",
              "      <td>1</td>\n",
              "      <td>All</td>\n",
              "      <td>['B']</td>\n",
              "      <td>[-1.2915281995335486]</td>\n",
              "      <td>NaN</td>\n",
              "    </tr>\n",
              "    <tr>\n",
              "      <th>1</th>\n",
              "      <td>2</td>\n",
              "      <td>All</td>\n",
              "      <td>['B']</td>\n",
              "      <td>[-0.1540759832046779]</td>\n",
              "      <td>NaN</td>\n",
              "    </tr>\n",
              "    <tr>\n",
              "      <th>2</th>\n",
              "      <td>3</td>\n",
              "      <td>15</td>\n",
              "      <td>['B']</td>\n",
              "      <td>[-0.3024393157693134]</td>\n",
              "      <td>NaN</td>\n",
              "    </tr>\n",
              "    <tr>\n",
              "      <th>3</th>\n",
              "      <td>4</td>\n",
              "      <td>18</td>\n",
              "      <td>['B']</td>\n",
              "      <td>[0.835012900559558]</td>\n",
              "      <td>NaN</td>\n",
              "    </tr>\n",
              "    <tr>\n",
              "      <th>4</th>\n",
              "      <td>5</td>\n",
              "      <td>All</td>\n",
              "      <td>['B']</td>\n",
              "      <td>[-0.05516709482825472]</td>\n",
              "      <td>NaN</td>\n",
              "    </tr>\n",
              "    <tr>\n",
              "      <th>...</th>\n",
              "      <td>...</td>\n",
              "      <td>...</td>\n",
              "      <td>...</td>\n",
              "      <td>...</td>\n",
              "      <td>...</td>\n",
              "    </tr>\n",
              "    <tr>\n",
              "      <th>1787</th>\n",
              "      <td>3329</td>\n",
              "      <td>PG-13</td>\n",
              "      <td>['N']</td>\n",
              "      <td>[-0.2035304273928895]</td>\n",
              "      <td>OC</td>\n",
              "    </tr>\n",
              "    <tr>\n",
              "      <th>1788</th>\n",
              "      <td>3330</td>\n",
              "      <td>12</td>\n",
              "      <td>['G']</td>\n",
              "      <td>[0.835012900559558]</td>\n",
              "      <td>NaN</td>\n",
              "    </tr>\n",
              "    <tr>\n",
              "      <th>1789</th>\n",
              "      <td>3331</td>\n",
              "      <td>18</td>\n",
              "      <td>['N']</td>\n",
              "      <td>[-0.5002570925221604]</td>\n",
              "      <td>NaN</td>\n",
              "    </tr>\n",
              "    <tr>\n",
              "      <th>1790</th>\n",
              "      <td>3334</td>\n",
              "      <td>15</td>\n",
              "      <td>['G']</td>\n",
              "      <td>[-0.35189375995752564]</td>\n",
              "      <td>NaN</td>\n",
              "    </tr>\n",
              "    <tr>\n",
              "      <th>1791</th>\n",
              "      <td>3338</td>\n",
              "      <td>Not Rated</td>\n",
              "      <td>['N']</td>\n",
              "      <td>[-1.340982643721761]</td>\n",
              "      <td>NaN</td>\n",
              "    </tr>\n",
              "  </tbody>\n",
              "</table>\n",
              "<p>1792 rows × 5 columns</p>\n",
              "</div>\n",
              "    <div class=\"colab-df-buttons\">\n",
              "\n",
              "  <div class=\"colab-df-container\">\n",
              "    <button class=\"colab-df-convert\" onclick=\"convertToInteractive('df-e27cdd68-f43a-407b-8f0c-3e332452523a')\"\n",
              "            title=\"Convert this dataframe to an interactive table.\"\n",
              "            style=\"display:none;\">\n",
              "\n",
              "  <svg xmlns=\"http://www.w3.org/2000/svg\" height=\"24px\" viewBox=\"0 -960 960 960\">\n",
              "    <path d=\"M120-120v-720h720v720H120Zm60-500h600v-160H180v160Zm220 220h160v-160H400v160Zm0 220h160v-160H400v160ZM180-400h160v-160H180v160Zm440 0h160v-160H620v160ZM180-180h160v-160H180v160Zm440 0h160v-160H620v160Z\"/>\n",
              "  </svg>\n",
              "    </button>\n",
              "\n",
              "  <style>\n",
              "    .colab-df-container {\n",
              "      display:flex;\n",
              "      gap: 12px;\n",
              "    }\n",
              "\n",
              "    .colab-df-convert {\n",
              "      background-color: #E8F0FE;\n",
              "      border: none;\n",
              "      border-radius: 50%;\n",
              "      cursor: pointer;\n",
              "      display: none;\n",
              "      fill: #1967D2;\n",
              "      height: 32px;\n",
              "      padding: 0 0 0 0;\n",
              "      width: 32px;\n",
              "    }\n",
              "\n",
              "    .colab-df-convert:hover {\n",
              "      background-color: #E2EBFA;\n",
              "      box-shadow: 0px 1px 2px rgba(60, 64, 67, 0.3), 0px 1px 3px 1px rgba(60, 64, 67, 0.15);\n",
              "      fill: #174EA6;\n",
              "    }\n",
              "\n",
              "    .colab-df-buttons div {\n",
              "      margin-bottom: 4px;\n",
              "    }\n",
              "\n",
              "    [theme=dark] .colab-df-convert {\n",
              "      background-color: #3B4455;\n",
              "      fill: #D2E3FC;\n",
              "    }\n",
              "\n",
              "    [theme=dark] .colab-df-convert:hover {\n",
              "      background-color: #434B5C;\n",
              "      box-shadow: 0px 1px 3px 1px rgba(0, 0, 0, 0.15);\n",
              "      filter: drop-shadow(0px 1px 2px rgba(0, 0, 0, 0.3));\n",
              "      fill: #FFFFFF;\n",
              "    }\n",
              "  </style>\n",
              "\n",
              "    <script>\n",
              "      const buttonEl =\n",
              "        document.querySelector('#df-e27cdd68-f43a-407b-8f0c-3e332452523a button.colab-df-convert');\n",
              "      buttonEl.style.display =\n",
              "        google.colab.kernel.accessAllowed ? 'block' : 'none';\n",
              "\n",
              "      async function convertToInteractive(key) {\n",
              "        const element = document.querySelector('#df-e27cdd68-f43a-407b-8f0c-3e332452523a');\n",
              "        const dataTable =\n",
              "          await google.colab.kernel.invokeFunction('convertToInteractive',\n",
              "                                                    [key], {});\n",
              "        if (!dataTable) return;\n",
              "\n",
              "        const docLinkHtml = 'Like what you see? Visit the ' +\n",
              "          '<a target=\"_blank\" href=https://colab.research.google.com/notebooks/data_table.ipynb>data table notebook</a>'\n",
              "          + ' to learn more about interactive tables.';\n",
              "        element.innerHTML = '';\n",
              "        dataTable['output_type'] = 'display_data';\n",
              "        await google.colab.output.renderOutput(dataTable, element);\n",
              "        const docLink = document.createElement('div');\n",
              "        docLink.innerHTML = docLinkHtml;\n",
              "        element.appendChild(docLink);\n",
              "      }\n",
              "    </script>\n",
              "  </div>\n",
              "\n",
              "\n",
              "<div id=\"df-f60edf57-5c5a-4aca-95ab-d9463cb21752\">\n",
              "  <button class=\"colab-df-quickchart\" onclick=\"quickchart('df-f60edf57-5c5a-4aca-95ab-d9463cb21752')\"\n",
              "            title=\"Suggest charts\"\n",
              "            style=\"display:none;\">\n",
              "\n",
              "<svg xmlns=\"http://www.w3.org/2000/svg\" height=\"24px\"viewBox=\"0 0 24 24\"\n",
              "     width=\"24px\">\n",
              "    <g>\n",
              "        <path d=\"M19 3H5c-1.1 0-2 .9-2 2v14c0 1.1.9 2 2 2h14c1.1 0 2-.9 2-2V5c0-1.1-.9-2-2-2zM9 17H7v-7h2v7zm4 0h-2V7h2v10zm4 0h-2v-4h2v4z\"/>\n",
              "    </g>\n",
              "</svg>\n",
              "  </button>\n",
              "\n",
              "<style>\n",
              "  .colab-df-quickchart {\n",
              "      --bg-color: #E8F0FE;\n",
              "      --fill-color: #1967D2;\n",
              "      --hover-bg-color: #E2EBFA;\n",
              "      --hover-fill-color: #174EA6;\n",
              "      --disabled-fill-color: #AAA;\n",
              "      --disabled-bg-color: #DDD;\n",
              "  }\n",
              "\n",
              "  [theme=dark] .colab-df-quickchart {\n",
              "      --bg-color: #3B4455;\n",
              "      --fill-color: #D2E3FC;\n",
              "      --hover-bg-color: #434B5C;\n",
              "      --hover-fill-color: #FFFFFF;\n",
              "      --disabled-bg-color: #3B4455;\n",
              "      --disabled-fill-color: #666;\n",
              "  }\n",
              "\n",
              "  .colab-df-quickchart {\n",
              "    background-color: var(--bg-color);\n",
              "    border: none;\n",
              "    border-radius: 50%;\n",
              "    cursor: pointer;\n",
              "    display: none;\n",
              "    fill: var(--fill-color);\n",
              "    height: 32px;\n",
              "    padding: 0;\n",
              "    width: 32px;\n",
              "  }\n",
              "\n",
              "  .colab-df-quickchart:hover {\n",
              "    background-color: var(--hover-bg-color);\n",
              "    box-shadow: 0 1px 2px rgba(60, 64, 67, 0.3), 0 1px 3px 1px rgba(60, 64, 67, 0.15);\n",
              "    fill: var(--button-hover-fill-color);\n",
              "  }\n",
              "\n",
              "  .colab-df-quickchart-complete:disabled,\n",
              "  .colab-df-quickchart-complete:disabled:hover {\n",
              "    background-color: var(--disabled-bg-color);\n",
              "    fill: var(--disabled-fill-color);\n",
              "    box-shadow: none;\n",
              "  }\n",
              "\n",
              "  .colab-df-spinner {\n",
              "    border: 2px solid var(--fill-color);\n",
              "    border-color: transparent;\n",
              "    border-bottom-color: var(--fill-color);\n",
              "    animation:\n",
              "      spin 1s steps(1) infinite;\n",
              "  }\n",
              "\n",
              "  @keyframes spin {\n",
              "    0% {\n",
              "      border-color: transparent;\n",
              "      border-bottom-color: var(--fill-color);\n",
              "      border-left-color: var(--fill-color);\n",
              "    }\n",
              "    20% {\n",
              "      border-color: transparent;\n",
              "      border-left-color: var(--fill-color);\n",
              "      border-top-color: var(--fill-color);\n",
              "    }\n",
              "    30% {\n",
              "      border-color: transparent;\n",
              "      border-left-color: var(--fill-color);\n",
              "      border-top-color: var(--fill-color);\n",
              "      border-right-color: var(--fill-color);\n",
              "    }\n",
              "    40% {\n",
              "      border-color: transparent;\n",
              "      border-right-color: var(--fill-color);\n",
              "      border-top-color: var(--fill-color);\n",
              "    }\n",
              "    60% {\n",
              "      border-color: transparent;\n",
              "      border-right-color: var(--fill-color);\n",
              "    }\n",
              "    80% {\n",
              "      border-color: transparent;\n",
              "      border-right-color: var(--fill-color);\n",
              "      border-bottom-color: var(--fill-color);\n",
              "    }\n",
              "    90% {\n",
              "      border-color: transparent;\n",
              "      border-bottom-color: var(--fill-color);\n",
              "    }\n",
              "  }\n",
              "</style>\n",
              "\n",
              "  <script>\n",
              "    async function quickchart(key) {\n",
              "      const quickchartButtonEl =\n",
              "        document.querySelector('#' + key + ' button');\n",
              "      quickchartButtonEl.disabled = true;  // To prevent multiple clicks.\n",
              "      quickchartButtonEl.classList.add('colab-df-spinner');\n",
              "      try {\n",
              "        const charts = await google.colab.kernel.invokeFunction(\n",
              "            'suggestCharts', [key], {});\n",
              "      } catch (error) {\n",
              "        console.error('Error during call to suggestCharts:', error);\n",
              "      }\n",
              "      quickchartButtonEl.classList.remove('colab-df-spinner');\n",
              "      quickchartButtonEl.classList.add('colab-df-quickchart-complete');\n",
              "    }\n",
              "    (() => {\n",
              "      let quickchartButtonEl =\n",
              "        document.querySelector('#df-f60edf57-5c5a-4aca-95ab-d9463cb21752 button');\n",
              "      quickchartButtonEl.style.display =\n",
              "        google.colab.kernel.accessAllowed ? 'block' : 'none';\n",
              "    })();\n",
              "  </script>\n",
              "</div>\n",
              "    </div>\n",
              "  </div>\n"
            ]
          },
          "metadata": {},
          "execution_count": 140
        }
      ]
    },
    {
      "cell_type": "markdown",
      "source": [
        "### 데이터 null 값 제거"
      ],
      "metadata": {
        "id": "VIhPZueLmwCd"
      },
      "id": "VIhPZueLmwCd"
    },
    {
      "cell_type": "code",
      "source": [
        "df['continent'].value_counts()"
      ],
      "metadata": {
        "colab": {
          "base_uri": "https://localhost:8080/"
        },
        "id": "sNtRGcl6lIKK",
        "outputId": "08aefc84-730f-4932-9277-1ccd220cb52c"
      },
      "id": "sNtRGcl6lIKK",
      "execution_count": null,
      "outputs": [
        {
          "output_type": "execute_result",
          "data": {
            "text/plain": [
              "EU    4538\n",
              "OC     468\n",
              "AS     349\n",
              "AF      37\n",
              "SA      29\n",
              "Name: continent, dtype: int64"
            ]
          },
          "metadata": {},
          "execution_count": 141
        }
      ]
    },
    {
      "cell_type": "code",
      "source": [
        "df['continent'].isna().sum()"
      ],
      "metadata": {
        "colab": {
          "base_uri": "https://localhost:8080/"
        },
        "id": "46CHVr7GloAm",
        "outputId": "55ae4e8a-aedf-48d5-c254-ec623929c147"
      },
      "id": "46CHVr7GloAm",
      "execution_count": null,
      "outputs": [
        {
          "output_type": "execute_result",
          "data": {
            "text/plain": [
              "95368"
            ]
          },
          "metadata": {},
          "execution_count": 142
        }
      ]
    },
    {
      "cell_type": "code",
      "source": [
        "df_cleaned = df.dropna()\n",
        "df_cleaned"
      ],
      "metadata": {
        "colab": {
          "base_uri": "https://localhost:8080/",
          "height": 441
        },
        "id": "f3xEabD_lsUp",
        "outputId": "9b20612f-0cea-455b-ad8b-97f5f507c7fe"
      },
      "id": "f3xEabD_lsUp",
      "execution_count": null,
      "outputs": [
        {
          "output_type": "execute_result",
          "data": {
            "text/plain": [
              "       userId  movieId  rating  \\\n",
              "8           1      151     5.0   \n",
              "30          1      552     4.0   \n",
              "91          1     1348     4.0   \n",
              "98          1     1517     5.0   \n",
              "110         1     1793     4.0   \n",
              "...       ...      ...     ...   \n",
              "99660     610     3089     3.0   \n",
              "99664     610     3174     4.0   \n",
              "99666     610     3265     5.0   \n",
              "99668     610     3285     3.5   \n",
              "99671     610     3328     5.0   \n",
              "\n",
              "                                              age_rating    era  \\\n",
              "8                                                     15  ['B']   \n",
              "30                                                    12  ['B']   \n",
              "91                                                    12  ['S']   \n",
              "98                                                    18  ['B']   \n",
              "110    Rated R for strong sexuality and language, and...  ['B']   \n",
              "...                                                  ...    ...   \n",
              "99660                                                 12  ['G']   \n",
              "99664                                                 15  ['B']   \n",
              "99666                                                 15  ['B']   \n",
              "99668                                                 18  ['C']   \n",
              "99671                                                 18  ['B']   \n",
              "\n",
              "                      runtime continent  \n",
              "8        [1.5768295633827332]        EU  \n",
              "30     [-0.10462153901646631]        EU  \n",
              "91      [-0.6486204250867958]        EU  \n",
              "98      [-0.6486204250867958]        EU  \n",
              "110    [-0.05516709482825472]        EU  \n",
              "...                       ...       ...  \n",
              "99660   [-0.8958926460278546]        EU  \n",
              "99664    [0.5382862354302871]        EU  \n",
              "99666    [1.0328306773124043]        AS  \n",
              "99668    [0.5877406796184986]        EU  \n",
              "99671    [0.4393773470538632]        EU  \n",
              "\n",
              "[5421 rows x 7 columns]"
            ],
            "text/html": [
              "\n",
              "  <div id=\"df-5791772e-4aa3-46d0-b8ea-9b0c94bd7232\" class=\"colab-df-container\">\n",
              "    <div>\n",
              "<style scoped>\n",
              "    .dataframe tbody tr th:only-of-type {\n",
              "        vertical-align: middle;\n",
              "    }\n",
              "\n",
              "    .dataframe tbody tr th {\n",
              "        vertical-align: top;\n",
              "    }\n",
              "\n",
              "    .dataframe thead th {\n",
              "        text-align: right;\n",
              "    }\n",
              "</style>\n",
              "<table border=\"1\" class=\"dataframe\">\n",
              "  <thead>\n",
              "    <tr style=\"text-align: right;\">\n",
              "      <th></th>\n",
              "      <th>userId</th>\n",
              "      <th>movieId</th>\n",
              "      <th>rating</th>\n",
              "      <th>age_rating</th>\n",
              "      <th>era</th>\n",
              "      <th>runtime</th>\n",
              "      <th>continent</th>\n",
              "    </tr>\n",
              "  </thead>\n",
              "  <tbody>\n",
              "    <tr>\n",
              "      <th>8</th>\n",
              "      <td>1</td>\n",
              "      <td>151</td>\n",
              "      <td>5.0</td>\n",
              "      <td>15</td>\n",
              "      <td>['B']</td>\n",
              "      <td>[1.5768295633827332]</td>\n",
              "      <td>EU</td>\n",
              "    </tr>\n",
              "    <tr>\n",
              "      <th>30</th>\n",
              "      <td>1</td>\n",
              "      <td>552</td>\n",
              "      <td>4.0</td>\n",
              "      <td>12</td>\n",
              "      <td>['B']</td>\n",
              "      <td>[-0.10462153901646631]</td>\n",
              "      <td>EU</td>\n",
              "    </tr>\n",
              "    <tr>\n",
              "      <th>91</th>\n",
              "      <td>1</td>\n",
              "      <td>1348</td>\n",
              "      <td>4.0</td>\n",
              "      <td>12</td>\n",
              "      <td>['S']</td>\n",
              "      <td>[-0.6486204250867958]</td>\n",
              "      <td>EU</td>\n",
              "    </tr>\n",
              "    <tr>\n",
              "      <th>98</th>\n",
              "      <td>1</td>\n",
              "      <td>1517</td>\n",
              "      <td>5.0</td>\n",
              "      <td>18</td>\n",
              "      <td>['B']</td>\n",
              "      <td>[-0.6486204250867958]</td>\n",
              "      <td>EU</td>\n",
              "    </tr>\n",
              "    <tr>\n",
              "      <th>110</th>\n",
              "      <td>1</td>\n",
              "      <td>1793</td>\n",
              "      <td>4.0</td>\n",
              "      <td>Rated R for strong sexuality and language, and...</td>\n",
              "      <td>['B']</td>\n",
              "      <td>[-0.05516709482825472]</td>\n",
              "      <td>EU</td>\n",
              "    </tr>\n",
              "    <tr>\n",
              "      <th>...</th>\n",
              "      <td>...</td>\n",
              "      <td>...</td>\n",
              "      <td>...</td>\n",
              "      <td>...</td>\n",
              "      <td>...</td>\n",
              "      <td>...</td>\n",
              "      <td>...</td>\n",
              "    </tr>\n",
              "    <tr>\n",
              "      <th>99660</th>\n",
              "      <td>610</td>\n",
              "      <td>3089</td>\n",
              "      <td>3.0</td>\n",
              "      <td>12</td>\n",
              "      <td>['G']</td>\n",
              "      <td>[-0.8958926460278546]</td>\n",
              "      <td>EU</td>\n",
              "    </tr>\n",
              "    <tr>\n",
              "      <th>99664</th>\n",
              "      <td>610</td>\n",
              "      <td>3174</td>\n",
              "      <td>4.0</td>\n",
              "      <td>15</td>\n",
              "      <td>['B']</td>\n",
              "      <td>[0.5382862354302871]</td>\n",
              "      <td>EU</td>\n",
              "    </tr>\n",
              "    <tr>\n",
              "      <th>99666</th>\n",
              "      <td>610</td>\n",
              "      <td>3265</td>\n",
              "      <td>5.0</td>\n",
              "      <td>15</td>\n",
              "      <td>['B']</td>\n",
              "      <td>[1.0328306773124043]</td>\n",
              "      <td>AS</td>\n",
              "    </tr>\n",
              "    <tr>\n",
              "      <th>99668</th>\n",
              "      <td>610</td>\n",
              "      <td>3285</td>\n",
              "      <td>3.5</td>\n",
              "      <td>18</td>\n",
              "      <td>['C']</td>\n",
              "      <td>[0.5877406796184986]</td>\n",
              "      <td>EU</td>\n",
              "    </tr>\n",
              "    <tr>\n",
              "      <th>99671</th>\n",
              "      <td>610</td>\n",
              "      <td>3328</td>\n",
              "      <td>5.0</td>\n",
              "      <td>18</td>\n",
              "      <td>['B']</td>\n",
              "      <td>[0.4393773470538632]</td>\n",
              "      <td>EU</td>\n",
              "    </tr>\n",
              "  </tbody>\n",
              "</table>\n",
              "<p>5421 rows × 7 columns</p>\n",
              "</div>\n",
              "    <div class=\"colab-df-buttons\">\n",
              "\n",
              "  <div class=\"colab-df-container\">\n",
              "    <button class=\"colab-df-convert\" onclick=\"convertToInteractive('df-5791772e-4aa3-46d0-b8ea-9b0c94bd7232')\"\n",
              "            title=\"Convert this dataframe to an interactive table.\"\n",
              "            style=\"display:none;\">\n",
              "\n",
              "  <svg xmlns=\"http://www.w3.org/2000/svg\" height=\"24px\" viewBox=\"0 -960 960 960\">\n",
              "    <path d=\"M120-120v-720h720v720H120Zm60-500h600v-160H180v160Zm220 220h160v-160H400v160Zm0 220h160v-160H400v160ZM180-400h160v-160H180v160Zm440 0h160v-160H620v160ZM180-180h160v-160H180v160Zm440 0h160v-160H620v160Z\"/>\n",
              "  </svg>\n",
              "    </button>\n",
              "\n",
              "  <style>\n",
              "    .colab-df-container {\n",
              "      display:flex;\n",
              "      gap: 12px;\n",
              "    }\n",
              "\n",
              "    .colab-df-convert {\n",
              "      background-color: #E8F0FE;\n",
              "      border: none;\n",
              "      border-radius: 50%;\n",
              "      cursor: pointer;\n",
              "      display: none;\n",
              "      fill: #1967D2;\n",
              "      height: 32px;\n",
              "      padding: 0 0 0 0;\n",
              "      width: 32px;\n",
              "    }\n",
              "\n",
              "    .colab-df-convert:hover {\n",
              "      background-color: #E2EBFA;\n",
              "      box-shadow: 0px 1px 2px rgba(60, 64, 67, 0.3), 0px 1px 3px 1px rgba(60, 64, 67, 0.15);\n",
              "      fill: #174EA6;\n",
              "    }\n",
              "\n",
              "    .colab-df-buttons div {\n",
              "      margin-bottom: 4px;\n",
              "    }\n",
              "\n",
              "    [theme=dark] .colab-df-convert {\n",
              "      background-color: #3B4455;\n",
              "      fill: #D2E3FC;\n",
              "    }\n",
              "\n",
              "    [theme=dark] .colab-df-convert:hover {\n",
              "      background-color: #434B5C;\n",
              "      box-shadow: 0px 1px 3px 1px rgba(0, 0, 0, 0.15);\n",
              "      filter: drop-shadow(0px 1px 2px rgba(0, 0, 0, 0.3));\n",
              "      fill: #FFFFFF;\n",
              "    }\n",
              "  </style>\n",
              "\n",
              "    <script>\n",
              "      const buttonEl =\n",
              "        document.querySelector('#df-5791772e-4aa3-46d0-b8ea-9b0c94bd7232 button.colab-df-convert');\n",
              "      buttonEl.style.display =\n",
              "        google.colab.kernel.accessAllowed ? 'block' : 'none';\n",
              "\n",
              "      async function convertToInteractive(key) {\n",
              "        const element = document.querySelector('#df-5791772e-4aa3-46d0-b8ea-9b0c94bd7232');\n",
              "        const dataTable =\n",
              "          await google.colab.kernel.invokeFunction('convertToInteractive',\n",
              "                                                    [key], {});\n",
              "        if (!dataTable) return;\n",
              "\n",
              "        const docLinkHtml = 'Like what you see? Visit the ' +\n",
              "          '<a target=\"_blank\" href=https://colab.research.google.com/notebooks/data_table.ipynb>data table notebook</a>'\n",
              "          + ' to learn more about interactive tables.';\n",
              "        element.innerHTML = '';\n",
              "        dataTable['output_type'] = 'display_data';\n",
              "        await google.colab.output.renderOutput(dataTable, element);\n",
              "        const docLink = document.createElement('div');\n",
              "        docLink.innerHTML = docLinkHtml;\n",
              "        element.appendChild(docLink);\n",
              "      }\n",
              "    </script>\n",
              "  </div>\n",
              "\n",
              "\n",
              "<div id=\"df-bafbf489-e814-4553-b380-0ae3fee80f2a\">\n",
              "  <button class=\"colab-df-quickchart\" onclick=\"quickchart('df-bafbf489-e814-4553-b380-0ae3fee80f2a')\"\n",
              "            title=\"Suggest charts\"\n",
              "            style=\"display:none;\">\n",
              "\n",
              "<svg xmlns=\"http://www.w3.org/2000/svg\" height=\"24px\"viewBox=\"0 0 24 24\"\n",
              "     width=\"24px\">\n",
              "    <g>\n",
              "        <path d=\"M19 3H5c-1.1 0-2 .9-2 2v14c0 1.1.9 2 2 2h14c1.1 0 2-.9 2-2V5c0-1.1-.9-2-2-2zM9 17H7v-7h2v7zm4 0h-2V7h2v10zm4 0h-2v-4h2v4z\"/>\n",
              "    </g>\n",
              "</svg>\n",
              "  </button>\n",
              "\n",
              "<style>\n",
              "  .colab-df-quickchart {\n",
              "      --bg-color: #E8F0FE;\n",
              "      --fill-color: #1967D2;\n",
              "      --hover-bg-color: #E2EBFA;\n",
              "      --hover-fill-color: #174EA6;\n",
              "      --disabled-fill-color: #AAA;\n",
              "      --disabled-bg-color: #DDD;\n",
              "  }\n",
              "\n",
              "  [theme=dark] .colab-df-quickchart {\n",
              "      --bg-color: #3B4455;\n",
              "      --fill-color: #D2E3FC;\n",
              "      --hover-bg-color: #434B5C;\n",
              "      --hover-fill-color: #FFFFFF;\n",
              "      --disabled-bg-color: #3B4455;\n",
              "      --disabled-fill-color: #666;\n",
              "  }\n",
              "\n",
              "  .colab-df-quickchart {\n",
              "    background-color: var(--bg-color);\n",
              "    border: none;\n",
              "    border-radius: 50%;\n",
              "    cursor: pointer;\n",
              "    display: none;\n",
              "    fill: var(--fill-color);\n",
              "    height: 32px;\n",
              "    padding: 0;\n",
              "    width: 32px;\n",
              "  }\n",
              "\n",
              "  .colab-df-quickchart:hover {\n",
              "    background-color: var(--hover-bg-color);\n",
              "    box-shadow: 0 1px 2px rgba(60, 64, 67, 0.3), 0 1px 3px 1px rgba(60, 64, 67, 0.15);\n",
              "    fill: var(--button-hover-fill-color);\n",
              "  }\n",
              "\n",
              "  .colab-df-quickchart-complete:disabled,\n",
              "  .colab-df-quickchart-complete:disabled:hover {\n",
              "    background-color: var(--disabled-bg-color);\n",
              "    fill: var(--disabled-fill-color);\n",
              "    box-shadow: none;\n",
              "  }\n",
              "\n",
              "  .colab-df-spinner {\n",
              "    border: 2px solid var(--fill-color);\n",
              "    border-color: transparent;\n",
              "    border-bottom-color: var(--fill-color);\n",
              "    animation:\n",
              "      spin 1s steps(1) infinite;\n",
              "  }\n",
              "\n",
              "  @keyframes spin {\n",
              "    0% {\n",
              "      border-color: transparent;\n",
              "      border-bottom-color: var(--fill-color);\n",
              "      border-left-color: var(--fill-color);\n",
              "    }\n",
              "    20% {\n",
              "      border-color: transparent;\n",
              "      border-left-color: var(--fill-color);\n",
              "      border-top-color: var(--fill-color);\n",
              "    }\n",
              "    30% {\n",
              "      border-color: transparent;\n",
              "      border-left-color: var(--fill-color);\n",
              "      border-top-color: var(--fill-color);\n",
              "      border-right-color: var(--fill-color);\n",
              "    }\n",
              "    40% {\n",
              "      border-color: transparent;\n",
              "      border-right-color: var(--fill-color);\n",
              "      border-top-color: var(--fill-color);\n",
              "    }\n",
              "    60% {\n",
              "      border-color: transparent;\n",
              "      border-right-color: var(--fill-color);\n",
              "    }\n",
              "    80% {\n",
              "      border-color: transparent;\n",
              "      border-right-color: var(--fill-color);\n",
              "      border-bottom-color: var(--fill-color);\n",
              "    }\n",
              "    90% {\n",
              "      border-color: transparent;\n",
              "      border-bottom-color: var(--fill-color);\n",
              "    }\n",
              "  }\n",
              "</style>\n",
              "\n",
              "  <script>\n",
              "    async function quickchart(key) {\n",
              "      const quickchartButtonEl =\n",
              "        document.querySelector('#' + key + ' button');\n",
              "      quickchartButtonEl.disabled = true;  // To prevent multiple clicks.\n",
              "      quickchartButtonEl.classList.add('colab-df-spinner');\n",
              "      try {\n",
              "        const charts = await google.colab.kernel.invokeFunction(\n",
              "            'suggestCharts', [key], {});\n",
              "      } catch (error) {\n",
              "        console.error('Error during call to suggestCharts:', error);\n",
              "      }\n",
              "      quickchartButtonEl.classList.remove('colab-df-spinner');\n",
              "      quickchartButtonEl.classList.add('colab-df-quickchart-complete');\n",
              "    }\n",
              "    (() => {\n",
              "      let quickchartButtonEl =\n",
              "        document.querySelector('#df-bafbf489-e814-4553-b380-0ae3fee80f2a button');\n",
              "      quickchartButtonEl.style.display =\n",
              "        google.colab.kernel.accessAllowed ? 'block' : 'none';\n",
              "    })();\n",
              "  </script>\n",
              "</div>\n",
              "    </div>\n",
              "  </div>\n"
            ]
          },
          "metadata": {},
          "execution_count": 143
        }
      ]
    },
    {
      "cell_type": "code",
      "source": [
        "df_cleaned.isna().sum()"
      ],
      "metadata": {
        "colab": {
          "base_uri": "https://localhost:8080/"
        },
        "id": "bPE4u5NWmgyi",
        "outputId": "8004f621-8a23-47f5-c306-9ef6641a3ab6"
      },
      "id": "bPE4u5NWmgyi",
      "execution_count": null,
      "outputs": [
        {
          "output_type": "execute_result",
          "data": {
            "text/plain": [
              "userId        0\n",
              "movieId       0\n",
              "rating        0\n",
              "age_rating    0\n",
              "era           0\n",
              "runtime       0\n",
              "continent     0\n",
              "dtype: int64"
            ]
          },
          "metadata": {},
          "execution_count": 144
        }
      ]
    },
    {
      "cell_type": "markdown",
      "source": [
        "### 데이터 continent label encoding 수행"
      ],
      "metadata": {
        "id": "RrIdy72omy8f"
      },
      "id": "RrIdy72omy8f"
    },
    {
      "cell_type": "markdown",
      "source": [
        "AF -> 0 <br>\n",
        "AS -> 1 <br>\n",
        "EU -> 2 <br>\n",
        "OC -> 3 <br>\n",
        "SA -> 4 <br>\n"
      ],
      "metadata": {
        "id": "lQizyvRbpfOq"
      },
      "id": "lQizyvRbpfOq"
    },
    {
      "cell_type": "code",
      "source": [
        "from sklearn.preprocessing import LabelEncoder\n",
        "# Initialize the LabelEncoder\n",
        "label_encoder = LabelEncoder()\n",
        "\n",
        "# Fit and transform the 'continent' column\n",
        "df_cleaned['continent_encoded'] = label_encoder.fit_transform(df_cleaned['continent'])"
      ],
      "metadata": {
        "id": "kCYusXMdmyyX",
        "colab": {
          "base_uri": "https://localhost:8080/"
        },
        "outputId": "bc2cc392-d9ef-49cd-9ede-b3ee40e86a0b"
      },
      "id": "kCYusXMdmyyX",
      "execution_count": null,
      "outputs": [
        {
          "output_type": "stream",
          "name": "stderr",
          "text": [
            "<ipython-input-145-ace27497e7c9>:6: SettingWithCopyWarning: \n",
            "A value is trying to be set on a copy of a slice from a DataFrame.\n",
            "Try using .loc[row_indexer,col_indexer] = value instead\n",
            "\n",
            "See the caveats in the documentation: https://pandas.pydata.org/pandas-docs/stable/user_guide/indexing.html#returning-a-view-versus-a-copy\n",
            "  df_cleaned['continent_encoded'] = label_encoder.fit_transform(df_cleaned['continent'])\n"
          ]
        }
      ]
    },
    {
      "cell_type": "code",
      "source": [
        "df_cleaned['continent_encoded'].value_counts()"
      ],
      "metadata": {
        "colab": {
          "base_uri": "https://localhost:8080/"
        },
        "id": "K7lQF4yvprgT",
        "outputId": "5a2126e9-0578-43ec-e190-1867a36e6b7f"
      },
      "id": "K7lQF4yvprgT",
      "execution_count": null,
      "outputs": [
        {
          "output_type": "execute_result",
          "data": {
            "text/plain": [
              "2    4538\n",
              "3     468\n",
              "1     349\n",
              "0      37\n",
              "4      29\n",
              "Name: continent_encoded, dtype: int64"
            ]
          },
          "metadata": {},
          "execution_count": 146
        }
      ]
    },
    {
      "cell_type": "code",
      "source": [
        "df_cleaned = df_cleaned.drop(columns = 'continent', axis = 1)"
      ],
      "metadata": {
        "id": "yQEP2AIipcK7"
      },
      "id": "yQEP2AIipcK7",
      "execution_count": null,
      "outputs": []
    },
    {
      "cell_type": "markdown",
      "source": [
        "### age_rating 값 처리"
      ],
      "metadata": {
        "id": "PpOqSQYyqHKb"
      },
      "id": "PpOqSQYyqHKb"
    },
    {
      "cell_type": "code",
      "source": [
        "df_cleaned['age_rating'].value_counts()"
      ],
      "metadata": {
        "colab": {
          "base_uri": "https://localhost:8080/"
        },
        "id": "ynZzKRjGqHBT",
        "outputId": "ea424c48-6734-4ba1-cdaf-ab522f505602"
      },
      "id": "ynZzKRjGqHBT",
      "execution_count": null,
      "outputs": [
        {
          "output_type": "execute_result",
          "data": {
            "text/plain": [
              "15                                                                          1991\n",
              "18                                                                          1364\n",
              "12                                                                           780\n",
              "All                                                                          658\n",
              "PG                                                                           111\n",
              "                                                                            ... \n",
              "Rated R for some strong sexuality, and for language                            1\n",
              "Rated R for violence, pervasive language, some sexuality and drug use          1\n",
              "Rated R for some strong sexuality and language                                 1\n",
              "Rated R for language and a scene of sexuality                                  1\n",
              "Rated R for pervasive language and some violence, sexuality and drug use       1\n",
              "Name: age_rating, Length: 79, dtype: int64"
            ]
          },
          "metadata": {},
          "execution_count": 148
        }
      ]
    },
    {
      "cell_type": "code",
      "source": [
        "# unique_ratings = df_cleaned['age_rating'].unique()\n",
        "\n",
        "# # Print the unique values\n",
        "# for rating in unique_ratings:\n",
        "#     print(rating)\n"
      ],
      "metadata": {
        "id": "cZ0q7nCtqPMh"
      },
      "id": "cZ0q7nCtqPMh",
      "execution_count": null,
      "outputs": []
    },
    {
      "cell_type": "code",
      "source": [
        "df_cleaned = df_cleaned.drop(columns = 'age_rating', axis = 1)"
      ],
      "metadata": {
        "id": "OLxPGhDbezbb"
      },
      "id": "OLxPGhDbezbb",
      "execution_count": null,
      "outputs": []
    },
    {
      "cell_type": "code",
      "source": [
        "df_cleaned"
      ],
      "metadata": {
        "colab": {
          "base_uri": "https://localhost:8080/",
          "height": 424
        },
        "id": "tDV0V4NSe519",
        "outputId": "b7c03886-ae33-4f42-fafc-1207604a3ad2"
      },
      "id": "tDV0V4NSe519",
      "execution_count": null,
      "outputs": [
        {
          "output_type": "execute_result",
          "data": {
            "text/plain": [
              "       userId  movieId  rating    era                 runtime  \\\n",
              "8           1      151     5.0  ['B']    [1.5768295633827332]   \n",
              "30          1      552     4.0  ['B']  [-0.10462153901646631]   \n",
              "91          1     1348     4.0  ['S']   [-0.6486204250867958]   \n",
              "98          1     1517     5.0  ['B']   [-0.6486204250867958]   \n",
              "110         1     1793     4.0  ['B']  [-0.05516709482825472]   \n",
              "...       ...      ...     ...    ...                     ...   \n",
              "99660     610     3089     3.0  ['G']   [-0.8958926460278546]   \n",
              "99664     610     3174     4.0  ['B']    [0.5382862354302871]   \n",
              "99666     610     3265     5.0  ['B']    [1.0328306773124043]   \n",
              "99668     610     3285     3.5  ['C']    [0.5877406796184986]   \n",
              "99671     610     3328     5.0  ['B']    [0.4393773470538632]   \n",
              "\n",
              "       continent_encoded  \n",
              "8                      2  \n",
              "30                     2  \n",
              "91                     2  \n",
              "98                     2  \n",
              "110                    2  \n",
              "...                  ...  \n",
              "99660                  2  \n",
              "99664                  2  \n",
              "99666                  1  \n",
              "99668                  2  \n",
              "99671                  2  \n",
              "\n",
              "[5421 rows x 6 columns]"
            ],
            "text/html": [
              "\n",
              "  <div id=\"df-33cfe48d-c589-40d7-95bc-0592c61ea36a\" class=\"colab-df-container\">\n",
              "    <div>\n",
              "<style scoped>\n",
              "    .dataframe tbody tr th:only-of-type {\n",
              "        vertical-align: middle;\n",
              "    }\n",
              "\n",
              "    .dataframe tbody tr th {\n",
              "        vertical-align: top;\n",
              "    }\n",
              "\n",
              "    .dataframe thead th {\n",
              "        text-align: right;\n",
              "    }\n",
              "</style>\n",
              "<table border=\"1\" class=\"dataframe\">\n",
              "  <thead>\n",
              "    <tr style=\"text-align: right;\">\n",
              "      <th></th>\n",
              "      <th>userId</th>\n",
              "      <th>movieId</th>\n",
              "      <th>rating</th>\n",
              "      <th>era</th>\n",
              "      <th>runtime</th>\n",
              "      <th>continent_encoded</th>\n",
              "    </tr>\n",
              "  </thead>\n",
              "  <tbody>\n",
              "    <tr>\n",
              "      <th>8</th>\n",
              "      <td>1</td>\n",
              "      <td>151</td>\n",
              "      <td>5.0</td>\n",
              "      <td>['B']</td>\n",
              "      <td>[1.5768295633827332]</td>\n",
              "      <td>2</td>\n",
              "    </tr>\n",
              "    <tr>\n",
              "      <th>30</th>\n",
              "      <td>1</td>\n",
              "      <td>552</td>\n",
              "      <td>4.0</td>\n",
              "      <td>['B']</td>\n",
              "      <td>[-0.10462153901646631]</td>\n",
              "      <td>2</td>\n",
              "    </tr>\n",
              "    <tr>\n",
              "      <th>91</th>\n",
              "      <td>1</td>\n",
              "      <td>1348</td>\n",
              "      <td>4.0</td>\n",
              "      <td>['S']</td>\n",
              "      <td>[-0.6486204250867958]</td>\n",
              "      <td>2</td>\n",
              "    </tr>\n",
              "    <tr>\n",
              "      <th>98</th>\n",
              "      <td>1</td>\n",
              "      <td>1517</td>\n",
              "      <td>5.0</td>\n",
              "      <td>['B']</td>\n",
              "      <td>[-0.6486204250867958]</td>\n",
              "      <td>2</td>\n",
              "    </tr>\n",
              "    <tr>\n",
              "      <th>110</th>\n",
              "      <td>1</td>\n",
              "      <td>1793</td>\n",
              "      <td>4.0</td>\n",
              "      <td>['B']</td>\n",
              "      <td>[-0.05516709482825472]</td>\n",
              "      <td>2</td>\n",
              "    </tr>\n",
              "    <tr>\n",
              "      <th>...</th>\n",
              "      <td>...</td>\n",
              "      <td>...</td>\n",
              "      <td>...</td>\n",
              "      <td>...</td>\n",
              "      <td>...</td>\n",
              "      <td>...</td>\n",
              "    </tr>\n",
              "    <tr>\n",
              "      <th>99660</th>\n",
              "      <td>610</td>\n",
              "      <td>3089</td>\n",
              "      <td>3.0</td>\n",
              "      <td>['G']</td>\n",
              "      <td>[-0.8958926460278546]</td>\n",
              "      <td>2</td>\n",
              "    </tr>\n",
              "    <tr>\n",
              "      <th>99664</th>\n",
              "      <td>610</td>\n",
              "      <td>3174</td>\n",
              "      <td>4.0</td>\n",
              "      <td>['B']</td>\n",
              "      <td>[0.5382862354302871]</td>\n",
              "      <td>2</td>\n",
              "    </tr>\n",
              "    <tr>\n",
              "      <th>99666</th>\n",
              "      <td>610</td>\n",
              "      <td>3265</td>\n",
              "      <td>5.0</td>\n",
              "      <td>['B']</td>\n",
              "      <td>[1.0328306773124043]</td>\n",
              "      <td>1</td>\n",
              "    </tr>\n",
              "    <tr>\n",
              "      <th>99668</th>\n",
              "      <td>610</td>\n",
              "      <td>3285</td>\n",
              "      <td>3.5</td>\n",
              "      <td>['C']</td>\n",
              "      <td>[0.5877406796184986]</td>\n",
              "      <td>2</td>\n",
              "    </tr>\n",
              "    <tr>\n",
              "      <th>99671</th>\n",
              "      <td>610</td>\n",
              "      <td>3328</td>\n",
              "      <td>5.0</td>\n",
              "      <td>['B']</td>\n",
              "      <td>[0.4393773470538632]</td>\n",
              "      <td>2</td>\n",
              "    </tr>\n",
              "  </tbody>\n",
              "</table>\n",
              "<p>5421 rows × 6 columns</p>\n",
              "</div>\n",
              "    <div class=\"colab-df-buttons\">\n",
              "\n",
              "  <div class=\"colab-df-container\">\n",
              "    <button class=\"colab-df-convert\" onclick=\"convertToInteractive('df-33cfe48d-c589-40d7-95bc-0592c61ea36a')\"\n",
              "            title=\"Convert this dataframe to an interactive table.\"\n",
              "            style=\"display:none;\">\n",
              "\n",
              "  <svg xmlns=\"http://www.w3.org/2000/svg\" height=\"24px\" viewBox=\"0 -960 960 960\">\n",
              "    <path d=\"M120-120v-720h720v720H120Zm60-500h600v-160H180v160Zm220 220h160v-160H400v160Zm0 220h160v-160H400v160ZM180-400h160v-160H180v160Zm440 0h160v-160H620v160ZM180-180h160v-160H180v160Zm440 0h160v-160H620v160Z\"/>\n",
              "  </svg>\n",
              "    </button>\n",
              "\n",
              "  <style>\n",
              "    .colab-df-container {\n",
              "      display:flex;\n",
              "      gap: 12px;\n",
              "    }\n",
              "\n",
              "    .colab-df-convert {\n",
              "      background-color: #E8F0FE;\n",
              "      border: none;\n",
              "      border-radius: 50%;\n",
              "      cursor: pointer;\n",
              "      display: none;\n",
              "      fill: #1967D2;\n",
              "      height: 32px;\n",
              "      padding: 0 0 0 0;\n",
              "      width: 32px;\n",
              "    }\n",
              "\n",
              "    .colab-df-convert:hover {\n",
              "      background-color: #E2EBFA;\n",
              "      box-shadow: 0px 1px 2px rgba(60, 64, 67, 0.3), 0px 1px 3px 1px rgba(60, 64, 67, 0.15);\n",
              "      fill: #174EA6;\n",
              "    }\n",
              "\n",
              "    .colab-df-buttons div {\n",
              "      margin-bottom: 4px;\n",
              "    }\n",
              "\n",
              "    [theme=dark] .colab-df-convert {\n",
              "      background-color: #3B4455;\n",
              "      fill: #D2E3FC;\n",
              "    }\n",
              "\n",
              "    [theme=dark] .colab-df-convert:hover {\n",
              "      background-color: #434B5C;\n",
              "      box-shadow: 0px 1px 3px 1px rgba(0, 0, 0, 0.15);\n",
              "      filter: drop-shadow(0px 1px 2px rgba(0, 0, 0, 0.3));\n",
              "      fill: #FFFFFF;\n",
              "    }\n",
              "  </style>\n",
              "\n",
              "    <script>\n",
              "      const buttonEl =\n",
              "        document.querySelector('#df-33cfe48d-c589-40d7-95bc-0592c61ea36a button.colab-df-convert');\n",
              "      buttonEl.style.display =\n",
              "        google.colab.kernel.accessAllowed ? 'block' : 'none';\n",
              "\n",
              "      async function convertToInteractive(key) {\n",
              "        const element = document.querySelector('#df-33cfe48d-c589-40d7-95bc-0592c61ea36a');\n",
              "        const dataTable =\n",
              "          await google.colab.kernel.invokeFunction('convertToInteractive',\n",
              "                                                    [key], {});\n",
              "        if (!dataTable) return;\n",
              "\n",
              "        const docLinkHtml = 'Like what you see? Visit the ' +\n",
              "          '<a target=\"_blank\" href=https://colab.research.google.com/notebooks/data_table.ipynb>data table notebook</a>'\n",
              "          + ' to learn more about interactive tables.';\n",
              "        element.innerHTML = '';\n",
              "        dataTable['output_type'] = 'display_data';\n",
              "        await google.colab.output.renderOutput(dataTable, element);\n",
              "        const docLink = document.createElement('div');\n",
              "        docLink.innerHTML = docLinkHtml;\n",
              "        element.appendChild(docLink);\n",
              "      }\n",
              "    </script>\n",
              "  </div>\n",
              "\n",
              "\n",
              "<div id=\"df-d51982f3-e812-4149-b894-7a51e2dc9c10\">\n",
              "  <button class=\"colab-df-quickchart\" onclick=\"quickchart('df-d51982f3-e812-4149-b894-7a51e2dc9c10')\"\n",
              "            title=\"Suggest charts\"\n",
              "            style=\"display:none;\">\n",
              "\n",
              "<svg xmlns=\"http://www.w3.org/2000/svg\" height=\"24px\"viewBox=\"0 0 24 24\"\n",
              "     width=\"24px\">\n",
              "    <g>\n",
              "        <path d=\"M19 3H5c-1.1 0-2 .9-2 2v14c0 1.1.9 2 2 2h14c1.1 0 2-.9 2-2V5c0-1.1-.9-2-2-2zM9 17H7v-7h2v7zm4 0h-2V7h2v10zm4 0h-2v-4h2v4z\"/>\n",
              "    </g>\n",
              "</svg>\n",
              "  </button>\n",
              "\n",
              "<style>\n",
              "  .colab-df-quickchart {\n",
              "      --bg-color: #E8F0FE;\n",
              "      --fill-color: #1967D2;\n",
              "      --hover-bg-color: #E2EBFA;\n",
              "      --hover-fill-color: #174EA6;\n",
              "      --disabled-fill-color: #AAA;\n",
              "      --disabled-bg-color: #DDD;\n",
              "  }\n",
              "\n",
              "  [theme=dark] .colab-df-quickchart {\n",
              "      --bg-color: #3B4455;\n",
              "      --fill-color: #D2E3FC;\n",
              "      --hover-bg-color: #434B5C;\n",
              "      --hover-fill-color: #FFFFFF;\n",
              "      --disabled-bg-color: #3B4455;\n",
              "      --disabled-fill-color: #666;\n",
              "  }\n",
              "\n",
              "  .colab-df-quickchart {\n",
              "    background-color: var(--bg-color);\n",
              "    border: none;\n",
              "    border-radius: 50%;\n",
              "    cursor: pointer;\n",
              "    display: none;\n",
              "    fill: var(--fill-color);\n",
              "    height: 32px;\n",
              "    padding: 0;\n",
              "    width: 32px;\n",
              "  }\n",
              "\n",
              "  .colab-df-quickchart:hover {\n",
              "    background-color: var(--hover-bg-color);\n",
              "    box-shadow: 0 1px 2px rgba(60, 64, 67, 0.3), 0 1px 3px 1px rgba(60, 64, 67, 0.15);\n",
              "    fill: var(--button-hover-fill-color);\n",
              "  }\n",
              "\n",
              "  .colab-df-quickchart-complete:disabled,\n",
              "  .colab-df-quickchart-complete:disabled:hover {\n",
              "    background-color: var(--disabled-bg-color);\n",
              "    fill: var(--disabled-fill-color);\n",
              "    box-shadow: none;\n",
              "  }\n",
              "\n",
              "  .colab-df-spinner {\n",
              "    border: 2px solid var(--fill-color);\n",
              "    border-color: transparent;\n",
              "    border-bottom-color: var(--fill-color);\n",
              "    animation:\n",
              "      spin 1s steps(1) infinite;\n",
              "  }\n",
              "\n",
              "  @keyframes spin {\n",
              "    0% {\n",
              "      border-color: transparent;\n",
              "      border-bottom-color: var(--fill-color);\n",
              "      border-left-color: var(--fill-color);\n",
              "    }\n",
              "    20% {\n",
              "      border-color: transparent;\n",
              "      border-left-color: var(--fill-color);\n",
              "      border-top-color: var(--fill-color);\n",
              "    }\n",
              "    30% {\n",
              "      border-color: transparent;\n",
              "      border-left-color: var(--fill-color);\n",
              "      border-top-color: var(--fill-color);\n",
              "      border-right-color: var(--fill-color);\n",
              "    }\n",
              "    40% {\n",
              "      border-color: transparent;\n",
              "      border-right-color: var(--fill-color);\n",
              "      border-top-color: var(--fill-color);\n",
              "    }\n",
              "    60% {\n",
              "      border-color: transparent;\n",
              "      border-right-color: var(--fill-color);\n",
              "    }\n",
              "    80% {\n",
              "      border-color: transparent;\n",
              "      border-right-color: var(--fill-color);\n",
              "      border-bottom-color: var(--fill-color);\n",
              "    }\n",
              "    90% {\n",
              "      border-color: transparent;\n",
              "      border-bottom-color: var(--fill-color);\n",
              "    }\n",
              "  }\n",
              "</style>\n",
              "\n",
              "  <script>\n",
              "    async function quickchart(key) {\n",
              "      const quickchartButtonEl =\n",
              "        document.querySelector('#' + key + ' button');\n",
              "      quickchartButtonEl.disabled = true;  // To prevent multiple clicks.\n",
              "      quickchartButtonEl.classList.add('colab-df-spinner');\n",
              "      try {\n",
              "        const charts = await google.colab.kernel.invokeFunction(\n",
              "            'suggestCharts', [key], {});\n",
              "      } catch (error) {\n",
              "        console.error('Error during call to suggestCharts:', error);\n",
              "      }\n",
              "      quickchartButtonEl.classList.remove('colab-df-spinner');\n",
              "      quickchartButtonEl.classList.add('colab-df-quickchart-complete');\n",
              "    }\n",
              "    (() => {\n",
              "      let quickchartButtonEl =\n",
              "        document.querySelector('#df-d51982f3-e812-4149-b894-7a51e2dc9c10 button');\n",
              "      quickchartButtonEl.style.display =\n",
              "        google.colab.kernel.accessAllowed ? 'block' : 'none';\n",
              "    })();\n",
              "  </script>\n",
              "</div>\n",
              "    </div>\n",
              "  </div>\n"
            ]
          },
          "metadata": {},
          "execution_count": 151
        }
      ]
    },
    {
      "cell_type": "markdown",
      "source": [
        "### rating 값 반올림 시행"
      ],
      "metadata": {
        "id": "8a0IwEbenf0t"
      },
      "id": "8a0IwEbenf0t"
    },
    {
      "cell_type": "code",
      "source": [
        "df_cleaned['rating'].value_counts()"
      ],
      "metadata": {
        "colab": {
          "base_uri": "https://localhost:8080/"
        },
        "id": "HBVvR8JvnfVE",
        "outputId": "4456d5b2-e129-4d5f-f188-85f22e242315"
      },
      "id": "HBVvR8JvnfVE",
      "execution_count": null,
      "outputs": [
        {
          "output_type": "execute_result",
          "data": {
            "text/plain": [
              "4.0    1609\n",
              "3.0    1176\n",
              "5.0     842\n",
              "3.5     557\n",
              "4.5     397\n",
              "2.0     393\n",
              "2.5     188\n",
              "1.0     178\n",
              "1.5      42\n",
              "0.5      39\n",
              "Name: rating, dtype: int64"
            ]
          },
          "metadata": {},
          "execution_count": 152
        }
      ]
    },
    {
      "cell_type": "code",
      "source": [
        "import math\n",
        "\n",
        "df_cleaned['rating'] = df_cleaned['rating'].apply(lambda x: math.ceil(x))"
      ],
      "metadata": {
        "id": "EKdZcMKFmHlp"
      },
      "id": "EKdZcMKFmHlp",
      "execution_count": null,
      "outputs": []
    },
    {
      "cell_type": "code",
      "source": [
        "# df_cleaned['rating'] = df_cleaned['rating'].round(-1)"
      ],
      "metadata": {
        "id": "ErMSmLm9nyvx"
      },
      "id": "ErMSmLm9nyvx",
      "execution_count": null,
      "outputs": []
    },
    {
      "cell_type": "code",
      "source": [
        "df_cleaned['rating'].value_counts()"
      ],
      "metadata": {
        "colab": {
          "base_uri": "https://localhost:8080/"
        },
        "id": "brzR3NIYn7Pm",
        "outputId": "9c6d9555-8b57-4f96-8f88-23f23f4d8651"
      },
      "id": "brzR3NIYn7Pm",
      "execution_count": null,
      "outputs": [
        {
          "output_type": "execute_result",
          "data": {
            "text/plain": [
              "4    2166\n",
              "3    1364\n",
              "5    1239\n",
              "2     435\n",
              "1     217\n",
              "Name: rating, dtype: int64"
            ]
          },
          "metadata": {},
          "execution_count": 156
        }
      ]
    },
    {
      "cell_type": "markdown",
      "source": [
        "### era 데이터 값 처리 -> Label encoding"
      ],
      "metadata": {
        "id": "ve4U7FEjgYvg"
      },
      "id": "ve4U7FEjgYvg"
    },
    {
      "cell_type": "markdown",
      "source": [
        "B -> 0 <br>\n",
        "N -> 3 <br>\n",
        "G -> 2 <br>\n",
        "S -> 4 <br>\n",
        "C -> 1 <br>"
      ],
      "metadata": {
        "id": "WZn0SibvgxJ_"
      },
      "id": "WZn0SibvgxJ_"
    },
    {
      "cell_type": "code",
      "source": [
        "df_cleaned['era_encoded'] = label_encoder.fit_transform(df_cleaned['era'])"
      ],
      "metadata": {
        "id": "JszrLEqggYef"
      },
      "id": "JszrLEqggYef",
      "execution_count": null,
      "outputs": []
    },
    {
      "cell_type": "code",
      "source": [
        "df_cleaned['era'].value_counts()"
      ],
      "metadata": {
        "colab": {
          "base_uri": "https://localhost:8080/"
        },
        "id": "BqLcnOVIgnvE",
        "outputId": "8896e9e3-e67a-4d27-a700-22d9ceecb892"
      },
      "id": "BqLcnOVIgnvE",
      "execution_count": null,
      "outputs": [
        {
          "output_type": "execute_result",
          "data": {
            "text/plain": [
              "['B']    3914\n",
              "['N']     924\n",
              "['G']     504\n",
              "['S']      41\n",
              "['C']      38\n",
              "Name: era, dtype: int64"
            ]
          },
          "metadata": {},
          "execution_count": 158
        }
      ]
    },
    {
      "cell_type": "code",
      "source": [
        "df_cleaned['era_encoded'].value_counts()"
      ],
      "metadata": {
        "colab": {
          "base_uri": "https://localhost:8080/"
        },
        "id": "dZ3oyFEkgutl",
        "outputId": "adc90a80-76ef-45a0-f6de-1e5b0331194d"
      },
      "id": "dZ3oyFEkgutl",
      "execution_count": null,
      "outputs": [
        {
          "output_type": "execute_result",
          "data": {
            "text/plain": [
              "0    3914\n",
              "3     924\n",
              "2     504\n",
              "4      41\n",
              "1      38\n",
              "Name: era_encoded, dtype: int64"
            ]
          },
          "metadata": {},
          "execution_count": 159
        }
      ]
    },
    {
      "cell_type": "code",
      "source": [
        "df_cleaned = df_cleaned.drop(columns = 'era', axis = 1)"
      ],
      "metadata": {
        "id": "aHNVzzPrhEoO"
      },
      "id": "aHNVzzPrhEoO",
      "execution_count": null,
      "outputs": []
    },
    {
      "cell_type": "markdown",
      "source": [
        "### runtime 데이터 처리"
      ],
      "metadata": {
        "id": "R4ty_XH-hlHY"
      },
      "id": "R4ty_XH-hlHY"
    },
    {
      "cell_type": "code",
      "source": [
        "df_cleaned['runtime'] = df_cleaned['runtime'].str.replace(r'[\\[\\]]', '')\n",
        "df_cleaned['runtime'] = df_cleaned['runtime'].astype(float)\n",
        "df_cleaned.info()"
      ],
      "metadata": {
        "colab": {
          "base_uri": "https://localhost:8080/"
        },
        "id": "bX6IYWqLhokx",
        "outputId": "6f200fc7-c5d1-4c64-cb11-5608a7c9122e"
      },
      "id": "bX6IYWqLhokx",
      "execution_count": null,
      "outputs": [
        {
          "output_type": "stream",
          "name": "stdout",
          "text": [
            "<class 'pandas.core.frame.DataFrame'>\n",
            "Int64Index: 5421 entries, 8 to 99671\n",
            "Data columns (total 6 columns):\n",
            " #   Column             Non-Null Count  Dtype  \n",
            "---  ------             --------------  -----  \n",
            " 0   userId             5421 non-null   int64  \n",
            " 1   movieId            5421 non-null   int64  \n",
            " 2   rating             5421 non-null   int64  \n",
            " 3   runtime            5421 non-null   float64\n",
            " 4   continent_encoded  5421 non-null   int64  \n",
            " 5   era_encoded        5421 non-null   int64  \n",
            "dtypes: float64(1), int64(5)\n",
            "memory usage: 296.5 KB\n"
          ]
        },
        {
          "output_type": "stream",
          "name": "stderr",
          "text": [
            "<ipython-input-161-bf90a1571b9e>:1: FutureWarning: The default value of regex will change from True to False in a future version.\n",
            "  df_cleaned['runtime'] = df_cleaned['runtime'].str.replace(r'[\\[\\]]', '')\n"
          ]
        }
      ]
    },
    {
      "cell_type": "markdown",
      "source": [
        "### 데이터 확인"
      ],
      "metadata": {
        "id": "SDOjnhFYhjlj"
      },
      "id": "SDOjnhFYhjlj"
    },
    {
      "cell_type": "code",
      "source": [
        "df_cleaned.columns[df_cleaned.isna().any()].tolist() #isna NULL 값을 찾기, any()를 사용해서 모든 컬럼"
      ],
      "metadata": {
        "colab": {
          "base_uri": "https://localhost:8080/"
        },
        "id": "lyC4zTROfCiD",
        "outputId": "d553d8f0-f703-4f75-cffd-617a2fa9efdd"
      },
      "id": "lyC4zTROfCiD",
      "execution_count": null,
      "outputs": [
        {
          "output_type": "execute_result",
          "data": {
            "text/plain": [
              "[]"
            ]
          },
          "metadata": {},
          "execution_count": 162
        }
      ]
    },
    {
      "cell_type": "code",
      "source": [
        "df_cleaned = df_cleaned.reset_index(drop=True)\n",
        "df_cleaned.info()"
      ],
      "metadata": {
        "colab": {
          "base_uri": "https://localhost:8080/"
        },
        "id": "xSUOLC-LfdFn",
        "outputId": "4a9ef528-cc39-4472-a492-14b025541428"
      },
      "id": "xSUOLC-LfdFn",
      "execution_count": null,
      "outputs": [
        {
          "output_type": "stream",
          "name": "stdout",
          "text": [
            "<class 'pandas.core.frame.DataFrame'>\n",
            "RangeIndex: 5421 entries, 0 to 5420\n",
            "Data columns (total 6 columns):\n",
            " #   Column             Non-Null Count  Dtype  \n",
            "---  ------             --------------  -----  \n",
            " 0   userId             5421 non-null   int64  \n",
            " 1   movieId            5421 non-null   int64  \n",
            " 2   rating             5421 non-null   int64  \n",
            " 3   runtime            5421 non-null   float64\n",
            " 4   continent_encoded  5421 non-null   int64  \n",
            " 5   era_encoded        5421 non-null   int64  \n",
            "dtypes: float64(1), int64(5)\n",
            "memory usage: 254.2 KB\n"
          ]
        }
      ]
    },
    {
      "cell_type": "markdown",
      "source": [
        "## Spark"
      ],
      "metadata": {
        "id": "aO61UEexm7ML"
      },
      "id": "aO61UEexm7ML"
    },
    {
      "cell_type": "markdown",
      "source": [
        "### Spark dataframe으로 변경"
      ],
      "metadata": {
        "id": "51JfoJf3nJsx"
      },
      "id": "51JfoJf3nJsx"
    },
    {
      "cell_type": "code",
      "source": [
        "from pyspark.sql import Row\n",
        "\n",
        "# Pandas 데이터프레임의 컬럼 이름 추출\n",
        "columns = df_cleaned.columns\n",
        "\n",
        "# Pandas 데이터프레임의 데이터를 리스트로 추출\n",
        "data_rows = df_cleaned.values.tolist()\n",
        "\n",
        "# Spark 데이터프레임 생성\n",
        "spark_df = spark.createDataFrame([Row(**{col: val for col, val in zip(columns, row)}) for row in data_rows])"
      ],
      "metadata": {
        "id": "K0zd6NEsnI4h"
      },
      "id": "K0zd6NEsnI4h",
      "execution_count": null,
      "outputs": []
    },
    {
      "cell_type": "code",
      "source": [
        "spark_df.show(5)"
      ],
      "metadata": {
        "colab": {
          "base_uri": "https://localhost:8080/"
        },
        "id": "B0wHFqgPnLkp",
        "outputId": "9dd80765-43aa-4f52-c7ac-b5f554cb0811"
      },
      "id": "B0wHFqgPnLkp",
      "execution_count": null,
      "outputs": [
        {
          "output_type": "stream",
          "name": "stdout",
          "text": [
            "+------+-------+------+--------------------+-----------------+-----------+\n",
            "|userId|movieId|rating|             runtime|continent_encoded|era_encoded|\n",
            "+------+-------+------+--------------------+-----------------+-----------+\n",
            "|   1.0|  151.0|   5.0|  1.5768295633827332|              2.0|        0.0|\n",
            "|   1.0|  552.0|   4.0|-0.10462153901646631|              2.0|        0.0|\n",
            "|   1.0| 1348.0|   4.0| -0.6486204250867958|              2.0|        4.0|\n",
            "|   1.0| 1517.0|   5.0| -0.6486204250867958|              2.0|        0.0|\n",
            "|   1.0| 1793.0|   4.0|-0.05516709482825472|              2.0|        0.0|\n",
            "+------+-------+------+--------------------+-----------------+-----------+\n",
            "only showing top 5 rows\n",
            "\n"
          ]
        }
      ]
    },
    {
      "cell_type": "markdown",
      "source": [
        "### 예측을 위한 데이터 정리"
      ],
      "metadata": {
        "id": "G4ttdMf6nQmP"
      },
      "id": "G4ttdMf6nQmP"
    },
    {
      "cell_type": "code",
      "source": [
        "from pyspark.ml.linalg import Vectors\n",
        "from pyspark.ml.feature import VectorAssembler\n",
        "from pyspark.ml.feature import StringIndexer"
      ],
      "metadata": {
        "id": "J8TOQweck8tN"
      },
      "id": "J8TOQweck8tN",
      "execution_count": null,
      "outputs": []
    },
    {
      "cell_type": "code",
      "source": [
        "input_columns = ['userId', 'movieId', 'rating', 'runtime', 'continent_encoded', 'era_encoded']\n",
        "\n",
        "assembler = VectorAssembler(inputCols=input_columns, outputCol = 'features')\n",
        "output = assembler.transform(spark_df)\n",
        "output.show(5)"
      ],
      "metadata": {
        "colab": {
          "base_uri": "https://localhost:8080/"
        },
        "id": "5mG7o5HMk9Xx",
        "outputId": "f83e670d-c8b1-4bc9-b3ee-17169e0d6f0b"
      },
      "id": "5mG7o5HMk9Xx",
      "execution_count": null,
      "outputs": [
        {
          "output_type": "stream",
          "name": "stdout",
          "text": [
            "+------+-------+------+--------------------+-----------------+-----------+--------------------+\n",
            "|userId|movieId|rating|             runtime|continent_encoded|era_encoded|            features|\n",
            "+------+-------+------+--------------------+-----------------+-----------+--------------------+\n",
            "|   1.0|  151.0|   5.0|  1.5768295633827332|              2.0|        0.0|[1.0,151.0,5.0,1....|\n",
            "|   1.0|  552.0|   4.0|-0.10462153901646631|              2.0|        0.0|[1.0,552.0,4.0,-0...|\n",
            "|   1.0| 1348.0|   4.0| -0.6486204250867958|              2.0|        4.0|[1.0,1348.0,4.0,-...|\n",
            "|   1.0| 1517.0|   5.0| -0.6486204250867958|              2.0|        0.0|[1.0,1517.0,5.0,-...|\n",
            "|   1.0| 1793.0|   4.0|-0.05516709482825472|              2.0|        0.0|[1.0,1793.0,4.0,-...|\n",
            "+------+-------+------+--------------------+-----------------+-----------+--------------------+\n",
            "only showing top 5 rows\n",
            "\n"
          ]
        }
      ]
    },
    {
      "cell_type": "code",
      "source": [
        "data = output.select('features', 'rating')\n",
        "data.show(5)"
      ],
      "metadata": {
        "id": "htzvP4X7k9VP",
        "colab": {
          "base_uri": "https://localhost:8080/"
        },
        "outputId": "5641f547-1f59-43db-ed70-4fbfa2d8a31a"
      },
      "id": "htzvP4X7k9VP",
      "execution_count": null,
      "outputs": [
        {
          "output_type": "stream",
          "name": "stdout",
          "text": [
            "+--------------------+------+\n",
            "|            features|rating|\n",
            "+--------------------+------+\n",
            "|[1.0,151.0,5.0,1....|   5.0|\n",
            "|[1.0,552.0,4.0,-0...|   4.0|\n",
            "|[1.0,1348.0,4.0,-...|   4.0|\n",
            "|[1.0,1517.0,5.0,-...|   5.0|\n",
            "|[1.0,1793.0,4.0,-...|   4.0|\n",
            "+--------------------+------+\n",
            "only showing top 5 rows\n",
            "\n"
          ]
        }
      ]
    },
    {
      "cell_type": "code",
      "source": [
        "# I_indexer = StringIndexer(inputCol='rating', outputCol = 'labelIndex')\n",
        "# finalized_data = I_indexer.fit(data).transform(data)"
      ],
      "metadata": {
        "id": "7ADuFFDBoQcQ"
      },
      "id": "7ADuFFDBoQcQ",
      "execution_count": null,
      "outputs": []
    },
    {
      "cell_type": "code",
      "source": [
        "# finalized_data.show(200)"
      ],
      "metadata": {
        "id": "YW3kaYCUoRbS"
      },
      "id": "YW3kaYCUoRbS",
      "execution_count": null,
      "outputs": []
    },
    {
      "cell_type": "markdown",
      "source": [
        "## RandomForest"
      ],
      "metadata": {
        "id": "wMLrvPwYnD7x"
      },
      "id": "wMLrvPwYnD7x"
    },
    {
      "cell_type": "code",
      "source": [
        "train_data, test_data = data.randomSplit([0.7, 0.3])"
      ],
      "metadata": {
        "id": "c5J4iqBxoWHv"
      },
      "id": "c5J4iqBxoWHv",
      "execution_count": null,
      "outputs": []
    },
    {
      "cell_type": "code",
      "execution_count": null,
      "id": "99e08f1b",
      "metadata": {
        "id": "99e08f1b"
      },
      "outputs": [],
      "source": [
        "rf = RandomForestClassifier(numTrees=100, featuresCol=\"features\", labelCol=\"rating\")\n",
        "model = rf.fit(train_data)"
      ]
    },
    {
      "cell_type": "code",
      "execution_count": null,
      "id": "57ed05e6",
      "metadata": {
        "id": "57ed05e6",
        "colab": {
          "base_uri": "https://localhost:8080/"
        },
        "outputId": "015ba0af-5e19-4e5f-d016-30550383273d"
      },
      "outputs": [
        {
          "output_type": "stream",
          "name": "stdout",
          "text": [
            "Feature Importances: (6,[0,1,2,3,4,5],[0.005534652268249565,0.004311569487274666,0.9834813415058836,0.0044232372778134224,0.00154290355355178,0.0007062959072268939])\n"
          ]
        }
      ],
      "source": [
        "importances = model.featureImportances\n",
        "print(\"Feature Importances:\", importances)\n"
      ]
    },
    {
      "cell_type": "code",
      "source": [
        "importances"
      ],
      "metadata": {
        "colab": {
          "base_uri": "https://localhost:8080/"
        },
        "id": "rNjVM7M1liDK",
        "outputId": "a76b7c96-bb0e-4826-fc62-68dba4588392"
      },
      "id": "rNjVM7M1liDK",
      "execution_count": null,
      "outputs": [
        {
          "output_type": "execute_result",
          "data": {
            "text/plain": [
              "SparseVector(6, {0: 0.0055, 1: 0.0043, 2: 0.9835, 3: 0.0044, 4: 0.0015, 5: 0.0007})"
            ]
          },
          "metadata": {},
          "execution_count": 175
        }
      ]
    },
    {
      "cell_type": "code",
      "source": [
        "import matplotlib.pyplot as plt\n",
        "\n",
        "# Define the feature names and importances\n",
        "feature_names = [\"Feature 0\", \"Feature 1\", \"Feature 2\", \"Feature 3\", \"Feature 4\", \"Feature 5\"]\n",
        "# Create a bar chart\n",
        "plt.figure(figsize=(10, 6))\n",
        "plt.barh(feature_names, importances, color='skyblue')\n",
        "plt.xlabel('Importance')\n",
        "plt.title('Feature Importances')\n",
        "plt.gca().invert_yaxis()  # Invert y-axis for better readability\n",
        "plt.show()"
      ],
      "metadata": {
        "colab": {
          "base_uri": "https://localhost:8080/",
          "height": 564
        },
        "id": "o9aqEmqslNmm",
        "outputId": "7ff725be-eb95-40e9-cfd8-0ae70dde8393"
      },
      "id": "o9aqEmqslNmm",
      "execution_count": null,
      "outputs": [
        {
          "output_type": "display_data",
          "data": {
            "text/plain": [
              "<Figure size 1000x600 with 1 Axes>"
            ],
            "image/png": "[encoded data removed]"
          },
          "metadata": {}
        }
      ]
    },
    {
      "cell_type": "code",
      "source": [
        "importances_list = importances.tolist()\n",
        "\n",
        "# Get the indices of the features sorted by importance (descending order)\n",
        "sorted_indices = sorted(range(len(importances_list)), key=lambda i: importances_list[i], reverse=True)\n",
        "\n",
        "feature_columns = ['userId', 'movieId', 'rating', 'runtime', 'continent_encoded', 'era_encoded']\n",
        "\n",
        "# Get the sorted feature names\n",
        "sorted_features = [feature_columns[i] for i in sorted_indices]\n",
        "\n",
        "# Plot feature importances\n",
        "plt.figure(figsize=(10, 6))\n",
        "plt.barh(sorted_features, importances_list)\n",
        "plt.xlabel(\"Feature Importance\")\n",
        "plt.title(\"RandomForest Feature Importances\")\n",
        "plt.gca().invert_yaxis()  # Invert y-axis for better visualization\n",
        "plt.show()\n"
      ],
      "metadata": {
        "colab": {
          "base_uri": "https://localhost:8080/",
          "height": 258
        },
        "id": "hI5zCNkA20pG",
        "outputId": "e2cb2821-4ab6-490c-b6bb-63d28258ae42"
      },
      "id": "hI5zCNkA20pG",
      "execution_count": null,
      "outputs": [
        {
          "output_type": "error",
          "ename": "AttributeError",
          "evalue": "ignored",
          "traceback": [
            "\u001b[0;31m---------------------------------------------------------------------------\u001b[0m",
            "\u001b[0;31mAttributeError\u001b[0m                            Traceback (most recent call last)",
            "\u001b[0;32m<ipython-input-178-0c8efa9483d2>\u001b[0m in \u001b[0;36m<cell line: 1>\u001b[0;34m()\u001b[0m\n\u001b[0;32m----> 1\u001b[0;31m \u001b[0mimportances_list\u001b[0m \u001b[0;34m=\u001b[0m \u001b[0mimportances\u001b[0m\u001b[0;34m.\u001b[0m\u001b[0mtolist\u001b[0m\u001b[0;34m(\u001b[0m\u001b[0;34m)\u001b[0m\u001b[0;34m\u001b[0m\u001b[0;34m\u001b[0m\u001b[0m\n\u001b[0m\u001b[1;32m      2\u001b[0m \u001b[0;34m\u001b[0m\u001b[0m\n\u001b[1;32m      3\u001b[0m \u001b[0;31m# Get the indices of the features sorted by importance (descending order)\u001b[0m\u001b[0;34m\u001b[0m\u001b[0;34m\u001b[0m\u001b[0m\n\u001b[1;32m      4\u001b[0m \u001b[0;31m# sorted_indices = sorted(range(len(importances_list)), key=lambda i: importances_list[i], reverse=True)\u001b[0m\u001b[0;34m\u001b[0m\u001b[0;34m\u001b[0m\u001b[0m\n\u001b[1;32m      5\u001b[0m \u001b[0;34m\u001b[0m\u001b[0m\n",
            "\u001b[0;31mAttributeError\u001b[0m: 'SparseVector' object has no attribute 'tolist'"
          ]
        }
      ]
    },
    {
      "cell_type": "code",
      "source": [
        "# Set a threshold for feature importance\n",
        "# importance_threshold = 0.05  # Adjust this value as needed\n",
        "\n",
        "# # Get the names of important feature columns\n",
        "# important_features = [feature_names[i] for i, score in enumerate(importances) if score >= importance_threshold]\n"
      ],
      "metadata": {
        "id": "61PN6TNprEWQ"
      },
      "id": "61PN6TNprEWQ",
      "execution_count": 1,
      "outputs": []
    },
    {
      "cell_type": "code",
      "source": [
        "# # Select only the important features from the original DataFrame\n",
        "# selected_features_df = df[important_features + [\"label\"]]\n",
        "\n",
        "# # Assemble the selected features into a vector column\n",
        "# assembler = VectorAssembler(inputCols=important_features, outputCol=\"features\")\n",
        "# selected_features_df = assembler.transform(selected_features_df)"
      ],
      "metadata": {
        "id": "l3cdK4tvrIBZ"
      },
      "id": "l3cdK4tvrIBZ",
      "execution_count": 2,
      "outputs": []
    },
    {
      "cell_type": "code",
      "source": [
        "train_data.take(1)"
      ],
      "metadata": {
        "id": "I9ie1qAiChGz"
      },
      "id": "I9ie1qAiChGz",
      "execution_count": null,
      "outputs": []
    },
    {
      "cell_type": "code",
      "execution_count": null,
      "id": "66c5a468",
      "metadata": {
        "id": "66c5a468"
      },
      "outputs": [],
      "source": [
        "spark.stop()"
      ]
    },
    {
      "cell_type": "code",
      "execution_count": null,
      "id": "2f89c34b",
      "metadata": {
        "id": "2f89c34b"
      },
      "outputs": [],
      "source": []
    }
  ],
  "metadata": {
    "kernelspec": {
      "display_name": "Python 3 (ipykernel)",
      "language": "python",
      "name": "python3"
    },
    "language_info": {
      "codemirror_mode": {
        "name": "ipython",
        "version": 3
      },
      "file_extension": ".py",
      "mimetype": "text/x-python",
      "name": "python",
      "nbconvert_exporter": "python",
      "pygments_lexer": "ipython3",
      "version": "3.11.5"
    },
    "colab": {
      "provenance": []
    }
  },
  "nbformat": 4,
  "nbformat_minor": 5
}