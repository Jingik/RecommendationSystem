{
 "cells": [
  {
   "cell_type": "code",
   "execution_count": 1,
   "id": "881ca465",
   "metadata": {},
   "outputs": [
    {
     "data": {
      "text/html": [
       "<div>\n",
       "<style scoped>\n",
       "    .dataframe tbody tr th:only-of-type {\n",
       "        vertical-align: middle;\n",
       "    }\n",
       "\n",
       "    .dataframe tbody tr th {\n",
       "        vertical-align: top;\n",
       "    }\n",
       "\n",
       "    .dataframe thead th {\n",
       "        text-align: right;\n",
       "    }\n",
       "</style>\n",
       "<table border=\"1\" class=\"dataframe\">\n",
       "  <thead>\n",
       "    <tr style=\"text-align: right;\">\n",
       "      <th></th>\n",
       "      <th>movieId</th>\n",
       "      <th>title</th>\n",
       "      <th>genres</th>\n",
       "    </tr>\n",
       "  </thead>\n",
       "  <tbody>\n",
       "    <tr>\n",
       "      <th>0</th>\n",
       "      <td>1</td>\n",
       "      <td>Toy Story (1995)</td>\n",
       "      <td>Adventure|Animation|Children|Comedy|Fantasy</td>\n",
       "    </tr>\n",
       "    <tr>\n",
       "      <th>1</th>\n",
       "      <td>2</td>\n",
       "      <td>Jumanji (1995)</td>\n",
       "      <td>Adventure|Children|Fantasy</td>\n",
       "    </tr>\n",
       "    <tr>\n",
       "      <th>2</th>\n",
       "      <td>3</td>\n",
       "      <td>Grumpier Old Men (1995)</td>\n",
       "      <td>Comedy|Romance</td>\n",
       "    </tr>\n",
       "    <tr>\n",
       "      <th>3</th>\n",
       "      <td>4</td>\n",
       "      <td>Waiting to Exhale (1995)</td>\n",
       "      <td>Comedy|Drama|Romance</td>\n",
       "    </tr>\n",
       "    <tr>\n",
       "      <th>4</th>\n",
       "      <td>5</td>\n",
       "      <td>Father of the Bride Part II (1995)</td>\n",
       "      <td>Comedy</td>\n",
       "    </tr>\n",
       "  </tbody>\n",
       "</table>\n",
       "</div>"
      ],
      "text/plain": [
       "   movieId                               title   \n",
       "0        1                    Toy Story (1995)  \\\n",
       "1        2                      Jumanji (1995)   \n",
       "2        3             Grumpier Old Men (1995)   \n",
       "3        4            Waiting to Exhale (1995)   \n",
       "4        5  Father of the Bride Part II (1995)   \n",
       "\n",
       "                                        genres  \n",
       "0  Adventure|Animation|Children|Comedy|Fantasy  \n",
       "1                   Adventure|Children|Fantasy  \n",
       "2                               Comedy|Romance  \n",
       "3                         Comedy|Drama|Romance  \n",
       "4                                       Comedy  "
      ]
     },
     "execution_count": 1,
     "metadata": {},
     "output_type": "execute_result"
    }
   ],
   "source": [
    "import pandas as pd\n",
    "import numpy as np\n",
    "\n",
    "path =('class/')\n",
    "\n",
    "movies_data = pd.read_csv(path+'movies.csv')\n",
    "movies_data.head()"
   ]
  },
  {
   "cell_type": "code",
   "execution_count": 2,
   "id": "4f10379b",
   "metadata": {},
   "outputs": [
    {
     "data": {
      "text/plain": [
       "(9742, 3)"
      ]
     },
     "execution_count": 2,
     "metadata": {},
     "output_type": "execute_result"
    }
   ],
   "source": [
    "movies_data.shape"
   ]
  },
  {
   "cell_type": "code",
   "execution_count": 49,
   "id": "1ba3aa96",
   "metadata": {},
   "outputs": [],
   "source": [
    "movie_dataset = movies_data.copy()"
   ]
  },
  {
   "cell_type": "markdown",
   "id": "bcc17635",
   "metadata": {},
   "source": [
    "**메인 데이터 파일**\n",
    "-  MovieLens 웹 사이트( http://movielens.org) 에서 수집한 데이터"
   ]
  },
  {
   "cell_type": "code",
   "execution_count": 3,
   "id": "12531b5e",
   "metadata": {},
   "outputs": [
    {
     "name": "stdout",
     "output_type": "stream",
     "text": [
      "<class 'pandas.core.frame.DataFrame'>\n",
      "RangeIndex: 9742 entries, 0 to 9741\n",
      "Data columns (total 3 columns):\n",
      " #   Column   Non-Null Count  Dtype \n",
      "---  ------   --------------  ----- \n",
      " 0   movieId  9742 non-null   int64 \n",
      " 1   title    9742 non-null   object\n",
      " 2   genres   9742 non-null   object\n",
      "dtypes: int64(1), object(2)\n",
      "memory usage: 228.5+ KB\n"
     ]
    }
   ],
   "source": [
    "movies_data.info()"
   ]
  },
  {
   "cell_type": "code",
   "execution_count": 4,
   "id": "bce21a07",
   "metadata": {},
   "outputs": [
    {
     "data": {
      "text/html": [
       "<div>\n",
       "<style scoped>\n",
       "    .dataframe tbody tr th:only-of-type {\n",
       "        vertical-align: middle;\n",
       "    }\n",
       "\n",
       "    .dataframe tbody tr th {\n",
       "        vertical-align: top;\n",
       "    }\n",
       "\n",
       "    .dataframe thead th {\n",
       "        text-align: right;\n",
       "    }\n",
       "</style>\n",
       "<table border=\"1\" class=\"dataframe\">\n",
       "  <thead>\n",
       "    <tr style=\"text-align: right;\">\n",
       "      <th></th>\n",
       "      <th>movieId</th>\n",
       "      <th>title</th>\n",
       "      <th>genres</th>\n",
       "    </tr>\n",
       "  </thead>\n",
       "  <tbody>\n",
       "    <tr>\n",
       "      <th>8517</th>\n",
       "      <td>114335</td>\n",
       "      <td>La cravate (1957)</td>\n",
       "      <td>(no genres listed)</td>\n",
       "    </tr>\n",
       "    <tr>\n",
       "      <th>8684</th>\n",
       "      <td>122888</td>\n",
       "      <td>Ben-hur (2016)</td>\n",
       "      <td>(no genres listed)</td>\n",
       "    </tr>\n",
       "    <tr>\n",
       "      <th>8687</th>\n",
       "      <td>122896</td>\n",
       "      <td>Pirates of the Caribbean: Dead Men Tell No Tal...</td>\n",
       "      <td>(no genres listed)</td>\n",
       "    </tr>\n",
       "    <tr>\n",
       "      <th>8782</th>\n",
       "      <td>129250</td>\n",
       "      <td>Superfast! (2015)</td>\n",
       "      <td>(no genres listed)</td>\n",
       "    </tr>\n",
       "    <tr>\n",
       "      <th>8836</th>\n",
       "      <td>132084</td>\n",
       "      <td>Let It Be Me (1995)</td>\n",
       "      <td>(no genres listed)</td>\n",
       "    </tr>\n",
       "    <tr>\n",
       "      <th>8902</th>\n",
       "      <td>134861</td>\n",
       "      <td>Trevor Noah: African American (2013)</td>\n",
       "      <td>(no genres listed)</td>\n",
       "    </tr>\n",
       "    <tr>\n",
       "      <th>9033</th>\n",
       "      <td>141131</td>\n",
       "      <td>Guardians (2016)</td>\n",
       "      <td>(no genres listed)</td>\n",
       "    </tr>\n",
       "    <tr>\n",
       "      <th>9053</th>\n",
       "      <td>141866</td>\n",
       "      <td>Green Room (2015)</td>\n",
       "      <td>(no genres listed)</td>\n",
       "    </tr>\n",
       "    <tr>\n",
       "      <th>9070</th>\n",
       "      <td>142456</td>\n",
       "      <td>The Brand New Testament (2015)</td>\n",
       "      <td>(no genres listed)</td>\n",
       "    </tr>\n",
       "    <tr>\n",
       "      <th>9091</th>\n",
       "      <td>143410</td>\n",
       "      <td>Hyena Road</td>\n",
       "      <td>(no genres listed)</td>\n",
       "    </tr>\n",
       "    <tr>\n",
       "      <th>9138</th>\n",
       "      <td>147250</td>\n",
       "      <td>The Adventures of Sherlock Holmes and Doctor W...</td>\n",
       "      <td>(no genres listed)</td>\n",
       "    </tr>\n",
       "    <tr>\n",
       "      <th>9178</th>\n",
       "      <td>149330</td>\n",
       "      <td>A Cosmic Christmas (1977)</td>\n",
       "      <td>(no genres listed)</td>\n",
       "    </tr>\n",
       "    <tr>\n",
       "      <th>9217</th>\n",
       "      <td>152037</td>\n",
       "      <td>Grease Live (2016)</td>\n",
       "      <td>(no genres listed)</td>\n",
       "    </tr>\n",
       "    <tr>\n",
       "      <th>9248</th>\n",
       "      <td>155589</td>\n",
       "      <td>Noin 7 veljestä (1968)</td>\n",
       "      <td>(no genres listed)</td>\n",
       "    </tr>\n",
       "    <tr>\n",
       "      <th>9259</th>\n",
       "      <td>156605</td>\n",
       "      <td>Paterson</td>\n",
       "      <td>(no genres listed)</td>\n",
       "    </tr>\n",
       "    <tr>\n",
       "      <th>9307</th>\n",
       "      <td>159161</td>\n",
       "      <td>Ali Wong: Baby Cobra (2016)</td>\n",
       "      <td>(no genres listed)</td>\n",
       "    </tr>\n",
       "    <tr>\n",
       "      <th>9316</th>\n",
       "      <td>159779</td>\n",
       "      <td>A Midsummer Night's Dream (2016)</td>\n",
       "      <td>(no genres listed)</td>\n",
       "    </tr>\n",
       "    <tr>\n",
       "      <th>9348</th>\n",
       "      <td>161008</td>\n",
       "      <td>The Forbidden Dance (1990)</td>\n",
       "      <td>(no genres listed)</td>\n",
       "    </tr>\n",
       "    <tr>\n",
       "      <th>9413</th>\n",
       "      <td>165489</td>\n",
       "      <td>Ethel &amp; Ernest (2016)</td>\n",
       "      <td>(no genres listed)</td>\n",
       "    </tr>\n",
       "    <tr>\n",
       "      <th>9426</th>\n",
       "      <td>166024</td>\n",
       "      <td>Whiplash (2013)</td>\n",
       "      <td>(no genres listed)</td>\n",
       "    </tr>\n",
       "    <tr>\n",
       "      <th>9448</th>\n",
       "      <td>167570</td>\n",
       "      <td>The OA</td>\n",
       "      <td>(no genres listed)</td>\n",
       "    </tr>\n",
       "    <tr>\n",
       "      <th>9478</th>\n",
       "      <td>169034</td>\n",
       "      <td>Lemonade (2016)</td>\n",
       "      <td>(no genres listed)</td>\n",
       "    </tr>\n",
       "    <tr>\n",
       "      <th>9514</th>\n",
       "      <td>171495</td>\n",
       "      <td>Cosmos</td>\n",
       "      <td>(no genres listed)</td>\n",
       "    </tr>\n",
       "    <tr>\n",
       "      <th>9515</th>\n",
       "      <td>171631</td>\n",
       "      <td>Maria Bamford: Old Baby</td>\n",
       "      <td>(no genres listed)</td>\n",
       "    </tr>\n",
       "    <tr>\n",
       "      <th>9518</th>\n",
       "      <td>171749</td>\n",
       "      <td>Death Note: Desu nôto (2006–2007)</td>\n",
       "      <td>(no genres listed)</td>\n",
       "    </tr>\n",
       "    <tr>\n",
       "      <th>9525</th>\n",
       "      <td>171891</td>\n",
       "      <td>Generation Iron 2</td>\n",
       "      <td>(no genres listed)</td>\n",
       "    </tr>\n",
       "    <tr>\n",
       "      <th>9534</th>\n",
       "      <td>172497</td>\n",
       "      <td>T2 3-D: Battle Across Time (1996)</td>\n",
       "      <td>(no genres listed)</td>\n",
       "    </tr>\n",
       "    <tr>\n",
       "      <th>9541</th>\n",
       "      <td>172591</td>\n",
       "      <td>The Godfather Trilogy: 1972-1990 (1992)</td>\n",
       "      <td>(no genres listed)</td>\n",
       "    </tr>\n",
       "    <tr>\n",
       "      <th>9562</th>\n",
       "      <td>173535</td>\n",
       "      <td>The Adventures of Sherlock Holmes and Doctor W...</td>\n",
       "      <td>(no genres listed)</td>\n",
       "    </tr>\n",
       "    <tr>\n",
       "      <th>9573</th>\n",
       "      <td>174403</td>\n",
       "      <td>The Putin Interviews (2017)</td>\n",
       "      <td>(no genres listed)</td>\n",
       "    </tr>\n",
       "    <tr>\n",
       "      <th>9611</th>\n",
       "      <td>176601</td>\n",
       "      <td>Black Mirror</td>\n",
       "      <td>(no genres listed)</td>\n",
       "    </tr>\n",
       "    <tr>\n",
       "      <th>9661</th>\n",
       "      <td>181413</td>\n",
       "      <td>Too Funny to Fail: The Life and Death of The D...</td>\n",
       "      <td>(no genres listed)</td>\n",
       "    </tr>\n",
       "    <tr>\n",
       "      <th>9663</th>\n",
       "      <td>181719</td>\n",
       "      <td>Serving in Silence: The Margarethe Cammermeyer...</td>\n",
       "      <td>(no genres listed)</td>\n",
       "    </tr>\n",
       "    <tr>\n",
       "      <th>9669</th>\n",
       "      <td>182727</td>\n",
       "      <td>A Christmas Story Live! (2017)</td>\n",
       "      <td>(no genres listed)</td>\n",
       "    </tr>\n",
       "  </tbody>\n",
       "</table>\n",
       "</div>"
      ],
      "text/plain": [
       "      movieId                                              title   \n",
       "8517   114335                                  La cravate (1957)  \\\n",
       "8684   122888                                     Ben-hur (2016)   \n",
       "8687   122896  Pirates of the Caribbean: Dead Men Tell No Tal...   \n",
       "8782   129250                                  Superfast! (2015)   \n",
       "8836   132084                                Let It Be Me (1995)   \n",
       "8902   134861               Trevor Noah: African American (2013)   \n",
       "9033   141131                                   Guardians (2016)   \n",
       "9053   141866                                  Green Room (2015)   \n",
       "9070   142456                     The Brand New Testament (2015)   \n",
       "9091   143410                                         Hyena Road   \n",
       "9138   147250  The Adventures of Sherlock Holmes and Doctor W...   \n",
       "9178   149330                          A Cosmic Christmas (1977)   \n",
       "9217   152037                                 Grease Live (2016)   \n",
       "9248   155589                             Noin 7 veljestä (1968)   \n",
       "9259   156605                                           Paterson   \n",
       "9307   159161                        Ali Wong: Baby Cobra (2016)   \n",
       "9316   159779                   A Midsummer Night's Dream (2016)   \n",
       "9348   161008                         The Forbidden Dance (1990)   \n",
       "9413   165489                              Ethel & Ernest (2016)   \n",
       "9426   166024                                    Whiplash (2013)   \n",
       "9448   167570                                             The OA   \n",
       "9478   169034                                    Lemonade (2016)   \n",
       "9514   171495                                             Cosmos   \n",
       "9515   171631                            Maria Bamford: Old Baby   \n",
       "9518   171749                  Death Note: Desu nôto (2006–2007)   \n",
       "9525   171891                                  Generation Iron 2   \n",
       "9534   172497                  T2 3-D: Battle Across Time (1996)   \n",
       "9541   172591            The Godfather Trilogy: 1972-1990 (1992)   \n",
       "9562   173535  The Adventures of Sherlock Holmes and Doctor W...   \n",
       "9573   174403                        The Putin Interviews (2017)   \n",
       "9611   176601                                       Black Mirror   \n",
       "9661   181413  Too Funny to Fail: The Life and Death of The D...   \n",
       "9663   181719  Serving in Silence: The Margarethe Cammermeyer...   \n",
       "9669   182727                     A Christmas Story Live! (2017)   \n",
       "\n",
       "                  genres  \n",
       "8517  (no genres listed)  \n",
       "8684  (no genres listed)  \n",
       "8687  (no genres listed)  \n",
       "8782  (no genres listed)  \n",
       "8836  (no genres listed)  \n",
       "8902  (no genres listed)  \n",
       "9033  (no genres listed)  \n",
       "9053  (no genres listed)  \n",
       "9070  (no genres listed)  \n",
       "9091  (no genres listed)  \n",
       "9138  (no genres listed)  \n",
       "9178  (no genres listed)  \n",
       "9217  (no genres listed)  \n",
       "9248  (no genres listed)  \n",
       "9259  (no genres listed)  \n",
       "9307  (no genres listed)  \n",
       "9316  (no genres listed)  \n",
       "9348  (no genres listed)  \n",
       "9413  (no genres listed)  \n",
       "9426  (no genres listed)  \n",
       "9448  (no genres listed)  \n",
       "9478  (no genres listed)  \n",
       "9514  (no genres listed)  \n",
       "9515  (no genres listed)  \n",
       "9518  (no genres listed)  \n",
       "9525  (no genres listed)  \n",
       "9534  (no genres listed)  \n",
       "9541  (no genres listed)  \n",
       "9562  (no genres listed)  \n",
       "9573  (no genres listed)  \n",
       "9611  (no genres listed)  \n",
       "9661  (no genres listed)  \n",
       "9663  (no genres listed)  \n",
       "9669  (no genres listed)  "
      ]
     },
     "execution_count": 4,
     "metadata": {},
     "output_type": "execute_result"
    }
   ],
   "source": [
    "no_genre_cond = movies_data['genres'].str.contains(' ')\n",
    "no_genre_movies_data = movies_data[no_genre_cond]\n",
    "no_genre_movies_data"
   ]
  },
  {
   "cell_type": "code",
   "execution_count": 5,
   "id": "9cdff2d1",
   "metadata": {},
   "outputs": [
    {
     "data": {
      "text/plain": [
       "(34, 3)"
      ]
     },
     "execution_count": 5,
     "metadata": {},
     "output_type": "execute_result"
    }
   ],
   "source": [
    "no_genre_movies_data.shape"
   ]
  },
  {
   "cell_type": "code",
   "execution_count": 6,
   "id": "ec6bda96",
   "metadata": {},
   "outputs": [
    {
     "name": "stdout",
     "output_type": "stream",
     "text": [
      "<class 'pandas.core.frame.DataFrame'>\n",
      "Index: 34 entries, 8517 to 9669\n",
      "Data columns (total 3 columns):\n",
      " #   Column   Non-Null Count  Dtype \n",
      "---  ------   --------------  ----- \n",
      " 0   movieId  34 non-null     int64 \n",
      " 1   title    34 non-null     object\n",
      " 2   genres   34 non-null     object\n",
      "dtypes: int64(1), object(2)\n",
      "memory usage: 1.1+ KB\n"
     ]
    }
   ],
   "source": [
    "no_genre_movies_data.info()"
   ]
  },
  {
   "cell_type": "code",
   "execution_count": 7,
   "id": "632b75b3",
   "metadata": {},
   "outputs": [
    {
     "data": {
      "text/plain": [
       "['La cravate (1957)',\n",
       " 'Ben-hur (2016)',\n",
       " 'Pirates of the Caribbean: Dead Men Tell No Tales (2017)',\n",
       " 'Superfast! (2015)',\n",
       " 'Let It Be Me (1995)',\n",
       " 'Trevor Noah: African American (2013)',\n",
       " 'Guardians (2016)',\n",
       " 'Green Room (2015)',\n",
       " 'The Brand New Testament (2015)',\n",
       " 'Hyena Road',\n",
       " 'The Adventures of Sherlock Holmes and Doctor Watson',\n",
       " 'A Cosmic Christmas (1977)',\n",
       " 'Grease Live (2016)',\n",
       " 'Noin 7 veljestä (1968)',\n",
       " 'Paterson',\n",
       " 'Ali Wong: Baby Cobra (2016)',\n",
       " \"A Midsummer Night's Dream (2016)\",\n",
       " 'The Forbidden Dance (1990)',\n",
       " 'Ethel & Ernest (2016)',\n",
       " 'Whiplash (2013)',\n",
       " 'The OA',\n",
       " 'Lemonade (2016)',\n",
       " 'Cosmos',\n",
       " 'Maria Bamford: Old Baby',\n",
       " 'Death Note: Desu nôto (2006–2007)',\n",
       " 'Generation Iron 2',\n",
       " 'T2 3-D: Battle Across Time (1996)',\n",
       " 'The Godfather Trilogy: 1972-1990 (1992)',\n",
       " 'The Adventures of Sherlock Holmes and Doctor Watson: The Hunt for the Tiger (1980)',\n",
       " 'The Putin Interviews (2017)',\n",
       " 'Black Mirror',\n",
       " 'Too Funny to Fail: The Life and Death of The Dana Carvey Show (2017)',\n",
       " 'Serving in Silence: The Margarethe Cammermeyer Story (1995)',\n",
       " 'A Christmas Story Live! (2017)']"
      ]
     },
     "execution_count": 7,
     "metadata": {},
     "output_type": "execute_result"
    }
   ],
   "source": [
    "names = no_genre_movies_data['title'].tolist()\n",
    "names"
   ]
  },
  {
   "cell_type": "markdown",
   "id": "657575f1",
   "metadata": {},
   "source": [
    "## 1개로 연습"
   ]
  },
  {
   "cell_type": "code",
   "execution_count": 8,
   "id": "7dc5019f",
   "metadata": {},
   "outputs": [
    {
     "data": {
      "text/plain": [
       "'Let It Be Me (1995)'"
      ]
     },
     "execution_count": 8,
     "metadata": {},
     "output_type": "execute_result"
    }
   ],
   "source": [
    "name = names[4]\n",
    "name"
   ]
  },
  {
   "cell_type": "code",
   "execution_count": 9,
   "id": "55fc2ae1",
   "metadata": {},
   "outputs": [],
   "source": [
    "from selenium import webdriver\n",
    "\n",
    "browser = webdriver.Chrome()\n",
    "browser.get('https://www.google.com/')"
   ]
  },
  {
   "cell_type": "code",
   "execution_count": 10,
   "id": "09804a41",
   "metadata": {},
   "outputs": [],
   "source": [
    "from bs4 import BeautifulSoup\n",
    "\n",
    "soup = BeautifulSoup(browser.page_source, 'html.parser')"
   ]
  },
  {
   "cell_type": "code",
   "execution_count": 11,
   "id": "ce296d12",
   "metadata": {},
   "outputs": [],
   "source": [
    "searching_input = browser.find_elements('css selector', '#APjFqb')[0]\n",
    "searching_input.clear()\n",
    "searching_input.send_keys(name)\n",
    "searching_input.send_keys('\\n')"
   ]
  },
  {
   "cell_type": "code",
   "execution_count": 12,
   "id": "5b2bd687",
   "metadata": {},
   "outputs": [
    {
     "data": {
      "text/plain": [
       "'로맨스/뮤지컬'"
      ]
     },
     "execution_count": 12,
     "metadata": {},
     "output_type": "execute_result"
    }
   ],
   "source": [
    "soup = BeautifulSoup(browser.page_source, 'html.parser')\n",
    "a = soup.select('#rcnt > div.XqFnDf > div > div > div.HdbW6.MjUjnf.VM6qJ > div.hHq9Z > div > div > div.MDY31c > div.nwVKo > div.loJjTe > div > span')[0]\n",
    "genre = a.text.split(\"‧\")[1].strip()\n",
    "genre"
   ]
  },
  {
   "cell_type": "code",
   "execution_count": 13,
   "id": "eb7fb112",
   "metadata": {},
   "outputs": [],
   "source": [
    "genre = genre.replace('/', '|')"
   ]
  },
  {
   "cell_type": "code",
   "execution_count": 14,
   "id": "ffb1d396",
   "metadata": {},
   "outputs": [
    {
     "data": {
      "text/plain": [
       "'로맨스|뮤지컬'"
      ]
     },
     "execution_count": 14,
     "metadata": {},
     "output_type": "execute_result"
    }
   ],
   "source": [
    "genre"
   ]
  },
  {
   "cell_type": "markdown",
   "id": "72b46ad3",
   "metadata": {},
   "source": [
    "## 전체 결측치를 대상으로 크롤링 후 저장"
   ]
  },
  {
   "cell_type": "code",
   "execution_count": 60,
   "id": "bcbee784",
   "metadata": {},
   "outputs": [
    {
     "name": "stdout",
     "output_type": "stream",
     "text": [
      "장르 결측치 개수 :  34\n",
      "      movieId              title        genres\n",
      "8517   114335  La cravate (1957)  Short|Silent\n",
      "      movieId           title            genres\n",
      "8684   122888  Ben-hur (2016)  Action|Adventure\n",
      "      movieId                                              title   \n",
      "8687   122896  Pirates of the Caribbean: Dead Men Tell No Tal...  \\\n",
      "\n",
      "                genres  \n",
      "8687  Adventure|Action  \n",
      "      movieId              title         genres\n",
      "8782   129250  Superfast! (2015)  Comedy|Action\n",
      "      movieId                title           genres\n",
      "8836   132084  Let It Be Me (1995)  Romance|Musical\n",
      "정보 X Trevor Noah: African American (2013)\n",
      "정보 X Guardians (2016)\n",
      "      movieId              title             genres\n",
      "9053   141866  Green Room (2015)  Horror|Indie film\n",
      "      movieId                           title          genres\n",
      "9070   142456  The Brand New Testament (2015)  Fantasy|Comedy\n",
      "      movieId       title      genres\n",
      "9091   143410  Hyena Road  War|Action\n",
      "정보 X The Adventures of Sherlock Holmes and Doctor Watson\n",
      "      movieId                      title           genres\n",
      "9178   149330  A Cosmic Christmas (1977)  Animation|Short\n",
      "      movieId               title           genres\n",
      "9217   152037  Grease Live (2016)  Musical|Romance\n",
      "정보 X Noin 7 veljestä (1968)\n",
      "정보 X Paterson\n",
      "정보 X Ali Wong: Baby Cobra (2016)\n",
      "      movieId                             title         genres\n",
      "9316   159779  A Midsummer Night's Dream (2016)  Drama|Romance\n",
      "      movieId                       title         genres\n",
      "9348   161008  The Forbidden Dance (1990)  Dance|Musical\n",
      "      movieId                  title           genres\n",
      "9413   165489  Ethel & Ernest (2016)  Animation|Drama\n",
      "      movieId            title genres\n",
      "9426   166024  Whiplash (2013)  Short\n",
      "      movieId   title    genres\n",
      "9448   167570  The OA  Thriller\n",
      "      movieId            title   genres\n",
      "9478   169034  Lemonade (2016)  Musical\n",
      "정보 X Cosmos\n",
      "      movieId                    title  genres\n",
      "9515   171631  Maria Bamford: Old Baby  Comedy\n",
      "정보 X Death Note: Desu nôto (2006–2007)\n",
      "      movieId              title             genres\n",
      "9525   171891  Generation Iron 2  Documentary|Sport\n",
      "      movieId                              title         genres\n",
      "9534   172497  T2 3-D: Battle Across Time (1996)  Action|Sci-fi\n",
      "정보 X The Godfather Trilogy: 1972-1990 (1992)\n",
      "정보 X The Adventures of Sherlock Holmes and Doctor Watson: The Hunt for the Tiger (1980)\n",
      "      movieId                        title       genres\n",
      "9573   174403  The Putin Interviews (2017)  Documentary\n",
      "      movieId         title  genres\n",
      "9611   176601  Black Mirror  Sci-fi\n",
      "      movieId                                              title   \n",
      "9661   181413  Too Funny to Fail: The Life and Death of The D...  \\\n",
      "\n",
      "                  genres  \n",
      "9661  Documentary|Comedy  \n",
      "      movieId                                              title       genres\n",
      "9663   181719  Serving in Silence: The Margarethe Cammermeyer...  Drama|Drama\n",
      "      movieId                           title          genres\n",
      "9669   182727  A Christmas Story Live! (2017)  Musical|Comedy\n",
      "크롤링 후 결측치 개수 :  10\n",
      "크롤링으로 찾은 장르 :  24\n"
     ]
    }
   ],
   "source": [
    "import time\n",
    "print(\"장르 결측치 개수 : \", len(names))\n",
    "count = 0\n",
    "for name in names:\n",
    "    # 검색창 찾아서 검색 하기\n",
    "    soup = BeautifulSoup(browser.page_source, 'html.parser')\n",
    "    searching_input = browser.find_elements('css selector','#APjFqb')[0]\n",
    "    searching_input.clear()\n",
    "    searching_input.send_keys(name)\n",
    "    searching_input.send_keys('\\n')\n",
    "    soup = BeautifulSoup(browser.page_source, 'html.parser')\n",
    "\n",
    "    try: \n",
    "        soup = BeautifulSoup(browser.page_source, 'html.parser')\n",
    "        genre = soup.select('#rcnt > div.XqFnDf > div > div > div.HdbW6.MjUjnf.VM6qJ > div.hHq9Z > div > div > div.MDY31c > div.nwVKo > div.loJjTe > div > span')[0]\n",
    "        genre = genre.text.split(\"‧\")[1].strip()\n",
    "        genre = genre.replace('/', '|')\n",
    "        time.sleep(1)\n",
    "\n",
    "        movie_dataset.loc[movie_dataset['title'] == name, 'genres'] = genre\n",
    "        print(movie_dataset[movie_dataset['title'] == name])\n",
    "\n",
    "\n",
    "    except IndexError:\n",
    "        # 장르 정보 못찾을 때\n",
    "        try:\n",
    "            soup = BeautifulSoup(browser.page_source, 'html.parser')\n",
    "            genre = soup.select('#rcnt > div.XqFnDf > div > div > div.HdbW6.MjUjnf.VM6qJ > div.hHq9Z > div > div > div.MDY31c > div.nwVKo > div.loJjTe > div > span')[1]\n",
    "            genre = genre.text.split(\"‧\")[1].strip()\n",
    "            genre = genre.replace('/', '|')\n",
    "            time.sleep(1)\n",
    "\n",
    "\n",
    "            movie_dataset.loc[movie_dataset['title'] == name, 'genres'] = genre\n",
    "            print(movie_dataset[movie_dataset['title'] == name])\n",
    "\n",
    "        # 장르 정보 없을 때\n",
    "        except IndexError:\n",
    "            genre = \"\"\n",
    "            print(\"정보 X\", name)\n",
    "            count += 1\n",
    "            \n",
    "print(\"크롤링 후 결측치 개수 : \", count)\n",
    "print(\"크롤링으로 찾은 장르 : \",len(names) - count )"
   ]
  },
  {
   "cell_type": "code",
   "execution_count": 61,
   "id": "0d79a8f0",
   "metadata": {},
   "outputs": [],
   "source": [
    "## 장르 크롤링 한 데이터셋 추출\n",
    "movie_dataset.to_csv('movies_genre_crawling.csv', index=False)"
   ]
  }
 ],
 "metadata": {
  "kernelspec": {
   "display_name": "Python 3 (ipykernel)",
   "language": "python",
   "name": "python3"
  },
  "language_info": {
   "codemirror_mode": {
    "name": "ipython",
    "version": 3
   },
   "file_extension": ".py",
   "mimetype": "text/x-python",
   "name": "python",
   "nbconvert_exporter": "python",
   "pygments_lexer": "ipython3",
   "version": "3.9.7"
  }
 },
 "nbformat": 4,
 "nbformat_minor": 5
}
